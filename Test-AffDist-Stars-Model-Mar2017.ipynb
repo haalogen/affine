{
 "cells": [
  {
   "cell_type": "code",
   "execution_count": 1,
   "metadata": {
    "collapsed": false
   },
   "outputs": [],
   "source": [
    "\"\"\"\n",
    "This program tests Affine+Ditrortion35 model\n",
    "on artificially generated data (pairs of star coordinates)\n",
    "\"\"\";"
   ]
  },
  {
   "cell_type": "code",
   "execution_count": 2,
   "metadata": {
    "collapsed": true
   },
   "outputs": [],
   "source": [
    "from pylab import *\n",
    "from PIL import Image, ImageDraw\n",
    "from functools import partial"
   ]
  },
  {
   "cell_type": "code",
   "execution_count": 3,
   "metadata": {
    "collapsed": true
   },
   "outputs": [],
   "source": [
    "# for random consistency\n",
    "np.random.seed(123456)"
   ]
  },
  {
   "cell_type": "markdown",
   "metadata": {},
   "source": [
    "Create NUM_STAR_PAIRS (at least 5 because it's minimum needed for affine+distortion35 model)   \n",
    "pairs of stars with coordinates in range from (MIN_X, MIN_Y) to (MAX_X, MAX_Y)\n",
    "with OFFSET from edges"
   ]
  },
  {
   "cell_type": "code",
   "execution_count": 4,
   "metadata": {
    "collapsed": false
   },
   "outputs": [
    {
     "name": "stdout",
     "output_type": "stream",
     "text": [
      "Left X: [ 315  996  748 1323  421 1001  805 1109  282  465  926  386  708 1540 1542\n",
      "  782 1253  553  940  720]\n",
      "Left Y: [1120 1160  960  444 1449  856 1191 1489 1486 1486 1703 1269 1215 1259 1438\n",
      " 1733  669 1239  694 1116]\n",
      "\n"
     ]
    }
   ],
   "source": [
    "NUM_STAR_PAIRS = 20\n",
    "N = NUM_STAR_PAIRS\n",
    "\n",
    "MIN_X = 0\n",
    "MAX_X = 2000\n",
    "MIN_Y = 0\n",
    "MAX_Y = 2000\n",
    "\n",
    "OFFSET = 250\n",
    "\n",
    "width = abs(MAX_X - MIN_X)\n",
    "height = abs(MAX_Y - MIN_Y)\n",
    "\n",
    "xCenter = (MAX_X - MIN_X) // 2\n",
    "yCenter = (MAX_Y - MIN_Y) // 2\n",
    "\n",
    "\n",
    "leftX = randint(low = MIN_X + OFFSET,\n",
    "                high = MAX_X - OFFSET,\n",
    "                size=NUM_STAR_PAIRS)\n",
    "leftY = randint(low = MIN_Y + OFFSET,\n",
    "                high = MAX_Y - OFFSET,\n",
    "                size=NUM_STAR_PAIRS)\n",
    "\n",
    "\n",
    "\n",
    "print('''\\\n",
    "Left X: {}\n",
    "Left Y: {}\n",
    "'''.format(leftX, leftY)\n",
    ")"
   ]
  },
  {
   "cell_type": "code",
   "execution_count": 5,
   "metadata": {
    "collapsed": false
   },
   "outputs": [],
   "source": [
    "ELL_RAD = 3\n",
    "\n",
    "# Draw star pairs\n",
    "scatterOriginal = Image.new('RGB', (width, height), 'lightgray')\n",
    "\n",
    "draw = ImageDraw.Draw(scatterOriginal)\n",
    "\n",
    "# Central point\n",
    "draw.ellipse((xCenter - ELL_RAD, yCenter - ELL_RAD, \n",
    "              xCenter + ELL_RAD, yCenter + ELL_RAD), fill='darkgreen')\n",
    "\n",
    "for i in range(NUM_STAR_PAIRS): # draw star points\n",
    "    draw.ellipse((leftX[i] - ELL_RAD, leftY[i] - ELL_RAD, \n",
    "                  leftX[i] + ELL_RAD, leftY[i] + ELL_RAD), fill='blue')\n"
   ]
  },
  {
   "cell_type": "code",
   "execution_count": 6,
   "metadata": {
    "collapsed": true
   },
   "outputs": [],
   "source": [
    "scatterOriginal.save('orig.png')"
   ]
  },
  {
   "cell_type": "markdown",
   "metadata": {},
   "source": [
    "Create affine transformed pairs of stars coordinates  \n",
    "with affine coeffincients  \n",
    "(a,b,  \n",
    " c,d) -- for rotation matrix  \n",
    "(e,f) -- for transition (shift)   "
   ]
  },
  {
   "cell_type": "code",
   "execution_count": 7,
   "metadata": {
    "collapsed": false
   },
   "outputs": [],
   "source": [
    "def affine_transform(xy, coeffs=(1,0,0,1,0,0)):\n",
    "    assert coeffs != (1,0,0,1,0,0)\n",
    "        \n",
    "    _a, _b, _c, _d, _e, _f = coeffs\n",
    "    x, y = xy\n",
    "    return [\n",
    "        _a * x + _b * y + _e,\n",
    "        _c * x + _d * y + _f\n",
    "    ]"
   ]
  },
  {
   "cell_type": "code",
   "execution_count": 8,
   "metadata": {
    "collapsed": false
   },
   "outputs": [
    {
     "name": "stdout",
     "output_type": "stream",
     "text": [
      "Right X: [  563.2565  1241.1996   993.0148  1561.5853   671.0401  1244.0471\n",
      "  1051.3525  1355.9489   532.9802   715.0835  1175.3436   634.9516\n",
      "   954.9958  1783.227   1786.4702  1032.2592  1493.5033   800.9233\n",
      "  1182.212    966.244 ]\n",
      "Right Y: [ 1169.779   1201.8352  1004.3016   480.3298  1498.2849   897.077\n",
      "  1235.1603  1530.2585  1537.0102  1534.8508  1746.9101  1318.2839\n",
      "  1260.3601  1294.6437  1474.0318  1778.6783   706.6733  1286.2443\n",
      "   735.4242  1160.9908]\n",
      "\n"
     ]
    }
   ],
   "source": [
    "A_COEFF = 0.9951\n",
    "B_COEFF = 0.0070\n",
    "C_COEFF = -0.0118\n",
    "D_COEFF = 1.0023\n",
    "E_COEFF = 241.96\n",
    "F_COEFF = 50.92\n",
    "AFFINE_COEFFS = (A_COEFF, B_COEFF, C_COEFF, D_COEFF, E_COEFF, F_COEFF)\n",
    "\n",
    "affinePerfect = partial(affine_transform, coeffs=AFFINE_COEFFS)\n",
    "\n",
    "rightCoords = array(list(map(affinePerfect, zip(leftX, leftY))))\n",
    "rightX = rightCoords[:, 0]\n",
    "rightY = rightCoords[:, 1]\n",
    "\n",
    "print('''\\\n",
    "Right X: {}\n",
    "Right Y: {}\n",
    "'''.format(rightX, rightY)\n",
    ")"
   ]
  },
  {
   "cell_type": "markdown",
   "metadata": {},
   "source": [
    "Create distorted pairs of stars coordinates  \n",
    "with distortion coefficients  \n",
    "eps1, eps2 -- for 3rd order distortion  \n",
    "eps3, eps4 -- for 5th order distortion  "
   ]
  },
  {
   "cell_type": "code",
   "execution_count": 9,
   "metadata": {
    "collapsed": true
   },
   "outputs": [],
   "source": [
    "def distort_transform(xy, coeffs=(0,0)):\n",
    "    assert coeffs != (0,0)\n",
    "    \n",
    "    # eps1, eps3 -- for left img\n",
    "    # eps2, eps4 -- for right img\n",
    "    _eps1_or_eps2, _eps3_or_eps4  = coeffs\n",
    "    \n",
    "    x, y = xy\n",
    "    \n",
    "    # squared distance from center to (x, y) point\n",
    "    _r = (x - xCenter) ** 2 + (y - yCenter) ** 2\n",
    "    \n",
    "    return [\n",
    "        x + (x - xCenter) * ( _r * _eps1_or_eps2 + (_r ** 2) * _eps3_or_eps4 ),\n",
    "        y + (y - yCenter) * ( _r * _eps1_or_eps2 + (_r ** 2) * _eps3_or_eps4 )\n",
    "    ]"
   ]
  },
  {
   "cell_type": "code",
   "execution_count": 10,
   "metadata": {
    "collapsed": false
   },
   "outputs": [
    {
     "name": "stdout",
     "output_type": "stream",
     "text": [
      "Left X: [  301.85717022   995.99687359   747.48645156  1328.11083421   408.33770618\n",
      "  1001.00063071   804.54249044  1109.95812091   257.69335992   453.69485935\n",
      "   924.52116535   375.24324542   706.74718651  1547.20007445  1552.45222209\n",
      "   776.68417575  1254.46983662   548.96441226   939.81362939   719.18115946]\n",
      "Left Y: [ 1122.30239354  1160.12505657   959.91848438   435.20240303  1458.81929175\n",
      "   855.90917769  1191.44812475  1493.29835894  1502.45268396  1496.26971656\n",
      "  1717.04892915  1273.71264981  1215.92244829  1262.45336904  1446.44662966\n",
      "  1750.87384942   667.07701217  1241.15773036   693.0495099   1116.33923394]\n",
      "\n",
      "Right X: [  559.84178869  1242.10672889   993.0147812   1570.88668006   667.1852761\n",
      "  1244.70789628  1051.46806176  1360.57186778   525.91470077   711.66667698\n",
      "  1178.25699198   631.92820181   954.87451215  1797.48416878  1801.81308189\n",
      "  1032.80492887  1498.93721696   800.01409263  1182.92536935   966.20796014]\n",
      "Right Y: [ 1171.10642965  1202.59428311  1004.30161158   471.722648    1504.12391121\n",
      "   896.79831963  1235.68949601  1537.1453536   1545.1345775   1541.26492669\n",
      "  1759.32025865  1320.91998597  1261.06177931  1300.00713226  1483.27946624\n",
      "  1791.85120031   703.44350816  1287.55161234   734.38837214  1161.16268312]\n",
      "\n"
     ]
    }
   ],
   "source": [
    "EPS1 = 3e-8\n",
    "EPS2 = 4e-8\n",
    "EPS3 = 2e-14\n",
    "EPS4 = -2e-14\n",
    "\n",
    "DISTORT_COEFFS_LEFT = (EPS1, EPS3)\n",
    "DISTORT_COEFFS_RIGHT = (EPS2, EPS4)\n",
    "\n",
    "distortLeft = partial(distort_transform, coeffs=DISTORT_COEFFS_LEFT)\n",
    "distortRight = partial(distort_transform, coeffs=DISTORT_COEFFS_RIGHT)\n",
    "\n",
    "leftCoords = array(list(map(distortLeft, zip(leftX, leftY))))\n",
    "leftX = leftCoords[:, 0]\n",
    "leftY = leftCoords[:, 1]\n",
    "\n",
    "rightCoords = array(list(map(distortRight, zip(rightX, rightY))))\n",
    "rightX = rightCoords[:, 0]\n",
    "rightY = rightCoords[:, 1]\n",
    "\n",
    "\n",
    "print('''\\\n",
    "Left X: {}\n",
    "Left Y: {}\n",
    "'''.format(leftX, leftY)\n",
    ")\n",
    "print('''\\\n",
    "Right X: {}\n",
    "Right Y: {}\n",
    "'''.format(rightX, rightY)\n",
    ")"
   ]
  },
  {
   "cell_type": "code",
   "execution_count": 11,
   "metadata": {
    "collapsed": true
   },
   "outputs": [],
   "source": [
    "# inputLeftX, inputLeftY, inputRightX, inputRightY are coordinates we get from measuring system\n",
    "inputLeftX = leftX\n",
    "inputLeftY = leftY\n",
    "\n",
    "inputRightX = rightX\n",
    "inputRightY = rightY"
   ]
  },
  {
   "cell_type": "code",
   "execution_count": 12,
   "metadata": {
    "collapsed": false
   },
   "outputs": [],
   "source": [
    "def correct_distort(xy, coeffs=(0,0)):\n",
    "    assert coeffs != (0,0)\n",
    "    \n",
    "    # eps1, eps3 -- for left img\n",
    "    # eps2, eps4 -- for right img\n",
    "    _eps1_or_eps2, _eps3_or_eps4  = coeffs\n",
    "    \n",
    "    x, y = xy\n",
    "    \n",
    "    # squared distance from center to (x, y) point\n",
    "    _r = (x - xCenter) ** 2 + (y - yCenter) ** 2\n",
    "    \n",
    "    return [\n",
    "        x - (x - xCenter) * ( _r * _eps1_or_eps2 + (_r ** 2) * _eps3_or_eps4 ),\n",
    "        y - (y - yCenter) * ( _r * _eps1_or_eps2 + (_r ** 2) * _eps3_or_eps4 )\n",
    "    ]"
   ]
  },
  {
   "cell_type": "markdown",
   "metadata": {},
   "source": [
    "Check out that if we do backward distort+affine transform then coordinates fit well."
   ]
  },
  {
   "cell_type": "code",
   "execution_count": 13,
   "metadata": {
    "collapsed": false
   },
   "outputs": [
    {
     "name": "stdout",
     "output_type": "stream",
     "text": [
      "IF PERFECTLY FOUND COEFFICIENTS\n",
      "Backward distort+affine Left:\n",
      "Left X: [  564.15350127  1241.19960531   993.01802151  1561.30671411   672.03621066\n",
      "  1244.04710002  1051.35579107  1355.92018012   536.12012721   715.93848164\n",
      "  1175.44228552   635.61392005   955.01270254  1782.8968358   1785.74780543\n",
      "  1032.72317631  1493.47611337   801.04354     1182.21386921   966.25142578]\n",
      "Left Y: [ 1169.60987897  1201.83490248  1004.30207632   480.82208144  1497.49070769\n",
      "   897.07717394  1235.1569913   1530.13302392  1534.82181389  1534.05327067\n",
      "  1745.89692614  1317.9828493   1260.34729785  1294.48863598  1473.4556375\n",
      "  1777.0632429    706.70978378  1286.17786977   735.43344798  1160.98760398]\n",
      "\n",
      "Backward distort Right:\n",
      "Right X: [  563.3304553   1241.1896863    993.0148      1561.25050152   671.15679627\n",
      "  1244.04184914  1051.35173371  1355.79861007   533.2293412    715.18868907\n",
      "  1175.23872803   635.02049598   954.9967594   1782.73205251  1786.02155487\n",
      "  1032.23957284  1493.346353     800.93526825  1182.20389662   966.2441145 ]\n",
      "Right Y: [ 1169.75025073  1201.82690424  1004.3016       480.63961009  1498.10813685\n",
      "   897.07921447  1235.15679092  1530.0346125   1536.723721    1534.65333703\n",
      "  1746.46337748  1318.22382994  1260.35454964  1294.45750473  1473.76138663\n",
      "  1778.20453606   706.76658559  1286.22709135   735.43596629  1160.99025393]\n",
      "\n"
     ]
    }
   ],
   "source": [
    "# Backward distort\n",
    "\n",
    "correctDistortLeftPerfect = partial(correct_distort, coeffs=DISTORT_COEFFS_LEFT)\n",
    "leftCoords = array(list(map(correctDistortLeftPerfect, zip(leftX, leftY))))\n",
    "leftX = leftCoords[:, 0]\n",
    "leftY = leftCoords[:, 1]\n",
    "\n",
    "\n",
    "correctDistortRightPerfect = partial(correct_distort, coeffs=DISTORT_COEFFS_RIGHT)\n",
    "rightCoords = array(list(map(correctDistortRightPerfect, zip(rightX, rightY))))\n",
    "rightX = rightCoords[:, 0]\n",
    "rightY = rightCoords[:, 1]\n",
    "\n",
    "\n",
    "# Backward affine\n",
    "leftCoords = array(list(map(affinePerfect, zip(leftX, leftY))))\n",
    "leftX = leftCoords[:, 0]\n",
    "leftY = leftCoords[:, 1]\n",
    "\n",
    "print('IF PERFECTLY FOUND COEFFICIENTS')\n",
    "print('''Backward distort+affine Left:\n",
    "Left X: {}\n",
    "Left Y: {}\n",
    "'''.format(leftX, leftY)\n",
    ")\n",
    "\n",
    "print('''Backward distort Right:\n",
    "Right X: {}\n",
    "Right Y: {}\n",
    "'''.format(rightX, rightY)\n",
    ")"
   ]
  },
  {
   "cell_type": "code",
   "execution_count": 14,
   "metadata": {
    "collapsed": false
   },
   "outputs": [
    {
     "name": "stdout",
     "output_type": "stream",
     "text": [
      "delX: [ 0.82304597  0.00991901  0.00322151  0.0562126   0.87941439  0.00525088\n",
      "  0.00405735  0.12157005  2.89078602  0.74979257  0.2035575   0.59342407\n",
      "  0.01594314  0.16478329  0.27374944  0.48360347  0.12976037  0.10827176\n",
      "  0.00997259  0.00731128]\n",
      "delY: [  1.40371754e-01   7.99823767e-03   4.76317475e-04   1.82471342e-01\n",
      "   6.17429162e-01   2.04053308e-03   2.00375038e-04   9.84114224e-02\n",
      "   1.90190711e+00   6.00066364e-01   5.66451342e-01   2.40980641e-01\n",
      "   7.25179103e-03   3.11312483e-02   3.05749128e-01   1.14129316e+00\n",
      "   5.68018081e-02   4.92215786e-02   2.51830987e-03   2.64994996e-03]\n",
      "IF PERFECTLY FOUND COEFFICIENTS\n",
      "mX: 2.8908 mY: 1.9019 m: 2.8908\n",
      "sigSqr: 0.8675\n"
     ]
    }
   ],
   "source": [
    "delX = abs(leftX - rightX)\n",
    "delY = abs(leftY - rightY)\n",
    "print(\"delX:\", delX)\n",
    "print(\"delY:\", delY)\n",
    "\n",
    "sigSqr = 1.0 / N * sum(delX**2 + delY**2)\n",
    "mX = max(delX)\n",
    "mY = max(delY)\n",
    "m = max(mX, mY)\n",
    "\n",
    "print(\"IF PERFECTLY FOUND COEFFICIENTS\")\n",
    "print(\"mX: %.4f mY: %.4f m: %.4f\" % (mX, mY, m))\n",
    "print(\"sigSqr: %.4f\" % sigSqr)"
   ]
  },
  {
   "cell_type": "code",
   "execution_count": null,
   "metadata": {
    "collapsed": true
   },
   "outputs": [],
   "source": []
  },
  {
   "cell_type": "markdown",
   "metadata": {},
   "source": [
    "### Test affine model"
   ]
  },
  {
   "cell_type": "markdown",
   "metadata": {},
   "source": [
    "Calculate model coefficients"
   ]
  },
  {
   "cell_type": "code",
   "execution_count": 15,
   "metadata": {
    "collapsed": true
   },
   "outputs": [],
   "source": [
    "leftX = inputLeftX\n",
    "leftY = inputLeftY\n",
    "rightX = inputRightX\n",
    "rightY = inputRightY"
   ]
  },
  {
   "cell_type": "code",
   "execution_count": 16,
   "metadata": {
    "collapsed": false
   },
   "outputs": [
    {
     "name": "stdout",
     "output_type": "stream",
     "text": [
      "xi:\n",
      " [  559.84178869  1171.10642965  1242.10672889  1202.59428311   993.0147812\n",
      "  1004.30161158  1570.88668006   471.722648     667.1852761   1504.12391121\n",
      "  1244.70789628   896.79831963  1051.46806176  1235.68949601  1360.57186778\n",
      "  1537.1453536    525.91470077  1545.1345775    711.66667698  1541.26492669\n",
      "  1178.25699198  1759.32025865   631.92820181  1320.91998597   954.87451215\n",
      "  1261.06177931  1797.48416878  1300.00713226  1801.81308189  1483.27946624\n",
      "  1032.80492887  1791.85120031  1498.93721696   703.44350816   800.01409263\n",
      "  1287.55161234  1182.92536935   734.38837214   966.20796014  1161.16268312]\n"
     ]
    }
   ],
   "source": [
    "xi = np.zeros(2 * NUM_STAR_PAIRS)\n",
    "\n",
    "for i in range(NUM_STAR_PAIRS): # fill the xi vector\n",
    "    xi[2 * i] = rightX[i]\n",
    "    xi[2 * i + 1] = rightY[i]\n",
    "\n",
    "print('xi:\\n', xi)"
   ]
  },
  {
   "cell_type": "code",
   "execution_count": 17,
   "metadata": {
    "collapsed": false
   },
   "outputs": [
    {
     "name": "stdout",
     "output_type": "stream",
     "text": [
      "\n",
      "Affine coefficients:\n",
      "0.9916 0.0107 -0.0078 1.0007 \n",
      "245.11 48.30\n",
      "\n",
      "Perfect Affine coefficients:\n",
      "0.9951 0.0070 -0.0118 1.0023 \n",
      "241.96 50.92\n",
      "cond(A):  7553.54281032\n"
     ]
    }
   ],
   "source": [
    "k = 6 # num of coeff-s\n",
    "\n",
    "z = np.zeros(k)\n",
    "arr = np.zeros((2 * NUM_STAR_PAIRS, k)) # matrix A\n",
    "\n",
    "for i in range(NUM_STAR_PAIRS): # fill the A matrix\n",
    "    \n",
    "    arr[2 * i] = [leftX[i], leftY[i], 0, 0, 1, 0]\n",
    "\n",
    "    arr[2 * i + 1] = [0, 0, leftX[i], leftY[i], 0, 1]\n",
    "\n",
    "    \n",
    "p_arr = pinv(arr, rcond=1e-20)\n",
    "z = np.dot(p_arr, xi)\n",
    "\n",
    "print(\"\"\"\n",
    "Affine coefficients:\n",
    "%.4f %.4f %.4f %.4f \n",
    "%.2f %.2f\"\"\" % tuple(z))\n",
    "print(\"\"\"\n",
    "Perfect Affine coefficients:\n",
    "%.4f %.4f %.4f %.4f \n",
    "%.2f %.2f\"\"\" % AFFINE_COEFFS)\n",
    "print('cond(A): ', np.linalg.cond(arr))"
   ]
  },
  {
   "cell_type": "code",
   "execution_count": null,
   "metadata": {
    "collapsed": true
   },
   "outputs": [],
   "source": []
  },
  {
   "cell_type": "markdown",
   "metadata": {},
   "source": [
    "Calculate error metrics"
   ]
  },
  {
   "cell_type": "code",
   "execution_count": 18,
   "metadata": {
    "collapsed": true
   },
   "outputs": [],
   "source": [
    "\"\"\"\n",
    "Align images and blend\n",
    "\n",
    "a) Affine\n",
    "\"\"\";"
   ]
  },
  {
   "cell_type": "code",
   "execution_count": 19,
   "metadata": {
    "collapsed": false
   },
   "outputs": [
    {
     "name": "stdout",
     "output_type": "stream",
     "text": [
      "Backward affine Left:\n",
      "Left X: [  556.42121457  1245.14446771   996.5795505   1566.73121792   665.60301507\n",
      "  1246.8571424   1055.62998327  1361.70854259   516.68785088   710.97982826\n",
      "  1180.21621818   630.80905383   958.91609345  1792.81869219  1799.99190872\n",
      "  1033.98011307  1496.18420215   802.72585961  1184.44380347   970.18222522]\n",
      "Left Y: [ 1169.05161982  1201.51948329  1003.09792171   473.50909198  1504.98108806\n",
      "   897.04956758  1234.3490306   1534.04499315  1549.81327533  1542.1063632\n",
      "  1759.39153952  1320.00005301  1259.59886283  1299.64680136  1483.72952458\n",
      "  1794.38655      706.11868812  1286.0752658    734.54904443  1159.84879113]\n",
      "\n",
      "Right:\n",
      "Right X: [  559.84178869  1242.10672889   993.0147812   1570.88668006   667.1852761\n",
      "  1244.70789628  1051.46806176  1360.57186778   525.91470077   711.66667698\n",
      "  1178.25699198   631.92820181   954.87451215  1797.48416878  1801.81308189\n",
      "  1032.80492887  1498.93721696   800.01409263  1182.92536935   966.20796014]\n",
      "Right Y: [ 1171.10642965  1202.59428311  1004.30161158   471.722648    1504.12391121\n",
      "   896.79831963  1235.68949601  1537.1453536   1545.1345775   1541.26492669\n",
      "  1759.32025865  1320.91998597  1261.06177931  1300.00713226  1483.27946624\n",
      "  1791.85120031   703.44350816  1287.55161234   734.38837214  1161.16268312]\n",
      "\n"
     ]
    }
   ],
   "source": [
    "affine = partial(affine_transform, coeffs=tuple(z))\n",
    "\n",
    "# Calc estimated (affine transformed) points\n",
    "leftCoords = array(list(map(affine, zip(leftX, leftY))))\n",
    "\n",
    "# Estimated coordinates\n",
    "estLeftX = leftCoords[:, 0]\n",
    "estLeftY = leftCoords[:, 1]\n",
    "\n",
    "\n",
    "print('''Backward affine Left:\n",
    "Left X: {}\n",
    "Left Y: {}\n",
    "'''.format(estLeftX, estLeftY)\n",
    ")\n",
    "\n",
    "print('''Right:\n",
    "Right X: {}\n",
    "Right Y: {}\n",
    "'''.format(rightX, rightY)\n",
    ")"
   ]
  },
  {
   "cell_type": "markdown",
   "metadata": {},
   "source": [
    "1) $\\Delta x_i, \\Delta y_i, \\; i = 1,N$\n",
    "\n",
    "2) $\\sigma^2 = \\frac{1}{N} \\sum\\limits_{i=1}^{N} \n",
    "                \\left( \\Delta x_i^2 + \\Delta y_i^2 \\right)$"
   ]
  },
  {
   "cell_type": "code",
   "execution_count": 20,
   "metadata": {
    "collapsed": false
   },
   "outputs": [
    {
     "name": "stdout",
     "output_type": "stream",
     "text": [
      "delX: [ 3.42057412  3.03773881  3.56476931  4.15546215  1.58226102  2.14924612\n",
      "  4.16192151  1.13667481  9.22684989  0.68684871  1.9592262   1.11914798\n",
      "  4.0415813   4.6654766   1.82117318  1.17518421  2.75301481  2.71176698\n",
      "  1.51843413  3.97426509]\n",
      "delY: [ 2.05480983  1.07479981  1.20368987  1.78644398  0.85717685  0.25124795\n",
      "  1.34046541  3.10036045  4.67869783  0.8414365   0.07128086  0.91993296\n",
      "  1.46291649  0.3603309   0.45005834  2.5353497   2.67517996  1.47634654\n",
      "  0.16067229  1.313892  ]\n",
      "mX: 9.2268 mY: 4.6787 m: 9.2268\n",
      "sigSqr: 15.4416\n"
     ]
    }
   ],
   "source": [
    "delX = abs(estLeftX - rightX)\n",
    "delY = abs(estLeftY - rightY)\n",
    "print(\"delX:\", delX)\n",
    "print(\"delY:\", delY)\n",
    "\n",
    "sigSqr = 1.0 / N * sum(delX**2 + delY**2)\n",
    "mX = max(delX)\n",
    "mY = max(delY)\n",
    "m = max(mX, mY)\n",
    "\n",
    "print(\"mX: %.4f mY: %.4f m: %.4f\" % (mX, mY, m))\n",
    "print(\"sigSqr: %.4f\" % sigSqr)"
   ]
  },
  {
   "cell_type": "markdown",
   "metadata": {},
   "source": [
    "Plot aligned star pairs"
   ]
  },
  {
   "cell_type": "code",
   "execution_count": 21,
   "metadata": {
    "collapsed": true
   },
   "outputs": [],
   "source": [
    "scatter = Image.new('RGB', (width, height), 'lightgray')\n",
    "\n",
    "\n",
    "draw = ImageDraw.Draw(scatter)\n",
    "draw.ellipse((xCenter - ELL_RAD, yCenter - ELL_RAD, \n",
    "              xCenter + ELL_RAD, yCenter + ELL_RAD), fill='darkgreen')\n",
    "\n",
    "\n",
    "for i in range(NUM_STAR_PAIRS): # draw star points\n",
    "    draw.ellipse((estLeftX[i] - ELL_RAD, estLeftY[i] - ELL_RAD, \n",
    "                  estLeftX[i] + ELL_RAD, estLeftY[i] + ELL_RAD), fill='red')\n",
    "    \n",
    "    draw.ellipse((rightX[i] - ELL_RAD, rightY[i] - ELL_RAD, \n",
    "                  rightX[i] + ELL_RAD, rightY[i] + ELL_RAD), fill='blue')"
   ]
  },
  {
   "cell_type": "code",
   "execution_count": 22,
   "metadata": {
    "collapsed": true
   },
   "outputs": [],
   "source": [
    "scatter.save('000.png')"
   ]
  },
  {
   "cell_type": "markdown",
   "metadata": {},
   "source": [
    "### Test affine+distortion3 model"
   ]
  },
  {
   "cell_type": "markdown",
   "metadata": {},
   "source": [
    "Calculate model coefficients"
   ]
  },
  {
   "cell_type": "code",
   "execution_count": 23,
   "metadata": {
    "collapsed": true
   },
   "outputs": [],
   "source": [
    "leftX = inputLeftX\n",
    "leftY = inputLeftY\n",
    "rightX = inputRightX\n",
    "rightY = inputRightY"
   ]
  },
  {
   "cell_type": "code",
   "execution_count": null,
   "metadata": {
    "collapsed": true
   },
   "outputs": [],
   "source": []
  },
  {
   "cell_type": "code",
   "execution_count": null,
   "metadata": {
    "collapsed": true
   },
   "outputs": [],
   "source": []
  },
  {
   "cell_type": "markdown",
   "metadata": {},
   "source": [
    "Calculate error metrics"
   ]
  },
  {
   "cell_type": "code",
   "execution_count": null,
   "metadata": {
    "collapsed": true
   },
   "outputs": [],
   "source": []
  },
  {
   "cell_type": "markdown",
   "metadata": {},
   "source": [
    "Plot aligned star pairs"
   ]
  },
  {
   "cell_type": "code",
   "execution_count": null,
   "metadata": {
    "collapsed": true
   },
   "outputs": [],
   "source": []
  },
  {
   "cell_type": "markdown",
   "metadata": {},
   "source": [
    "### Test affine+distortion35 model"
   ]
  },
  {
   "cell_type": "markdown",
   "metadata": {},
   "source": [
    "Calculate model coefficients"
   ]
  },
  {
   "cell_type": "code",
   "execution_count": 24,
   "metadata": {
    "collapsed": true
   },
   "outputs": [],
   "source": [
    "leftX = inputLeftX\n",
    "leftY = inputLeftY\n",
    "rightX = inputRightX\n",
    "rightY = inputRightY"
   ]
  },
  {
   "cell_type": "code",
   "execution_count": 25,
   "metadata": {
    "collapsed": true
   },
   "outputs": [],
   "source": [
    "\"\"\"\n",
    "c) Affine + Ditortion 3rd, 5th orders \n",
    "  (at least 5 stars)\n",
    "\"\"\";"
   ]
  },
  {
   "cell_type": "code",
   "execution_count": 26,
   "metadata": {
    "collapsed": true
   },
   "outputs": [],
   "source": [
    "k35 = 10\n",
    "\n",
    "z35 = np.zeros(k35)\n",
    "arr35 = np.zeros((2 * N, k35)) # matrix A\n",
    "\n",
    "for i in range(N): # fill the A matrix\n",
    "    dist_l = (leftX[i] - xCenter) ** 2 + (leftY[i] - yCenter) ** 2\n",
    "    dist_r = (rightX[i] - xCenter) ** 2 + (rightY[i] - yCenter) ** 2\n",
    "\n",
    "    zx1 = (leftX[i] - xCenter) * dist_l\n",
    "    zx2 = (rightX[i] - xCenter) * dist_r\n",
    "    wx1 = (leftX[i] - xCenter) * dist_l ** 2\n",
    "    wx2 = (rightX[i] - xCenter) * dist_r ** 2\n",
    "\n",
    "    arr35[2 * i] = [leftX[i], leftY[i], 0, 0, 1, 0, -zx1, zx2, -wx1, wx2]\n",
    "\n",
    "    zy1 = (leftY[i] - yCenter) * dist_l\n",
    "    zy2 = (rightY[i] - yCenter) * dist_r\n",
    "    wy1 = (leftY[i] - yCenter) * dist_l ** 2\n",
    "    wy2 = (rightY[i] - yCenter) * dist_r ** 2\n",
    "\n",
    "    arr35[2 * i + 1] = [0, 0, leftX[i], leftY[i], 0, 1, -zy1, zy2, -wy1, wy2]\n"
   ]
  },
  {
   "cell_type": "code",
   "execution_count": 27,
   "metadata": {
    "collapsed": false
   },
   "outputs": [
    {
     "name": "stdout",
     "output_type": "stream",
     "text": [
      "\n",
      "Affine coefficients + Ditortion 3rd, 5th orders:\n",
      "\n",
      "0.9957 0.0069 -0.0116 1.0027 \n",
      "241.57 50.32 \n",
      "3.24e-08 3.77e-08 \n",
      "1.07e-14 -1.84e-14\n",
      "\n",
      "Perfect Affine coefficients:\n",
      "0.9951 0.0070 -0.0118 1.0023 \n",
      "241.96 50.92\n",
      "3.00e-08 4.00e-08\n",
      "2.00e-14 -2.00e-14\n",
      "cond(A):  3.65549856286e+15\n"
     ]
    }
   ],
   "source": [
    "p_arr35 = pinv(arr35, rcond=1e-20)\n",
    "z35 = np.dot(p_arr35, xi)\n",
    "\n",
    "\n",
    "print(\"\"\"\n",
    "Affine coefficients + Ditortion 3rd, 5th orders:\n",
    "\n",
    "%.4f %.4f %.4f %.4f \n",
    "%.2f %.2f \n",
    "%.2e %.2e \n",
    "%.2e %.2e\"\"\" % tuple(z35))\n",
    "\n",
    "print(\"\"\"\n",
    "Perfect Affine coefficients:\n",
    "%.4f %.4f %.4f %.4f \n",
    "%.2f %.2f\n",
    "%.2e %.2e\n",
    "%.2e %.2e\"\"\" % tuple( list(AFFINE_COEFFS) + [EPS1, EPS2, EPS3, EPS4] ) )\n",
    "\n",
    "\n",
    "print('cond(A): ', np.linalg.cond(arr35))"
   ]
  },
  {
   "cell_type": "markdown",
   "metadata": {},
   "source": [
    "Calculate error metrics"
   ]
  },
  {
   "cell_type": "code",
   "execution_count": 29,
   "metadata": {
    "collapsed": true
   },
   "outputs": [],
   "source": [
    "\"\"\"\n",
    "c) Affine + Ditortion3,5\n",
    "\"\"\";"
   ]
  },
  {
   "cell_type": "code",
   "execution_count": 30,
   "metadata": {
    "collapsed": true
   },
   "outputs": [],
   "source": [
    "a = float(z35[0])\n",
    "b = float(z35[1])\n",
    "c = float(z35[2])\n",
    "d = float(z35[3])\n",
    "e = float(z35[4])\n",
    "f = float(z35[5])\n",
    "\n",
    "eps1 = float(z35[6])\n",
    "eps2 = float(z35[7])\n",
    "eps3 = float(z35[8])\n",
    "eps4 = float(z35[9])"
   ]
  },
  {
   "cell_type": "code",
   "execution_count": 31,
   "metadata": {
    "collapsed": false
   },
   "outputs": [
    {
     "name": "stdout",
     "output_type": "stream",
     "text": [
      "Backward distort+affine Left:\n",
      "Left X: [  563.02224792  1241.2490874    992.9782806   1561.83700809   670.79757653\n",
      "  1244.13217092  1051.31839914  1355.99746916   532.71560271   714.86074016\n",
      "  1175.30367128   634.74476744   954.93788145  1783.45300831  1786.72141846\n",
      "  1032.14561386  1493.69055682   800.82834938  1182.29101239   966.18905162]\n",
      "Left Y: [ 1169.66306459  1201.89581399  1004.24410084   480.30378331  1498.28588084\n",
      "   897.0381323   1235.17137046  1530.35325529  1536.95864834  1534.86811418\n",
      "  1747.079286    1318.21368881  1260.3401805   1294.81675619  1474.26933528\n",
      "  1778.85042056   706.69324048  1286.18219522   735.35646337  1160.96190566]\n",
      "\n",
      "Backward distort Right:\n",
      "Right X: [  563.13526009  1241.24241288   993.0147989   1561.72685447   670.9427881\n",
      "  1244.0803682   1051.35847743  1356.05163315   532.85528783   714.99953118\n",
      "  1175.38771172   634.84812385   954.98968908  1783.41882595  1786.68650036\n",
      "  1032.26723171  1493.65005749   800.88255544  1182.2453418    966.24200617]\n",
      "Right Y: [ 1169.82613062  1201.87102571  1004.30160068   480.19881075  1498.4323011\n",
      "   897.06296967  1235.18767267  1530.41154198  1537.15383226  1535.00842791\n",
      "  1747.09800245  1318.37412034  1260.39545313  1294.71586338  1474.16217144\n",
      "  1778.87217077   706.58607082  1286.30288494   735.37578698  1161.00030909]\n",
      "\n"
     ]
    }
   ],
   "source": [
    "# Backward distort\n",
    "\n",
    "correctDistortLeft = partial(correct_distort, coeffs=(eps1, eps3))\n",
    "leftCoords = array(list(map(correctDistortLeft, zip(leftX, leftY))))\n",
    "leftX = leftCoords[:, 0]\n",
    "leftY = leftCoords[:, 1]\n",
    "\n",
    "\n",
    "correctDistortRight = partial(correct_distort, coeffs=(eps2, eps4))\n",
    "rightCoords = array(list(map(correctDistortRight, zip(rightX, rightY))))\n",
    "estRightX35 = rightCoords[:, 0]\n",
    "estRightY35 = rightCoords[:, 1]\n",
    "\n",
    "\n",
    "# Backward affine\n",
    "affine = partial(affine_transform, coeffs=(a,b,c,d,e,f))\n",
    "\n",
    "\n",
    "leftCoords = array(list(map(affine, zip(leftX, leftY))))\n",
    "estLeftX35 = leftCoords[:, 0]\n",
    "estLeftY35 = leftCoords[:, 1]\n",
    "\n",
    "\n",
    "print('''Backward distort+affine Left:\n",
    "Left X: {}\n",
    "Left Y: {}\n",
    "'''.format(estLeftX35, estLeftY35)\n",
    ")\n",
    "\n",
    "print('''Backward distort Right:\n",
    "Right X: {}\n",
    "Right Y: {}\n",
    "'''.format(estRightX35, estRightY35)\n",
    ")"
   ]
  },
  {
   "cell_type": "code",
   "execution_count": 32,
   "metadata": {
    "collapsed": false
   },
   "outputs": [
    {
     "name": "stdout",
     "output_type": "stream",
     "text": [
      "delX35: [ 0.11301217  0.00667452  0.03651829  0.11015362  0.14521157  0.05180273\n",
      "  0.0400783   0.05416399  0.13968512  0.13879102  0.08404044  0.10335641\n",
      "  0.05180763  0.03418236  0.0349181   0.12161785  0.04049933  0.05420606\n",
      "  0.04567059  0.05295454]\n",
      "delY35: [ 0.16306603  0.02478829  0.05749984  0.10497257  0.14642026  0.02483736\n",
      "  0.01630221  0.05828669  0.19518392  0.14031373  0.01871645  0.16043154\n",
      "  0.05527264  0.10089281  0.10716385  0.02175021  0.10716966  0.12068972\n",
      "  0.0193236   0.03840344]\n",
      "mX35: 0.1452 mY35: 0.1952 m35: 0.1952\n",
      "sigSqr35: 0.0172\n"
     ]
    }
   ],
   "source": [
    "delX35 = abs(estLeftX35 - estRightX35)\n",
    "delY35 = abs(estLeftY35 - estRightY35)\n",
    "print(\"delX35:\", delX35)\n",
    "print(\"delY35:\", delY35)\n",
    "\n",
    "sigSqr35 = 1.0 / N * sum(delX35**2 + delY35**2)\n",
    "mX35 = max(delX35)\n",
    "mY35 = max(delY35)\n",
    "m35 = max(mX35, mY35)\n",
    "\n",
    "print(\"mX35: %.4f mY35: %.4f m35: %.4f\" % (mX35, mY35, m35))\n",
    "print(\"sigSqr35: %.4f\" % sigSqr35)"
   ]
  },
  {
   "cell_type": "markdown",
   "metadata": {
    "collapsed": true
   },
   "source": [
    "Plot aligned star pairs"
   ]
  },
  {
   "cell_type": "code",
   "execution_count": 33,
   "metadata": {
    "collapsed": true
   },
   "outputs": [],
   "source": [
    "scatter35 = Image.new('RGB', (width, height), 'lightgray')\n",
    "\n",
    "\n",
    "draw = ImageDraw.Draw(scatter35)\n",
    "draw.ellipse((xCenter - ELL_RAD, yCenter - ELL_RAD, \n",
    "              xCenter + ELL_RAD, yCenter + ELL_RAD), fill='darkgreen')\n",
    "\n",
    "\n",
    "for i in range(NUM_STAR_PAIRS): # draw star points\n",
    "    draw.ellipse((estLeftX35[i] - ELL_RAD, estLeftY35[i] - ELL_RAD, \n",
    "                  estLeftX35[i] + ELL_RAD, estLeftY35[i] + ELL_RAD), fill='red')\n",
    "    \n",
    "    draw.ellipse((estRightX35[i] - ELL_RAD, estRightY35[i] - ELL_RAD, \n",
    "                  estRightX35[i] + ELL_RAD, estRightY35[i] + ELL_RAD), fill='blue')\n"
   ]
  },
  {
   "cell_type": "code",
   "execution_count": 34,
   "metadata": {
    "collapsed": true
   },
   "outputs": [],
   "source": [
    "scatter35.save('035.png')"
   ]
  }
 ],
 "metadata": {
  "kernelspec": {
   "display_name": "Python 3",
   "language": "python",
   "name": "python3"
  },
  "language_info": {
   "codemirror_mode": {
    "name": "ipython",
    "version": 3
   },
   "file_extension": ".py",
   "mimetype": "text/x-python",
   "name": "python",
   "nbconvert_exporter": "python",
   "pygments_lexer": "ipython3",
   "version": "3.6.0"
  }
 },
 "nbformat": 4,
 "nbformat_minor": 2
}
