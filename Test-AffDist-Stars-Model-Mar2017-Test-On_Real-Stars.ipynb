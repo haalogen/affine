{
 "cells": [
  {
   "cell_type": "code",
   "execution_count": 1,
   "metadata": {},
   "outputs": [],
   "source": [
    "\"\"\"This is testing on real stars\"\"\";"
   ]
  },
  {
   "cell_type": "code",
   "execution_count": 2,
   "metadata": {},
   "outputs": [],
   "source": [
    "\"\"\"\n",
    "This program tests Affine+Ditrortion35 model\n",
    "on real data (pairs of star coordinates)\n",
    "\"\"\";"
   ]
  },
  {
   "cell_type": "code",
   "execution_count": 3,
   "metadata": {},
   "outputs": [],
   "source": [
    "from pylab import *\n",
    "from PIL import Image, ImageDraw\n",
    "from functools import partial\n",
    "import os"
   ]
  },
  {
   "cell_type": "markdown",
   "metadata": {},
   "source": [
    "Get star pairs and calculate NUM_STAR_PAIRS (at least 5 because it's minimum needed for affine+distortion35 model)   "
   ]
  },
  {
   "cell_type": "code",
   "execution_count": 4,
   "metadata": {},
   "outputs": [],
   "source": [
    "# whether to divide coordinates by SCALE_FAC \n",
    "# or not (zoomed coords or not)\n",
    "zoomed_coords = True \n",
    "center_only = True # use only central stars\n",
    "SCALE_FAC = 4.0 # Scale factor of coordinates"
   ]
  },
  {
   "cell_type": "code",
   "execution_count": 5,
   "metadata": {},
   "outputs": [],
   "source": [
    "\"\"\"\n",
    "Load star coords from txt-files\n",
    "\"\"\";"
   ]
  },
  {
   "cell_type": "code",
   "execution_count": 6,
   "metadata": {},
   "outputs": [],
   "source": [
    "# folder with coords files\n",
    "coords_folder = 'data/star_coords/2016nov-11_txt/' \n",
    "images_folder = 'data/stars/2016nov-11/'"
   ]
  },
  {
   "cell_type": "code",
   "execution_count": 7,
   "metadata": {},
   "outputs": [],
   "source": [
    "# 2016nov-11 jpg\n",
    "fnames = [\n",
    "    \"20161122-191517-359.txt\",\n",
    "    \"20161121-220921-250.txt\",\n",
    "]"
   ]
  },
  {
   "cell_type": "code",
   "execution_count": 8,
   "metadata": {},
   "outputs": [],
   "source": [
    "date = fnames[0].split('.')[0]"
   ]
  },
  {
   "cell_type": "code",
   "execution_count": 9,
   "metadata": {},
   "outputs": [
    {
     "name": "stdout",
     "output_type": "stream",
     "text": [
      "Image size: 3072 2304\n"
     ]
    }
   ],
   "source": [
    "im = Image.open(images_folder + \"mod_\" + date + \"-1.jpg\")\n",
    "width, height = im.size\n",
    "print(\"Image size:\", width, height)"
   ]
  },
  {
   "cell_type": "code",
   "execution_count": 10,
   "metadata": {},
   "outputs": [
    {
     "name": "stdout",
     "output_type": "stream",
     "text": [
      "CENTER_RAD: 700\n"
     ]
    }
   ],
   "source": [
    "xCenter = width // 2\n",
    "yCenter = height // 2\n",
    "CENTER_RAD = 700 # radius(px) of central part\n",
    "print('CENTER_RAD:', CENTER_RAD)"
   ]
  },
  {
   "cell_type": "code",
   "execution_count": 11,
   "metadata": {},
   "outputs": [],
   "source": [
    "coords_list = []\n",
    "for fname in fnames:\n",
    "    piece = np.loadtxt(coords_folder + os.sep + fname)\n",
    "    coords_list.append(piece)\n",
    "\n",
    "coords = np.vstack(coords_list)"
   ]
  },
  {
   "cell_type": "code",
   "execution_count": 12,
   "metadata": {},
   "outputs": [
    {
     "name": "stdout",
     "output_type": "stream",
     "text": [
      "Normal Star coordinates pairs (first 5):\n",
      " [[ 227.  418.  531.  473.]\n",
      " [ 199.  681.  508.  733.]\n",
      " [ 378.  781.  684.  830.]\n",
      " [1310.  305. 1606.  342.]\n",
      " [1397. 1180. 1706. 1225.]] \n",
      "\n"
     ]
    }
   ],
   "source": [
    "if zoomed_coords:\n",
    "    coords /= float(SCALE_FAC)\n",
    "    coords = coords.round()\n",
    "    print('Normal Star coordinates pairs (first 5):\\n', coords[:5], '\\n')\n"
   ]
  },
  {
   "cell_type": "code",
   "execution_count": 13,
   "metadata": {},
   "outputs": [
    {
     "name": "stdout",
     "output_type": "stream",
     "text": [
      "Normal Star coordinates pairs in center:\n",
      " [[1397. 1180. 1706. 1225.]\n",
      " [1138. 1124. 1442. 1170.]\n",
      " [1397. 1180. 1706. 1225.]\n",
      " [1138. 1124. 1442. 1170.]] \n",
      "\n"
     ]
    }
   ],
   "source": [
    "if center_only:\n",
    "    coords_center = []\n",
    "    \n",
    "    for i in range(coords.shape[0]):\n",
    "        _lx = coords[i, 0]\n",
    "        _ly = coords[i, 1]\n",
    "        _rx = coords[i, 2]\n",
    "        _ry = coords[i, 3]\n",
    "        if \\\n",
    "        (_lx - xCenter)**2 + (_ly - yCenter)**2 <= CENTER_RAD**2 and \\\n",
    "        (_rx - xCenter)**2 + (_ry - yCenter)**2 <= CENTER_RAD**2:\n",
    "            coords_center.append(coords[i])\n",
    "    \n",
    "    coords = np.vstack(coords_center)\n",
    "    \n",
    "    print('Normal Star coordinates pairs in center:\\n', coords[:5], '\\n')"
   ]
  },
  {
   "cell_type": "code",
   "execution_count": 14,
   "metadata": {},
   "outputs": [
    {
     "name": "stdout",
     "output_type": "stream",
     "text": [
      "Number of Star coordinates pairs: 4\n"
     ]
    }
   ],
   "source": [
    "NUM_STAR_PAIRS = len(coords)\n",
    "N = NUM_STAR_PAIRS\n",
    "M = coords.shape[1] # {lX, lY, rX, rY} == 4\n",
    "print('Number of Star coordinates pairs:', NUM_STAR_PAIRS)"
   ]
  },
  {
   "cell_type": "code",
   "execution_count": 15,
   "metadata": {},
   "outputs": [
    {
     "name": "stdout",
     "output_type": "stream",
     "text": [
      "First 5 pairs\n",
      "Left X: [1397. 1138. 1397. 1138.]\n",
      "Left Y: [1180. 1124. 1180. 1124.]\n",
      "\n",
      "Right X: [1706. 1442. 1706. 1442.]\n",
      "Right Y: [1225. 1170. 1225. 1170.]\n",
      "\n"
     ]
    }
   ],
   "source": [
    "leftX = coords[:, 0]\n",
    "leftY = coords[:, 1]\n",
    "rightX = coords[:, 2]\n",
    "rightY = coords[:, 3]\n",
    "\n",
    "print('''First 5 pairs\n",
    "Left X: {}\n",
    "Left Y: {}\n",
    "'''.format(leftX[:5], leftY[:5])\n",
    ")\n",
    "print('''\\\n",
    "Right X: {}\n",
    "Right Y: {}\n",
    "'''.format(rightX[:5], rightY[:5])\n",
    ")"
   ]
  },
  {
   "cell_type": "code",
   "execution_count": 16,
   "metadata": {},
   "outputs": [],
   "source": [
    "ELL_RAD = 3\n",
    "\n",
    "# Draw star pairs\n",
    "scatterOriginal = Image.new('RGB', (width, height), 'lightgray')\n",
    "\n",
    "draw = ImageDraw.Draw(scatterOriginal)\n",
    "\n",
    "# Central point\n",
    "draw.ellipse((xCenter - ELL_RAD, yCenter - ELL_RAD, \n",
    "              xCenter + ELL_RAD, yCenter + ELL_RAD), fill='darkgreen')\n",
    "\n",
    "# Draw central part boundary\n",
    "draw.ellipse((xCenter - CENTER_RAD, yCenter - CENTER_RAD, \n",
    "              xCenter + CENTER_RAD, yCenter + CENTER_RAD), outline='black')\n",
    "\n",
    "\n",
    "for i in range(NUM_STAR_PAIRS): # draw star points\n",
    "    draw.ellipse((leftX[i] - ELL_RAD, leftY[i] - ELL_RAD, \n",
    "                  leftX[i] + ELL_RAD, leftY[i] + ELL_RAD), fill='blue')\n"
   ]
  },
  {
   "cell_type": "code",
   "execution_count": 17,
   "metadata": {},
   "outputs": [],
   "source": [
    "scatterOriginal.save('orig.png')"
   ]
  },
  {
   "cell_type": "markdown",
   "metadata": {},
   "source": [
    "affine coeffincients  \n",
    "(a,b,  \n",
    " c,d) -- for rotation matrix  \n",
    "(e,f) -- for transition (shift)   "
   ]
  },
  {
   "cell_type": "code",
   "execution_count": 18,
   "metadata": {},
   "outputs": [],
   "source": [
    "def affine_transform(xy, coeffs=(1,0,0,1,0,0)):\n",
    "    assert coeffs != (1,0,0,1,0,0)\n",
    "        \n",
    "    _a, _b, _c, _d, _e, _f = coeffs\n",
    "    x, y = xy\n",
    "    return [\n",
    "        _a * x + _b * y + _e,\n",
    "        _c * x + _d * y + _f\n",
    "    ]"
   ]
  },
  {
   "cell_type": "code",
   "execution_count": 19,
   "metadata": {},
   "outputs": [],
   "source": [
    "# inputLeftX, inputLeftY, inputRightX, inputRightY are coordinates we get from measuring system\n",
    "inputLeftX = leftX\n",
    "inputLeftY = leftY\n",
    "\n",
    "inputRightX = rightX\n",
    "inputRightY = rightY"
   ]
  },
  {
   "cell_type": "code",
   "execution_count": 20,
   "metadata": {},
   "outputs": [],
   "source": [
    "def correct_distort(xy, coeffs=(0,0)):\n",
    "    assert coeffs != (0,0)\n",
    "    \n",
    "    # eps1, eps3 -- for left img\n",
    "    # eps2, eps4 -- for right img\n",
    "    _eps1_or_eps2, _eps3_or_eps4  = coeffs\n",
    "    \n",
    "    x, y = xy\n",
    "    \n",
    "    # squared distance from center to (x, y) point\n",
    "    _r = (x - xCenter) ** 2 + (y - yCenter) ** 2\n",
    "    \n",
    "    return [\n",
    "        x - (x - xCenter) * ( _r * _eps1_or_eps2 + (_r ** 2) * _eps3_or_eps4 ),\n",
    "        y - (y - yCenter) * ( _r * _eps1_or_eps2 + (_r ** 2) * _eps3_or_eps4 )\n",
    "    ]"
   ]
  },
  {
   "cell_type": "markdown",
   "metadata": {},
   "source": [
    "### Test affine model"
   ]
  },
  {
   "cell_type": "markdown",
   "metadata": {},
   "source": [
    "Calculate model coefficients"
   ]
  },
  {
   "cell_type": "code",
   "execution_count": 21,
   "metadata": {},
   "outputs": [],
   "source": [
    "leftX = inputLeftX\n",
    "leftY = inputLeftY\n",
    "rightX = inputRightX\n",
    "rightY = inputRightY"
   ]
  },
  {
   "cell_type": "code",
   "execution_count": 22,
   "metadata": {},
   "outputs": [
    {
     "name": "stdout",
     "output_type": "stream",
     "text": [
      "xi (first 5):\n",
      " [1706. 1225. 1442. 1170. 1706.]\n"
     ]
    }
   ],
   "source": [
    "xi = np.zeros(2 * NUM_STAR_PAIRS)\n",
    "\n",
    "for i in range(NUM_STAR_PAIRS): # fill the xi vector\n",
    "    xi[2 * i] = rightX[i]\n",
    "    xi[2 * i + 1] = rightY[i]\n",
    "\n",
    "print('xi (first 5):\\n', xi[:5])"
   ]
  },
  {
   "cell_type": "code",
   "execution_count": 23,
   "metadata": {},
   "outputs": [
    {
     "name": "stdout",
     "output_type": "stream",
     "text": [
      "\n",
      "Affine coefficients:\n",
      "0.9498 0.3212 0.7656 -2.3750 \n",
      "0.00 3672.00\n",
      "cond(A):  inf\n"
     ]
    },
    {
     "name": "stderr",
     "output_type": "stream",
     "text": [
      "/home/stan/anaconda3/lib/python3.6/site-packages/numpy/linalg/linalg.py:1543: RuntimeWarning: divide by zero encountered in true_divide\n",
      "  return s[..., 0]/s[..., -1]\n"
     ]
    }
   ],
   "source": [
    "k = 6 # num of coeff-s\n",
    "\n",
    "z = np.zeros(k)\n",
    "arr = np.zeros((2 * NUM_STAR_PAIRS, k)) # matrix A\n",
    "\n",
    "for i in range(NUM_STAR_PAIRS): # fill the A matrix\n",
    "    \n",
    "    arr[2 * i] = [leftX[i], leftY[i], 0, 0, 1, 0]\n",
    "\n",
    "    arr[2 * i + 1] = [0, 0, leftX[i], leftY[i], 0, 1]\n",
    "\n",
    "    \n",
    "p_arr = pinv(arr, rcond=1e-20)\n",
    "z = np.dot(p_arr, xi)\n",
    "\n",
    "print(\"\"\"\n",
    "Affine coefficients:\n",
    "%.4f %.4f %.4f %.4f \n",
    "%.2f %.2f\"\"\" % tuple(z))\n",
    "print('cond(A): ', np.linalg.cond(arr))"
   ]
  },
  {
   "cell_type": "code",
   "execution_count": 24,
   "metadata": {},
   "outputs": [],
   "source": [
    "\"\"\"\n",
    "Align images and blend\n",
    "\n",
    "a) Affine\n",
    "\"\"\";"
   ]
  },
  {
   "cell_type": "code",
   "execution_count": 25,
   "metadata": {},
   "outputs": [
    {
     "name": "stdout",
     "output_type": "stream",
     "text": [
      "Backward affine Left:\n",
      "Left X: [1706. 1442. 1706. 1442.]\n",
      "Left Y: [1939.078125 1873.78125  1939.078125 1873.78125 ]\n",
      "\n",
      "Right:\n",
      "Right X: [1706. 1442. 1706. 1442.]\n",
      "Right Y: [1225. 1170. 1225. 1170.]\n",
      "\n"
     ]
    }
   ],
   "source": [
    "affine = partial(affine_transform, coeffs=tuple(z))\n",
    "\n",
    "# Calc estimated (affine transformed) points\n",
    "leftCoords = array(list(map(affine, zip(leftX, leftY))))\n",
    "\n",
    "# Estimated coordinates\n",
    "estLeftX = leftCoords[:, 0]\n",
    "estLeftY = leftCoords[:, 1]\n",
    "\n",
    "\n",
    "print('''Backward affine Left:\n",
    "Left X: {}\n",
    "Left Y: {}\n",
    "'''.format(estLeftX[:5], estLeftY[:5])\n",
    ")\n",
    "\n",
    "print('''Right:\n",
    "Right X: {}\n",
    "Right Y: {}\n",
    "'''.format(rightX[:5], rightY[:5])\n",
    ")"
   ]
  },
  {
   "cell_type": "markdown",
   "metadata": {},
   "source": [
    "Calculate error metrics"
   ]
  },
  {
   "cell_type": "markdown",
   "metadata": {},
   "source": [
    "1) $\\Delta x_i, \\Delta y_i, \\; i = 1,N$\n",
    "\n",
    "2) $\\sigma^2 = \\frac{1}{N} \\sum\\limits_{i=1}^{N} \n",
    "                \\left( \\Delta x_i^2 + \\Delta y_i^2 \\right)$"
   ]
  },
  {
   "cell_type": "code",
   "execution_count": 26,
   "metadata": {},
   "outputs": [
    {
     "name": "stdout",
     "output_type": "stream",
     "text": [
      "delX: [1.36424205e-12 1.13686838e-12 1.36424205e-12 1.13686838e-12]\n",
      "delY: [714.078125 703.78125  714.078125 703.78125 ]\n",
      "mX: 0.0000 mY: 714.0781 m: 714.0781\n",
      "sigSqr: 502607.8082\n"
     ]
    }
   ],
   "source": [
    "delX = abs(estLeftX - rightX)\n",
    "delY = abs(estLeftY - rightY)\n",
    "print(\"delX:\", delX[:5])\n",
    "print(\"delY:\", delY[:5])\n",
    "\n",
    "sigSqr = 1.0 / N * sum(delX**2 + delY**2)\n",
    "mX = max(delX)\n",
    "mY = max(delY)\n",
    "m = max(mX, mY)\n",
    "\n",
    "print(\"mX: %.4f mY: %.4f m: %.4f\" % (mX, mY, m))\n",
    "print(\"sigSqr: %.4f\" % sigSqr)"
   ]
  },
  {
   "cell_type": "markdown",
   "metadata": {},
   "source": [
    "Plot aligned star pairs"
   ]
  },
  {
   "cell_type": "code",
   "execution_count": 27,
   "metadata": {},
   "outputs": [],
   "source": [
    "scatter = Image.new('RGB', (width, height), 'lightgray')\n",
    "\n",
    "\n",
    "draw = ImageDraw.Draw(scatter)\n",
    "draw.ellipse((xCenter - ELL_RAD, yCenter - ELL_RAD, \n",
    "              xCenter + ELL_RAD, yCenter + ELL_RAD), fill='darkgreen')\n",
    "\n",
    "\n",
    "for i in range(NUM_STAR_PAIRS): # draw star points\n",
    "    draw.ellipse((estLeftX[i] - ELL_RAD, estLeftY[i] - ELL_RAD, \n",
    "                  estLeftX[i] + ELL_RAD, estLeftY[i] + ELL_RAD), fill='red')\n",
    "    \n",
    "    draw.ellipse((rightX[i] - ELL_RAD, rightY[i] - ELL_RAD, \n",
    "                  rightX[i] + ELL_RAD, rightY[i] + ELL_RAD), fill='blue')"
   ]
  },
  {
   "cell_type": "code",
   "execution_count": 28,
   "metadata": {},
   "outputs": [],
   "source": [
    "scatter.save('000.png')"
   ]
  },
  {
   "cell_type": "markdown",
   "metadata": {},
   "source": [
    "### Test affine+distortion35 model"
   ]
  },
  {
   "cell_type": "markdown",
   "metadata": {},
   "source": [
    "Calculate model coefficients"
   ]
  },
  {
   "cell_type": "code",
   "execution_count": 29,
   "metadata": {},
   "outputs": [],
   "source": [
    "leftX = inputLeftX\n",
    "leftY = inputLeftY\n",
    "rightX = inputRightX\n",
    "rightY = inputRightY"
   ]
  },
  {
   "cell_type": "code",
   "execution_count": 30,
   "metadata": {},
   "outputs": [],
   "source": [
    "\"\"\"\n",
    "c) Affine + Ditortion 3rd, 5th orders \n",
    "  (at least 5 stars)\n",
    "\"\"\";"
   ]
  },
  {
   "cell_type": "code",
   "execution_count": 31,
   "metadata": {},
   "outputs": [],
   "source": [
    "k35 = 10\n",
    "\n",
    "z35 = np.zeros(k35)\n",
    "arr35 = np.zeros((2 * N, k35)) # matrix A\n",
    "\n",
    "for i in range(N): # fill the A matrix\n",
    "    dist_l = (leftX[i] - xCenter) ** 2 + (leftY[i] - yCenter) ** 2\n",
    "    dist_r = (rightX[i] - xCenter) ** 2 + (rightY[i] - yCenter) ** 2\n",
    "\n",
    "    zx1 = (leftX[i] - xCenter) * dist_l\n",
    "    zx2 = (rightX[i] - xCenter) * dist_r\n",
    "    wx1 = (leftX[i] - xCenter) * dist_l ** 2\n",
    "    wx2 = (rightX[i] - xCenter) * dist_r ** 2\n",
    "\n",
    "    arr35[2 * i] = [leftX[i], leftY[i], 0, 0, 1, 0, -zx1, zx2, -wx1, wx2]\n",
    "\n",
    "    zy1 = (leftY[i] - yCenter) * dist_l\n",
    "    zy2 = (rightY[i] - yCenter) * dist_r\n",
    "    wy1 = (leftY[i] - yCenter) * dist_l ** 2\n",
    "    wy2 = (rightY[i] - yCenter) * dist_r ** 2\n",
    "\n",
    "    arr35[2 * i + 1] = [0, 0, leftX[i], leftY[i], 0, 1, -zy1, zy2, -wy1, wy2]\n"
   ]
  },
  {
   "cell_type": "code",
   "execution_count": 32,
   "metadata": {},
   "outputs": [
    {
     "name": "stdout",
     "output_type": "stream",
     "text": [
      "\n",
      "Affine coefficients + Ditortion 3rd, 5th orders:\n",
      "\n",
      "-0.0000 -0.0000 0.0000 0.0000 \n",
      "-0.00 0.00 \n",
      "-3.32e-04 6.31e-03 \n",
      "2.63e-09 -1.72e-07\n",
      "cond(A):  2.693263182469305e+24\n"
     ]
    }
   ],
   "source": [
    "p_arr35 = pinv(arr35, rcond=1e-20)\n",
    "z35 = np.dot(p_arr35, xi)\n",
    "\n",
    "\n",
    "print(\"\"\"\n",
    "Affine coefficients + Ditortion 3rd, 5th orders:\n",
    "\n",
    "%.4f %.4f %.4f %.4f \n",
    "%.2f %.2f \n",
    "%.2e %.2e \n",
    "%.2e %.2e\"\"\" % tuple(z35))\n",
    "\n",
    "print('cond(A): ', np.linalg.cond(arr35))"
   ]
  },
  {
   "cell_type": "code",
   "execution_count": 33,
   "metadata": {},
   "outputs": [],
   "source": [
    "\"\"\"\n",
    "c) Affine + Ditortion3,5\n",
    "\"\"\";"
   ]
  },
  {
   "cell_type": "code",
   "execution_count": 34,
   "metadata": {},
   "outputs": [],
   "source": [
    "a = float(z35[0])\n",
    "b = float(z35[1])\n",
    "c = float(z35[2])\n",
    "d = float(z35[3])\n",
    "e = float(z35[4])\n",
    "f = float(z35[5])\n",
    "\n",
    "eps1 = float(z35[6])\n",
    "eps2 = float(z35[7])\n",
    "eps3 = float(z35[8])\n",
    "eps4 = float(z35[9])"
   ]
  },
  {
   "cell_type": "code",
   "execution_count": 35,
   "metadata": {},
   "outputs": [
    {
     "name": "stdout",
     "output_type": "stream",
     "text": [
      "Backward distort+affine Left:\n",
      "Left X: [-0.00023265 -0.00141931 -0.00023265 -0.00141931]\n",
      "Left Y: [0.08331201 0.35032647 0.08331201 0.35032647]\n",
      "\n",
      "Backward distort Right:\n",
      "Right X: [-780.39626804 5522.55120006 -780.39626804 5522.55120006]\n",
      "Right Y: [157.31219078 388.61785531 157.31219078 388.61785531]\n",
      "\n"
     ]
    }
   ],
   "source": [
    "# Backward distort\n",
    "\n",
    "correctDistortLeft = partial(correct_distort, coeffs=(eps1, eps3))\n",
    "leftCoords = array(list(map(correctDistortLeft, zip(leftX, leftY))))\n",
    "leftX = leftCoords[:, 0]\n",
    "leftY = leftCoords[:, 1]\n",
    "\n",
    "\n",
    "correctDistortRight = partial(correct_distort, coeffs=(eps2, eps4))\n",
    "rightCoords = array(list(map(correctDistortRight, zip(rightX, rightY))))\n",
    "estRightX35 = rightCoords[:, 0]\n",
    "estRightY35 = rightCoords[:, 1]\n",
    "\n",
    "\n",
    "# Backward affine\n",
    "affine = partial(affine_transform, coeffs=(a,b,c,d,e,f))\n",
    "\n",
    "\n",
    "leftCoords = array(list(map(affine, zip(leftX, leftY))))\n",
    "estLeftX35 = leftCoords[:, 0]\n",
    "estLeftY35 = leftCoords[:, 1]\n",
    "\n",
    "\n",
    "print('''Backward distort+affine Left:\n",
    "Left X: {}\n",
    "Left Y: {}\n",
    "'''.format(estLeftX35[:5], estLeftY35[:5])\n",
    ")\n",
    "\n",
    "print('''Backward distort Right:\n",
    "Right X: {}\n",
    "Right Y: {}\n",
    "'''.format(estRightX35[:5], estRightY35[:5])\n",
    ")"
   ]
  },
  {
   "cell_type": "markdown",
   "metadata": {},
   "source": [
    "Calculate error metrics"
   ]
  },
  {
   "cell_type": "code",
   "execution_count": 36,
   "metadata": {},
   "outputs": [
    {
     "name": "stdout",
     "output_type": "stream",
     "text": [
      "delX35: [ 780.39603538 5522.55261938  780.39603538 5522.55261938]\n",
      "delY35: [157.22887877 388.26752884 157.22887877 388.26752884]\n",
      "mX35: 5522.5526 mY35: 388.2675 m35: 5522.5526\n",
      "sigSqr35: 15641539.0000\n"
     ]
    }
   ],
   "source": [
    "delX35 = abs(estLeftX35 - estRightX35)\n",
    "delY35 = abs(estLeftY35 - estRightY35)\n",
    "print(\"delX35:\", delX35[:5])\n",
    "print(\"delY35:\", delY35[:5])\n",
    "\n",
    "sigSqr35 = 1.0 / N * sum(delX35**2 + delY35**2)\n",
    "mX35 = max(delX35)\n",
    "mY35 = max(delY35)\n",
    "m35 = max(mX35, mY35)\n",
    "\n",
    "print(\"mX35: %.4f mY35: %.4f m35: %.4f\" % (mX35, mY35, m35))\n",
    "print(\"sigSqr35: %.4f\" % sigSqr35)"
   ]
  },
  {
   "cell_type": "markdown",
   "metadata": {
    "collapsed": true
   },
   "source": [
    "Plot aligned star pairs"
   ]
  },
  {
   "cell_type": "code",
   "execution_count": 37,
   "metadata": {},
   "outputs": [],
   "source": [
    "scatter35 = Image.new('RGB', (width, height), 'lightgray')\n",
    "\n",
    "\n",
    "draw = ImageDraw.Draw(scatter35)\n",
    "draw.ellipse((xCenter - ELL_RAD, yCenter - ELL_RAD, \n",
    "              xCenter + ELL_RAD, yCenter + ELL_RAD), fill='darkgreen')\n",
    "\n",
    "\n",
    "for i in range(NUM_STAR_PAIRS): # draw star points\n",
    "    draw.ellipse((estLeftX35[i] - ELL_RAD, estLeftY35[i] - ELL_RAD, \n",
    "                  estLeftX35[i] + ELL_RAD, estLeftY35[i] + ELL_RAD), fill='red')\n",
    "    \n",
    "    draw.ellipse((estRightX35[i] - ELL_RAD, estRightY35[i] - ELL_RAD, \n",
    "                  estRightX35[i] + ELL_RAD, estRightY35[i] + ELL_RAD), fill='blue')\n"
   ]
  },
  {
   "cell_type": "code",
   "execution_count": 38,
   "metadata": {},
   "outputs": [],
   "source": [
    "scatter35.save('035.png')"
   ]
  }
 ],
 "metadata": {
  "kernelspec": {
   "display_name": "Python 3",
   "language": "python",
   "name": "python3"
  },
  "language_info": {
   "codemirror_mode": {
    "name": "ipython",
    "version": 3
   },
   "file_extension": ".py",
   "mimetype": "text/x-python",
   "name": "python",
   "nbconvert_exporter": "python",
   "pygments_lexer": "ipython3",
   "version": "3.6.4"
  }
 },
 "nbformat": 4,
 "nbformat_minor": 2
}
