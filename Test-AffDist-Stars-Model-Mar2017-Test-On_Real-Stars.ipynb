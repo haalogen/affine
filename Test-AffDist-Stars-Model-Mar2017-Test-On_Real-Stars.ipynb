{
 "cells": [
  {
   "cell_type": "code",
   "execution_count": 23,
   "metadata": {},
   "outputs": [
    {
     "name": "stdout",
     "output_type": "stream",
     "text": [
      "Requirement already satisfied: Pillow in /srv/conda/lib/python3.6/site-packages (5.3.0)\n",
      "Collecting numpy\n",
      "\u001b[?25l  Downloading https://files.pythonhosted.org/packages/ff/7f/9d804d2348471c67a7d8b5f84f9bc59fd1cefa148986f2b74552f8573555/numpy-1.15.4-cp36-cp36m-manylinux1_x86_64.whl (13.9MB)\n",
      "\u001b[K    100% |████████████████████████████████| 13.9MB 939kB/s eta 0:00:01   56% |██████████████████▏             | 7.9MB 67.7MB/s eta 0:00:01\n",
      "\u001b[?25hInstalling collected packages: numpy\n",
      "Successfully installed numpy-1.15.4\n"
     ]
    }
   ],
   "source": [
    "!pip install Pillow numpy"
   ]
  },
  {
   "cell_type": "code",
   "execution_count": 6,
   "metadata": {
    "colab": {},
    "colab_type": "code",
    "id": "duZEipCJsl0E"
   },
   "outputs": [],
   "source": [
    "\"\"\"This is testing on real stars\"\"\";"
   ]
  },
  {
   "cell_type": "code",
   "execution_count": 7,
   "metadata": {
    "colab": {},
    "colab_type": "code",
    "id": "FYHuqfHSsl0N"
   },
   "outputs": [],
   "source": [
    "\"\"\"\n",
    "This program tests Affine+Ditrortion35 model\n",
    "on real data (pairs of star coordinates)\n",
    "\"\"\";"
   ]
  },
  {
   "cell_type": "code",
   "execution_count": 25,
   "metadata": {
    "colab": {},
    "colab_type": "code",
    "id": "Qt63h661sl0S"
   },
   "outputs": [],
   "source": [
    "# from pylab import *\n",
    "import numpy as np\n",
    "from PIL import Image, ImageDraw\n",
    "from functools import partial\n",
    "import os"
   ]
  },
  {
   "cell_type": "markdown",
   "metadata": {
    "colab_type": "text",
    "id": "FB0tH7C5sl0X"
   },
   "source": [
    "Get star pairs and calculate NUM_STAR_PAIRS (at least 5 because it's minimum needed for affine+distortion35 model)   "
   ]
  },
  {
   "cell_type": "code",
   "execution_count": 12,
   "metadata": {
    "colab": {},
    "colab_type": "code",
    "id": "tAjQVBewsl0Z"
   },
   "outputs": [],
   "source": [
    "# whether to divide coordinates by SCALE_FAC \n",
    "# or not (zoomed coords or not)\n",
    "# Увеличены ли координаты в файлах (увеличение х4 по умолчанию),\n",
    "# полученных при ручной \"сборке\" пар звезд\n",
    "zoomed_coords = True \n",
    "center_only = True # use only central stars \\ Использовать только звезды из центральной области\n",
    "SCALE_FAC = 4.0 # Scale factor of coordinates \\ Коэффициент увеличения координат (x4 чаще всего)"
   ]
  },
  {
   "cell_type": "code",
   "execution_count": 13,
   "metadata": {
    "colab": {},
    "colab_type": "code",
    "id": "PWgBE0K-sl0f"
   },
   "outputs": [],
   "source": [
    "\"\"\"\n",
    "Load star coords from txt-files\n",
    "\"\"\";"
   ]
  },
  {
   "cell_type": "code",
   "execution_count": 14,
   "metadata": {
    "colab": {},
    "colab_type": "code",
    "id": "qZV-VCpvsl0j"
   },
   "outputs": [],
   "source": [
    "# folder with coords files \\ Путь из корня проекта до папки с файлами координат\n",
    "coords_folder = 'data/star_coords/2016nov-11_txt/' \n",
    "# Путь из корня проекта до папки с файлами изображений\n",
    "images_folder = 'data/stars/2016nov-11/'"
   ]
  },
  {
   "cell_type": "code",
   "execution_count": 15,
   "metadata": {
    "colab": {},
    "colab_type": "code",
    "id": "4g-cldGSsl0n"
   },
   "outputs": [],
   "source": [
    "# 2016nov-11 jpg\n",
    "# Массив имен файлов с координатами для использования\n",
    "fnames = [\n",
    "    \"20161122-191517-359.txt\",\n",
    "    \"20161121-220921-250.txt\",\n",
    "]"
   ]
  },
  {
   "cell_type": "code",
   "execution_count": 16,
   "metadata": {
    "colab": {},
    "colab_type": "code",
    "id": "LNsl3EETsl0t"
   },
   "outputs": [],
   "source": [
    "# Отбрасываем \".txt\" (Берем \"дату\") из имени файла \n",
    "date = fnames[0].split('.')[0]"
   ]
  },
  {
   "cell_type": "code",
   "execution_count": 17,
   "metadata": {
    "colab": {},
    "colab_type": "code",
    "id": "ZcdBOMDBsl0z",
    "outputId": "5457471b-f42a-416f-9e92-8e7d976f07ee"
   },
   "outputs": [
    {
     "name": "stdout",
     "output_type": "stream",
     "text": [
      "Image size: 3072 2304\n"
     ]
    }
   ],
   "source": [
    "# Открываем изображение с префиксом \"mod_\" в имени, для получения размеров\n",
    "im = Image.open(images_folder + \"mod_\" + date + \"-1.jpg\")\n",
    "width, height = im.size\n",
    "print(\"Image size:\", width, height)"
   ]
  },
  {
   "cell_type": "code",
   "execution_count": 18,
   "metadata": {
    "colab": {},
    "colab_type": "code",
    "id": "6IMBABHIsl1B",
    "outputId": "6d1fa799-6c35-49ec-d37e-b2be0ffb9a0b"
   },
   "outputs": [
    {
     "name": "stdout",
     "output_type": "stream",
     "text": [
      "CENTER_RAD: 700\n"
     ]
    }
   ],
   "source": [
    "# Находим координаты центра изображения\n",
    "xCenter = width // 2\n",
    "yCenter = height // 2\n",
    "CENTER_RAD = 700 # radius(px) of central part \\ Радиус центральной части\n",
    "print('CENTER_RAD:', CENTER_RAD)"
   ]
  },
  {
   "cell_type": "code",
   "execution_count": 26,
   "metadata": {
    "colab": {},
    "colab_type": "code",
    "id": "Q9GQVO7hsl1I"
   },
   "outputs": [],
   "source": [
    "# Читаем все файлы с координатами и собираем все четверки координат (x1,y1,x2,y2) в массив четверок\n",
    "coords_list = []\n",
    "for fname in fnames:\n",
    "    piece = np.loadtxt(coords_folder + os.sep + fname)\n",
    "    coords_list.append(piece)\n",
    "\n",
    "coords = np.vstack(coords_list)"
   ]
  },
  {
   "cell_type": "code",
   "execution_count": 27,
   "metadata": {
    "colab": {},
    "colab_type": "code",
    "id": "OnxGo-zJsl1M",
    "outputId": "2950ad3d-0b7e-41f1-bebd-a8aa973b57cf"
   },
   "outputs": [
    {
     "name": "stdout",
     "output_type": "stream",
     "text": [
      "Normal Star coordinates pairs (first 5):\n",
      " [[ 227.  418.  531.  473.]\n",
      " [ 199.  681.  508.  733.]\n",
      " [ 378.  781.  684.  830.]\n",
      " [1310.  305. 1606.  342.]\n",
      " [1397. 1180. 1706. 1225.]] \n",
      "\n"
     ]
    }
   ],
   "source": [
    "# Если координаты масштабированы, то делим их на коэфф. масштабирования\n",
    "if zoomed_coords:\n",
    "    coords /= float(SCALE_FAC)\n",
    "    coords = coords.round()\n",
    "    print('Normal Star coordinates pairs (first 5):\\n', coords[:5], '\\n')\n"
   ]
  },
  {
   "cell_type": "code",
   "execution_count": 28,
   "metadata": {
    "colab": {},
    "colab_type": "code",
    "id": "LtUp1RnOsl1R",
    "outputId": "4c17926e-dff2-429e-f5b1-c1f1dddd060a"
   },
   "outputs": [
    {
     "name": "stdout",
     "output_type": "stream",
     "text": [
      "Normal Star coordinates pairs in center:\n",
      " [[1397. 1180. 1706. 1225.]\n",
      " [1138. 1124. 1442. 1170.]\n",
      " [1397. 1180. 1706. 1225.]\n",
      " [1138. 1124. 1442. 1170.]] \n",
      "\n"
     ]
    }
   ],
   "source": [
    "# Если берем только центральные звезды, то отбрасываем все, не попадающие в пересечение 2х окружностей (левого и прав изображ-й)\n",
    "if center_only:\n",
    "    coords_center = []\n",
    "    \n",
    "    for i in range(coords.shape[0]):\n",
    "        _lx = coords[i, 0]\n",
    "        _ly = coords[i, 1]\n",
    "        _rx = coords[i, 2]\n",
    "        _ry = coords[i, 3]\n",
    "        if \\\n",
    "        (_lx - xCenter)**2 + (_ly - yCenter)**2 <= CENTER_RAD**2 and \\\n",
    "        (_rx - xCenter)**2 + (_ry - yCenter)**2 <= CENTER_RAD**2:\n",
    "            coords_center.append(coords[i])\n",
    "    \n",
    "    coords = np.vstack(coords_center)\n",
    "    \n",
    "    print('Normal Star coordinates pairs in center:\\n', coords[:5], '\\n')"
   ]
  },
  {
   "cell_type": "code",
   "execution_count": 29,
   "metadata": {
    "colab": {},
    "colab_type": "code",
    "id": "ap2YiTp1sl1X",
    "outputId": "86f894a4-2f5d-48cd-bd85-731f22ac42d4"
   },
   "outputs": [
    {
     "name": "stdout",
     "output_type": "stream",
     "text": [
      "Number of Star coordinates pairs: 4\n"
     ]
    }
   ],
   "source": [
    "# Число отобранных пар звезд\n",
    "NUM_STAR_PAIRS = len(coords)\n",
    "N = NUM_STAR_PAIRS\n",
    "# Количество координат в \"четверке\" {lX, lY, rX, rY}\n",
    "M = coords.shape[1] # {lX, lY, rX, rY} == 4\n",
    "print('Number of Star coordinates pairs:', NUM_STAR_PAIRS)"
   ]
  },
  {
   "cell_type": "code",
   "execution_count": 30,
   "metadata": {
    "colab": {},
    "colab_type": "code",
    "id": "hr_oE3h2sl1c",
    "outputId": "fdeb2856-cf1b-4e61-9587-6dec14767481"
   },
   "outputs": [
    {
     "name": "stdout",
     "output_type": "stream",
     "text": [
      "First 5 pairs\n",
      "Left X: [1397. 1138. 1397. 1138.]\n",
      "Left Y: [1180. 1124. 1180. 1124.]\n",
      "\n",
      "Right X: [1706. 1442. 1706. 1442.]\n",
      "Right Y: [1225. 1170. 1225. 1170.]\n",
      "\n"
     ]
    }
   ],
   "source": [
    "leftX = coords[:, 0] # Левые Х координаты\n",
    "leftY = coords[:, 1] # Левые У координаты\n",
    "rightX = coords[:, 2] # Правые Х координаты\n",
    "rightY = coords[:, 3] # Правые У координаты\n",
    "\n",
    "print('''First 5 pairs\n",
    "Left X: {}\n",
    "Left Y: {}\n",
    "'''.format(leftX[:5], leftY[:5])\n",
    ")\n",
    "print('''\\\n",
    "Right X: {}\n",
    "Right Y: {}\n",
    "'''.format(rightX[:5], rightY[:5])\n",
    ")"
   ]
  },
  {
   "cell_type": "code",
   "execution_count": 31,
   "metadata": {
    "colab": {},
    "colab_type": "code",
    "id": "o7Li0ZmKsl1l"
   },
   "outputs": [],
   "source": [
    "ELL_RAD = 3 # Радиус круга звезды для отрисовки схемы расположения свезд\n",
    "\n",
    "# Draw star pairs \\ Создаем Новое изображение\n",
    "scatterOriginal = Image.new('RGB', (width, height), 'lightgray')\n",
    "# Инструмент для рисования\n",
    "draw = ImageDraw.Draw(scatterOriginal)\n",
    "\n",
    "# Central point \\ Рисуем центральную точку\n",
    "draw.ellipse((xCenter - ELL_RAD, yCenter - ELL_RAD, \n",
    "              xCenter + ELL_RAD, yCenter + ELL_RAD), fill='darkgreen')\n",
    "\n",
    "# Draw central part boundary \\ Рисуем центральную окружность\n",
    "draw.ellipse((xCenter - CENTER_RAD, yCenter - CENTER_RAD, \n",
    "              xCenter + CENTER_RAD, yCenter + CENTER_RAD), outline='black')\n",
    "\n",
    "\n",
    "# Рисуем круги-звезды левого изображения\n",
    "for i in range(NUM_STAR_PAIRS): # draw star points\n",
    "    draw.ellipse((leftX[i] - ELL_RAD, leftY[i] - ELL_RAD, \n",
    "                  leftX[i] + ELL_RAD, leftY[i] + ELL_RAD), fill='blue')\n"
   ]
  },
  {
   "cell_type": "code",
   "execution_count": 32,
   "metadata": {
    "colab": {},
    "colab_type": "code",
    "id": "iBAduTpCsl1p"
   },
   "outputs": [],
   "source": [
    "# Сохраняем изображение на диск\n",
    "scatterOriginal.save('orig.png')"
   ]
  },
  {
   "cell_type": "markdown",
   "metadata": {
    "colab_type": "text",
    "id": "Y8HxDQ3Xsl1v"
   },
   "source": [
    "affine coeffincients  \n",
    "(a,b,  \n",
    " c,d) -- for rotation matrix  \n",
    "(e,f) -- for transition (shift)   "
   ]
  },
  {
   "cell_type": "code",
   "execution_count": 33,
   "metadata": {
    "colab": {},
    "colab_type": "code",
    "id": "LY1UhjlKsl1x"
   },
   "outputs": [],
   "source": [
    "# Функция для аффинной трансформации координат х,у\n",
    "# Принимает: xy -- tuple из координат х,у: (х,у)\n",
    "# coeffs -- tuple из коэффициентов преобразования: (a,b,c,d,e,f)\n",
    "# Возвращает: [x, y] -- трансформированные координаты в виде массива из 2х элементов: [х,у]\n",
    "def affine_transform(xy, coeffs=(1,0,0,1,0,0)):\n",
    "    assert coeffs != (1,0,0,1,0,0)\n",
    "        \n",
    "    _a, _b, _c, _d, _e, _f = coeffs\n",
    "    x, y = xy\n",
    "    return [\n",
    "        _a * x + _b * y + _e,\n",
    "        _c * x + _d * y + _f\n",
    "    ]"
   ]
  },
  {
   "cell_type": "code",
   "execution_count": 34,
   "metadata": {
    "colab": {},
    "colab_type": "code",
    "id": "6sKnzOBXsl12"
   },
   "outputs": [],
   "source": [
    "# Записываем исходные координаты в другие переменные, т.к. массивы\n",
    "# leftX, leftY, rightX, rightY будут использованы для записи в них съюстированных координат\n",
    "# inputLeftX, inputLeftY, inputRightX, inputRightY are coordinates we get from measuring system\n",
    "inputLeftX = leftX\n",
    "inputLeftY = leftY\n",
    "\n",
    "inputRightX = rightX\n",
    "inputRightY = rightY"
   ]
  },
  {
   "cell_type": "code",
   "execution_count": 35,
   "metadata": {
    "colab": {},
    "colab_type": "code",
    "id": "U_KqwDH9sl16"
   },
   "outputs": [],
   "source": [
    "# Функция для коррекции дисторсии координат х,у\n",
    "# Принимает: xy -- tuple из координат х,у: (х,у)\n",
    "# coeffs -- tuple из коэффициентов преобразования: (eps1_or_eps2, eps3_or_eps4)\n",
    "# Возвращает: [x, y] -- трансформированные координаты в виде массива из 2х элементов: [х,у]\n",
    "def correct_distort(xy, coeffs=(0,0)):\n",
    "    assert coeffs != (0,0)\n",
    "    \n",
    "    # eps1, eps3 -- for left img\n",
    "    # eps2, eps4 -- for right img\n",
    "    _eps1_or_eps2, _eps3_or_eps4  = coeffs\n",
    "    \n",
    "    x, y = xy\n",
    "    \n",
    "    # squared distance from center to (x, y) point\n",
    "    _r = (x - xCenter) ** 2 + (y - yCenter) ** 2\n",
    "    \n",
    "    return [\n",
    "        x - (x - xCenter) * ( _r * _eps1_or_eps2 + (_r ** 2) * _eps3_or_eps4 ),\n",
    "        y - (y - yCenter) * ( _r * _eps1_or_eps2 + (_r ** 2) * _eps3_or_eps4 )\n",
    "    ]"
   ]
  },
  {
   "cell_type": "markdown",
   "metadata": {
    "colab_type": "text",
    "id": "VbrzsNwKsl1-"
   },
   "source": [
    "### Test affine model"
   ]
  },
  {
   "cell_type": "markdown",
   "metadata": {
    "colab_type": "text",
    "id": "Q0yNilResl1_"
   },
   "source": [
    "Calculate model coefficients"
   ]
  },
  {
   "cell_type": "code",
   "execution_count": 36,
   "metadata": {
    "colab": {},
    "colab_type": "code",
    "id": "TyPqg-Oxsl2A"
   },
   "outputs": [],
   "source": [
    "# Инициализируем leftX, leftY, rightX, rightY измеренными значениями\n",
    "leftX = inputLeftX\n",
    "leftY = inputLeftY\n",
    "rightX = inputRightX\n",
    "rightY = inputRightY"
   ]
  },
  {
   "cell_type": "code",
   "execution_count": 37,
   "metadata": {
    "colab": {},
    "colab_type": "code",
    "id": "XxgZh5VRsl2F",
    "outputId": "6223ac9b-ab2f-42d7-e562-844c18c5e2cc"
   },
   "outputs": [
    {
     "name": "stdout",
     "output_type": "stream",
     "text": [
      "xi (first 5):\n",
      " [1706. 1225. 1442. 1170. 1706.]\n"
     ]
    }
   ],
   "source": [
    "# Заполняем вектор кси (из ИВС схемы измерения $ A * \\xi = z + \\nu$ )\n",
    "xi = np.zeros(2 * NUM_STAR_PAIRS)\n",
    "\n",
    "for i in range(NUM_STAR_PAIRS): # fill the xi vector\n",
    "    xi[2 * i] = rightX[i]\n",
    "    xi[2 * i + 1] = rightY[i]\n",
    "\n",
    "print('xi (first 5):\\n', xi[:5])"
   ]
  },
  {
   "cell_type": "code",
   "execution_count": 40,
   "metadata": {
    "colab": {},
    "colab_type": "code",
    "id": "VY-WAwLHsl2M",
    "outputId": "8e790a7a-bce4-4747-b865-902b3311ae29"
   },
   "outputs": [
    {
     "name": "stdout",
     "output_type": "stream",
     "text": [
      "\n",
      "Affine coefficients:\n",
      "0.9498 0.3212 0.4252 -0.6231 \n",
      "0.00 1312.00\n",
      "cond(A):  inf\n"
     ]
    }
   ],
   "source": [
    "k = 6 # num of coeff-s \\ Число коэфф-ов для аффинной модели\n",
    "\n",
    "z = np.zeros(k) # Создаем вектор оцениваемых параметров z\n",
    "arr = np.zeros((2 * NUM_STAR_PAIRS, k)) # matrix A \\ Создаем матрицу А\n",
    "\n",
    "for i in range(NUM_STAR_PAIRS): # fill the A matrix \\ Заполняем матрицу А\n",
    "    \n",
    "    arr[2 * i] = [leftX[i], leftY[i], 0, 0, 1, 0]\n",
    "\n",
    "    arr[2 * i + 1] = [0, 0, leftX[i], leftY[i], 0, 1]\n",
    "\n",
    "    \n",
    "p_arr = np.linalg.pinv(arr, rcond=1e-20) # Считаем псевдо-обратную матрицу А^-\n",
    "z = np.dot(p_arr, xi) # Считаем вектор z = A^- * xi\n",
    "\n",
    "print(\"\"\"\n",
    "Affine coefficients:\n",
    "%.4f %.4f %.4f %.4f \n",
    "%.2f %.2f\"\"\" % tuple(z))\n",
    "print('cond(A): ', np.linalg.cond(arr))"
   ]
  },
  {
   "cell_type": "code",
   "execution_count": 41,
   "metadata": {
    "colab": {},
    "colab_type": "code",
    "id": "5NK-akzxsl2U"
   },
   "outputs": [],
   "source": [
    "\"\"\"\n",
    "Align images and blend\n",
    "\n",
    "a) Affine\n",
    "\"\"\";"
   ]
  },
  {
   "cell_type": "code",
   "execution_count": 43,
   "metadata": {
    "colab": {},
    "colab_type": "code",
    "id": "I69Y7fGGsl2b",
    "outputId": "e6e0e9bd-a6a8-4450-f06d-ebdf5e7ac0a9"
   },
   "outputs": [
    {
     "name": "stdout",
     "output_type": "stream",
     "text": [
      "Backward affine Left:\n",
      "Left X: [1706. 1442. 1706. 1442.]\n",
      "Left Y: [1170.66040039 1095.43688965 1170.66040039 1095.43688965]\n",
      "\n",
      "Right:\n",
      "Right X: [1706. 1442. 1706. 1442.]\n",
      "Right Y: [1225. 1170. 1225. 1170.]\n",
      "\n"
     ]
    }
   ],
   "source": [
    "# Создаем функцию из функции affine_transform, зафиксировав в ней coeffs\n",
    "affine = partial(affine_transform, coeffs=tuple(z))\n",
    "\n",
    "# Calc estimated (affine transformed) points \\ Применяем (map) affine к \"склеенным попарно\" массивам leftX, leftY ( zip(leftX, leftY) ) \n",
    "# Преобразуем к массиву [[х0, x1 ... ] [y0, y1, ...]]\n",
    "leftCoords = np.array(list(map(affine, zip(leftX, leftY))))\n",
    "\n",
    "# Estimated coordinates \\ Вытаскиваем съюстированные координаты звезд левого изображения\n",
    "estLeftX = leftCoords[:, 0]\n",
    "estLeftY = leftCoords[:, 1]\n",
    "\n",
    "\n",
    "print('''Backward affine Left:\n",
    "Left X: {}\n",
    "Left Y: {}\n",
    "'''.format(estLeftX[:5], estLeftY[:5])\n",
    ")\n",
    "\n",
    "print('''Right:\n",
    "Right X: {}\n",
    "Right Y: {}\n",
    "'''.format(rightX[:5], rightY[:5])\n",
    ")"
   ]
  },
  {
   "cell_type": "markdown",
   "metadata": {
    "colab_type": "text",
    "id": "NcWFk_Xnsl2h"
   },
   "source": [
    "Calculate error metrics"
   ]
  },
  {
   "cell_type": "markdown",
   "metadata": {
    "colab_type": "text",
    "id": "SrtxWhRzsl2k"
   },
   "source": [
    "1) $\\Delta x_i, \\Delta y_i, \\; i = 1,N$\n",
    "\n",
    "2) $\\sigma^2 = \\frac{1}{N} \\sum\\limits_{i=1}^{N} \n",
    "                \\left( \\Delta x_i^2 + \\Delta y_i^2 \\right)$"
   ]
  },
  {
   "cell_type": "code",
   "execution_count": 44,
   "metadata": {
    "colab": {},
    "colab_type": "code",
    "id": "9Nl0iGdDsl2m",
    "outputId": "bf686901-3061-45c2-8579-77bd6a3d8219"
   },
   "outputs": [
    {
     "name": "stdout",
     "output_type": "stream",
     "text": [
      "delX: [2.04636308e-12 1.59161573e-12 2.04636308e-12 1.59161573e-12]\n",
      "delY: [54.33959961 74.56311035 54.33959961 74.56311035]\n",
      "mX: 0.0000 mY: 74.5631 m: 74.5631\n",
      "sigSqr: 4256.2248\n"
     ]
    }
   ],
   "source": [
    "# Считаем метрики, описанные формулами сверху\n",
    "delX = abs(estLeftX - rightX)\n",
    "delY = abs(estLeftY - rightY)\n",
    "print(\"delX:\", delX[:5])\n",
    "print(\"delY:\", delY[:5])\n",
    "\n",
    "sigSqr = 1.0 / N * sum(delX**2 + delY**2)\n",
    "mX = max(delX)\n",
    "mY = max(delY)\n",
    "m = max(mX, mY)\n",
    "\n",
    "print(\"mX: %.4f mY: %.4f m: %.4f\" % (mX, mY, m))\n",
    "print(\"sigSqr: %.4f\" % sigSqr)"
   ]
  },
  {
   "cell_type": "markdown",
   "metadata": {
    "colab_type": "text",
    "id": "pzFF21XOsl2r"
   },
   "source": [
    "Plot aligned star pairs"
   ]
  },
  {
   "cell_type": "code",
   "execution_count": 45,
   "metadata": {
    "colab": {},
    "colab_type": "code",
    "id": "aEXybD5ssl2t"
   },
   "outputs": [],
   "source": [
    "# Рисуем съюстированные звезды, см комменты в аналогичном блоке выше\n",
    "scatter = Image.new('RGB', (width, height), 'lightgray')\n",
    "\n",
    "\n",
    "draw = ImageDraw.Draw(scatter)\n",
    "draw.ellipse((xCenter - ELL_RAD, yCenter - ELL_RAD, \n",
    "              xCenter + ELL_RAD, yCenter + ELL_RAD), fill='darkgreen')\n",
    "\n",
    "\n",
    "# draw star points \\ Рисуем совмещенные  левые (red) и правые (blue) звезды\n",
    "for i in range(NUM_STAR_PAIRS):\n",
    "    draw.ellipse((estLeftX[i] - ELL_RAD, estLeftY[i] - ELL_RAD, \n",
    "                  estLeftX[i] + ELL_RAD, estLeftY[i] + ELL_RAD), fill='red')\n",
    "    \n",
    "    draw.ellipse((rightX[i] - ELL_RAD, rightY[i] - ELL_RAD, \n",
    "                  rightX[i] + ELL_RAD, rightY[i] + ELL_RAD), fill='blue')"
   ]
  },
  {
   "cell_type": "code",
   "execution_count": 46,
   "metadata": {
    "colab": {},
    "colab_type": "code",
    "id": "kkbLBeLBsl2y"
   },
   "outputs": [],
   "source": [
    "scatter.save('000.png')"
   ]
  },
  {
   "cell_type": "markdown",
   "metadata": {
    "colab_type": "text",
    "id": "tQgYR7-Zsl23"
   },
   "source": [
    "### Test affine+distortion35 model"
   ]
  },
  {
   "cell_type": "markdown",
   "metadata": {
    "colab_type": "text",
    "id": "4GFjy9Jesl25"
   },
   "source": [
    "Calculate model coefficients"
   ]
  },
  {
   "cell_type": "code",
   "execution_count": 47,
   "metadata": {
    "colab": {},
    "colab_type": "code",
    "id": "6lLyqWBNsl26"
   },
   "outputs": [],
   "source": [
    "leftX = inputLeftX\n",
    "leftY = inputLeftY\n",
    "rightX = inputRightX\n",
    "rightY = inputRightY"
   ]
  },
  {
   "cell_type": "code",
   "execution_count": 48,
   "metadata": {
    "colab": {},
    "colab_type": "code",
    "id": "ijVY3iWzsl3A"
   },
   "outputs": [],
   "source": [
    "\"\"\"\n",
    "c) Affine + Ditortion 3rd, 5th orders \n",
    "  (at least 5 stars)\n",
    "\"\"\";"
   ]
  },
  {
   "cell_type": "code",
   "execution_count": 49,
   "metadata": {
    "colab": {},
    "colab_type": "code",
    "id": "jFxanBELsl3E"
   },
   "outputs": [],
   "source": [
    "k35 = 10 # Число коэфф-ов для модели D35\n",
    "\n",
    "z35 = np.zeros(k35) # искомый вектор параметров z\n",
    "arr35 = np.zeros((2 * N, k35)) # matrix A\n",
    "\n",
    "for i in range(N): # fill the A matrix \\ Заполняем матрицу А\n",
    "    # Квадрат расстояния от точки до центра на левом изображении\n",
    "    dist_l = (leftX[i] - xCenter) ** 2 + (leftY[i] - yCenter) ** 2\n",
    "    # Квадрат расстояния от точки до центра на правом изображении\n",
    "    dist_r = (rightX[i] - xCenter) ** 2 + (rightY[i] - yCenter) ** 2\n",
    "\n",
    "    zx1 = (leftX[i] - xCenter) * dist_l # (х * r^2) на левом кадре\n",
    "    zx2 = (rightX[i] - xCenter) * dist_r # (x * r^2) на правом кадре\n",
    "    wx1 = (leftX[i] - xCenter) * dist_l ** 2 # (х * r^4) на левом кадре\n",
    "    wx2 = (rightX[i] - xCenter) * dist_r ** 2 # (x * r^4) на правом кадре\n",
    "\n",
    "    # Четные (0, 2, ...) строки матрицы А\n",
    "    arr35[2 * i] = [leftX[i], leftY[i], 0, 0, 1, 0, -zx1, zx2, -wx1, wx2]\n",
    "\n",
    "    # Аналогичные элементы для у-координаты     \n",
    "    zy1 = (leftY[i] - yCenter) * dist_l\n",
    "    zy2 = (rightY[i] - yCenter) * dist_r\n",
    "    wy1 = (leftY[i] - yCenter) * dist_l ** 2\n",
    "    wy2 = (rightY[i] - yCenter) * dist_r ** 2\n",
    "\n",
    "    # Нечетные (1, 3, ...) строки матрицы А\n",
    "    arr35[2 * i + 1] = [0, 0, leftX[i], leftY[i], 0, 1, -zy1, zy2, -wy1, wy2]\n"
   ]
  },
  {
   "cell_type": "code",
   "execution_count": 51,
   "metadata": {
    "colab": {},
    "colab_type": "code",
    "id": "EmdZldbGsl3I",
    "outputId": "3830c647-d8db-46ff-b4bd-213dd4982913"
   },
   "outputs": [
    {
     "name": "stdout",
     "output_type": "stream",
     "text": [
      "\n",
      "Affine coefficients + Ditortion 3rd, 5th orders:\n",
      "\n",
      "-0.0000 -0.0000 0.0000 0.0000 \n",
      "-0.00 0.00 \n",
      "-3.32e-04 6.31e-03 \n",
      "2.63e-09 -1.72e-07\n",
      "cond(A):  3.1065709981625113e+24\n"
     ]
    }
   ],
   "source": [
    "p_arr35 = np.linalg.pinv(arr35, rcond=1e-20) # Считаем псевдообратную матрицу A^-\n",
    "z35 = np.dot(p_arr35, xi) # Считаем вектор параметров z = A^- * xi\n",
    "\n",
    "\n",
    "print(\"\"\"\n",
    "Affine coefficients + Ditortion 3rd, 5th orders:\n",
    "\n",
    "%.4f %.4f %.4f %.4f \n",
    "%.2f %.2f \n",
    "%.2e %.2e \n",
    "%.2e %.2e\"\"\" % tuple(z35))\n",
    "\n",
    "print('cond(A): ', np.linalg.cond(arr35))"
   ]
  },
  {
   "cell_type": "code",
   "execution_count": 52,
   "metadata": {
    "colab": {},
    "colab_type": "code",
    "id": "CQ7FuQZAsl3N"
   },
   "outputs": [],
   "source": [
    "\"\"\"\n",
    "c) Affine + Ditortion3,5\n",
    "\"\"\";"
   ]
  },
  {
   "cell_type": "code",
   "execution_count": 53,
   "metadata": {
    "colab": {},
    "colab_type": "code",
    "id": "8g_cAsCPsl3R"
   },
   "outputs": [],
   "source": [
    "a = float(z35[0])\n",
    "b = float(z35[1])\n",
    "c = float(z35[2])\n",
    "d = float(z35[3])\n",
    "e = float(z35[4])\n",
    "f = float(z35[5])\n",
    "\n",
    "eps1 = float(z35[6])\n",
    "eps2 = float(z35[7])\n",
    "eps3 = float(z35[8])\n",
    "eps4 = float(z35[9])"
   ]
  },
  {
   "cell_type": "code",
   "execution_count": 55,
   "metadata": {
    "colab": {},
    "colab_type": "code",
    "id": "IT4gJK7lsl3W",
    "outputId": "b0e230d2-60fb-45f9-e53f-5d41b2e79355"
   },
   "outputs": [
    {
     "name": "stdout",
     "output_type": "stream",
     "text": [
      "Backward distort+affine Left:\n",
      "Left X: [-0.00014919 -0.00120747 -0.00014919 -0.00120747]\n",
      "Left Y: [0.08331201 0.35032643 0.08331201 0.35032643]\n",
      "\n",
      "Backward distort Right:\n",
      "Right X: [-780.39622529 5522.55122267 -780.39622529 5522.55122267]\n",
      "Right Y: [157.31220914 388.61785098 157.31220914 388.61785098]\n",
      "\n"
     ]
    }
   ],
   "source": [
    "# Backward distort\n",
    "correctDistortLeft = partial(correct_distort, coeffs=(eps1, eps3))\n",
    "# Применяем дисторсионные поправки к лев. звездам\n",
    "leftCoords = np.array(list(map(correctDistortLeft, zip(leftX, leftY))))\n",
    "leftX = leftCoords[:, 0]\n",
    "leftY = leftCoords[:, 1]\n",
    "\n",
    "\n",
    "correctDistortRight = partial(correct_distort, coeffs=(eps2, eps4))\n",
    "# Применяем дисторсионные поправки к прав. звездам\n",
    "rightCoords = np.array(list(map(correctDistortRight, zip(rightX, rightY))))\n",
    "estRightX35 = rightCoords[:, 0]\n",
    "estRightY35 = rightCoords[:, 1]\n",
    "\n",
    "\n",
    "# Backward affine\n",
    "affine = partial(affine_transform, coeffs=(a,b,c,d,e,f))\n",
    "# Применяем афф. преобразование к лев. звездам\n",
    "leftCoords = np.array(list(map(affine, zip(leftX, leftY))))\n",
    "estLeftX35 = leftCoords[:, 0]\n",
    "estLeftY35 = leftCoords[:, 1]\n",
    "\n",
    "\n",
    "print('''Backward distort+affine Left:\n",
    "Left X: {}\n",
    "Left Y: {}\n",
    "'''.format(estLeftX35[:5], estLeftY35[:5])\n",
    ")\n",
    "\n",
    "print('''Backward distort Right:\n",
    "Right X: {}\n",
    "Right Y: {}\n",
    "'''.format(estRightX35[:5], estRightY35[:5])\n",
    ")"
   ]
  },
  {
   "cell_type": "markdown",
   "metadata": {
    "colab_type": "text",
    "id": "LRrK9_0Hsl3a"
   },
   "source": [
    "Calculate error metrics"
   ]
  },
  {
   "cell_type": "code",
   "execution_count": 56,
   "metadata": {
    "colab": {},
    "colab_type": "code",
    "id": "6OnrkD7Osl3f",
    "outputId": "3b7f8a42-fa89-4cfa-adb3-025f0d07105a"
   },
   "outputs": [
    {
     "name": "stdout",
     "output_type": "stream",
     "text": [
      "delX35: [ 780.3960761  5522.55243013  780.3960761  5522.55243013]\n",
      "delY35: [157.22889713 388.26752455 157.22889713 388.26752455]\n",
      "mX35: 5522.5524 mY35: 388.2675 m35: 5522.5524\n",
      "sigSqr35: 15641537.9879\n"
     ]
    }
   ],
   "source": [
    "# Считаем метрики: dx, dy, sigma^2\n",
    "delX35 = abs(estLeftX35 - estRightX35)\n",
    "delY35 = abs(estLeftY35 - estRightY35)\n",
    "print(\"delX35:\", delX35[:5])\n",
    "print(\"delY35:\", delY35[:5])\n",
    "\n",
    "sigSqr35 = 1.0 / N * sum(delX35**2 + delY35**2)\n",
    "mX35 = max(delX35)\n",
    "mY35 = max(delY35)\n",
    "m35 = max(mX35, mY35)\n",
    "\n",
    "print(\"mX35: %.4f mY35: %.4f m35: %.4f\" % (mX35, mY35, m35))\n",
    "print(\"sigSqr35: %.4f\" % sigSqr35)"
   ]
  },
  {
   "cell_type": "markdown",
   "metadata": {
    "colab_type": "text",
    "collapsed": true,
    "id": "LIXjfrDjsl3m"
   },
   "source": [
    "Plot aligned star pairs"
   ]
  },
  {
   "cell_type": "code",
   "execution_count": 57,
   "metadata": {
    "colab": {},
    "colab_type": "code",
    "id": "ltYIiTw_sl3n"
   },
   "outputs": [],
   "source": [
    "# Рисуем съюстированные звезды\n",
    "scatter35 = Image.new('RGB', (width, height), 'lightgray')\n",
    "\n",
    "\n",
    "draw = ImageDraw.Draw(scatter35)\n",
    "draw.ellipse((xCenter - ELL_RAD, yCenter - ELL_RAD, \n",
    "              xCenter + ELL_RAD, yCenter + ELL_RAD), fill='darkgreen')\n",
    "\n",
    "\n",
    "for i in range(NUM_STAR_PAIRS): # draw star points / Рисуем совмещенные  левые (red) и правые (blue) звезды\n",
    "    draw.ellipse((estLeftX35[i] - ELL_RAD, estLeftY35[i] - ELL_RAD, \n",
    "                  estLeftX35[i] + ELL_RAD, estLeftY35[i] + ELL_RAD), fill='red')\n",
    "    \n",
    "    draw.ellipse((estRightX35[i] - ELL_RAD, estRightY35[i] - ELL_RAD, \n",
    "                  estRightX35[i] + ELL_RAD, estRightY35[i] + ELL_RAD), fill='blue')\n"
   ]
  },
  {
   "cell_type": "code",
   "execution_count": 58,
   "metadata": {
    "colab": {},
    "colab_type": "code",
    "id": "fCwDWUMPsl3r"
   },
   "outputs": [],
   "source": [
    "scatter35.save('035.png') # Сохраняем рисунок"
   ]
  },
  {
   "cell_type": "code",
   "execution_count": null,
   "metadata": {},
   "outputs": [],
   "source": []
  }
 ],
 "metadata": {
  "colab": {
   "collapsed_sections": [],
   "name": "Test-AffDist-Stars-Model-Mar2017-Test-On_Real-Stars.ipynb",
   "provenance": [],
   "version": "0.3.2"
  },
  "kernelspec": {
   "display_name": "Python 3",
   "language": "python",
   "name": "python3"
  },
  "language_info": {
   "codemirror_mode": {
    "name": "ipython",
    "version": 3
   },
   "file_extension": ".py",
   "mimetype": "text/x-python",
   "name": "python",
   "nbconvert_exporter": "python",
   "pygments_lexer": "ipython3",
   "version": "3.6.7"
  }
 },
 "nbformat": 4,
 "nbformat_minor": 1
}
