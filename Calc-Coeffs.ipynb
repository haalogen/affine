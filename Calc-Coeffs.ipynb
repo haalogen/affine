{
 "cells": [
  {
   "cell_type": "code",
   "execution_count": 1,
   "metadata": {},
   "outputs": [],
   "source": [
    "import os\n",
    "from PIL import Image\n",
    "import numpy as np\n",
    "import matplotlib.pyplot as plt\n",
    "from numpy.linalg import norm, pinv\n",
    "%matplotlib inline\n",
    "np.set_printoptions(precision=12, suppress=True)"
   ]
  },
  {
   "cell_type": "code",
   "execution_count": 2,
   "metadata": {},
   "outputs": [],
   "source": [
    "consider_distort = False # flag whether to consider distortion\n",
    "zoomed_coords = True # whether to divide coordinates by SCALE_FAC or not (zoomed coords or not)\n",
    "center_only = True # use only central stars\n",
    "SCALE_FAC = 4.0 # Scale factor of coordinates"
   ]
  },
  {
   "cell_type": "code",
   "execution_count": 3,
   "metadata": {},
   "outputs": [],
   "source": [
    "coords_folder = 'data/star_coords/2016nov-11_txt/' # folder with coords files\n",
    "images_folder = 'data/stars/2016nov-11/'\n",
    "results_folder = 'results/2016nov-11/'"
   ]
  },
  {
   "cell_type": "code",
   "execution_count": 4,
   "metadata": {},
   "outputs": [],
   "source": [
    "# 20160218\n",
    "# fnames = [\n",
    "#     '20160218-201934-437.txt',\n",
    "#     '20160218-211934-484.txt'\n",
    "# ]\n",
    "\n",
    "# 20160219\n",
    "# fnames = [\n",
    "#     '20160219-001934-484.txt',\n",
    "#     '20160219-021934-593.txt',\n",
    "#     '20160219-041934-593.txt'\n",
    "# ]\n",
    "\n",
    "# 20160311\n",
    "# fnames = [\n",
    "#     '20160311-020811-125.txt',\n",
    "#     '20160311-030811-125.txt'\n",
    "# ]\n",
    "\n",
    "# 2016nov-11 jpg\n",
    "fnames = [\n",
    "    \"20161122-191517-359.txt\",\n",
    "    \"20161121-220921-250.txt\",\n",
    "]"
   ]
  },
  {
   "cell_type": "code",
   "execution_count": 5,
   "metadata": {},
   "outputs": [
    {
     "ename": "SyntaxError",
     "evalue": "Missing parentheses in call to 'print'. Did you mean print(date)? (<ipython-input-5-554114b46472>, line 2)",
     "output_type": "error",
     "traceback": [
      "\u001b[0;36m  File \u001b[0;32m\"<ipython-input-5-554114b46472>\"\u001b[0;36m, line \u001b[0;32m2\u001b[0m\n\u001b[0;31m    print date\u001b[0m\n\u001b[0m             ^\u001b[0m\n\u001b[0;31mSyntaxError\u001b[0m\u001b[0;31m:\u001b[0m Missing parentheses in call to 'print'. Did you mean print(date)?\n"
     ]
    }
   ],
   "source": [
    "date = fnames[0][:-4]\n",
    "print(date)"
   ]
  },
  {
   "cell_type": "code",
   "execution_count": null,
   "metadata": {},
   "outputs": [],
   "source": [
    "if consider_distort:\n",
    "    print(\"consider_distort is True!\")"
   ]
  },
  {
   "cell_type": "code",
   "execution_count": null,
   "metadata": {},
   "outputs": [],
   "source": [
    "im = Image.open(images_folder + \"mod_\" + date + \"-1.jpg\")\n",
    "w, h = im.size\n",
    "print(\"Image size:\", w, h)"
   ]
  },
  {
   "cell_type": "code",
   "execution_count": null,
   "metadata": {},
   "outputs": [],
   "source": [
    "CENTER_RAD = h/4 # radius(px) of central part\n",
    "x_c, y_c = w/2, h/2 # central point of img\n",
    "print 'x_c, y_c:', x_c, y_c\n",
    "print 'CENTER_RAD:', CENTER_RAD"
   ]
  },
  {
   "cell_type": "code",
   "execution_count": null,
   "metadata": {},
   "outputs": [],
   "source": [
    "coords_list = []\n",
    "for fname in fnames:\n",
    "    piece = np.loadtxt(coords_folder + os.sep + fname)\n",
    "    coords_list.append(piece)\n",
    "\n",
    "coords = np.vstack(coords_list)\n",
    "print 'Zoomed In Star coordinates pairs:\\n', coords, '\\n'\n",
    "\n",
    "if zoomed_coords:\n",
    "    coords /= float(SCALE_FAC)\n",
    "    coords = coords.round()\n",
    "    print 'Normal Star coordinates pairs:\\n', coords\n",
    "\n",
    "\n",
    "if center_only:\n",
    "    coords_center = []\n",
    "    \n",
    "    for i in xrange(coords.shape[0]):\n",
    "        _lx = coords[i, 0]\n",
    "        _ly = coords[i, 1]\n",
    "        _rx = coords[i, 2]\n",
    "        _ry = coords[i, 3]\n",
    "        if \\\n",
    "        (_lx - x_c)**2 + (_ly - y_c)**2 <= CENTER_RAD**2 and \\\n",
    "        (_rx - x_c)**2 + (_ry - y_c)**2 <= CENTER_RAD**2:\n",
    "            print coords[i]\n",
    "            coords_center.append(coords[i])\n",
    "    \n",
    "    coords = np.vstack(coords_center)\n",
    "    print 'Normal Star coordinates pairs in center:\\n', coords"
   ]
  },
  {
   "cell_type": "code",
   "execution_count": null,
   "metadata": {},
   "outputs": [],
   "source": [
    "lX = coords[:, 0] # leftX coordinates\n",
    "lY = coords[:, 1] # leftY coordinates\n",
    "rX = coords[:, 2] # rightX coordinates\n",
    "rY = coords[:, 3] # rightY coordinates\n",
    "\n",
    "N = coords.shape[0] # number of pairs of points\n",
    "M = coords.shape[1] # lX, lY, rX, rY == 4\n",
    "print 'Number of Star coordinates pairs:', N"
   ]
  },
  {
   "cell_type": "code",
   "execution_count": null,
   "metadata": {},
   "outputs": [],
   "source": [
    "xi = np.zeros(2*N)\n",
    "\n",
    "num_coeffs = 6\n",
    "if consider_distort:\n",
    "    num_coeffs = 8\n",
    "\n",
    "z = np.zeros(num_coeffs)\n",
    "arr = np.zeros((2*N, num_coeffs)) # matrix A\n",
    "print 'Number of coefficients:', num_coeffs"
   ]
  },
  {
   "cell_type": "code",
   "execution_count": null,
   "metadata": {},
   "outputs": [],
   "source": [
    "for i in xrange(N): # fill the xi vector\n",
    "    xi[2*i] = rX[i]\n",
    "    xi[2*i + 1] = rY[i]"
   ]
  },
  {
   "cell_type": "code",
   "execution_count": null,
   "metadata": {},
   "outputs": [],
   "source": [
    "if consider_distort:\n",
    "    im = Image.open('data/stars/2016nov-11/mod_'+ date +'-1.jpg')\n",
    "    x_c = im.width / 2.0\n",
    "    y_c = im.height / 2.0\n",
    "    for i in xrange(N): # fill the A matrix\n",
    "        dist_l = (lX[i]-x_c)**2 + (lY[i]-y_c)**2\n",
    "        dist_r = (rX[i]-x_c)**2 + (rY[i]-y_c)**2\n",
    "\n",
    "        zx1 = (lX[i] - x_c) * dist_l\n",
    "        zx2 = (rX[i] - x_c) * dist_r\n",
    "        arr[2*i] = [lX[i], lY[i], 0, 0, 1, 0, -zx1, zx2]\n",
    "\n",
    "        zy1 = (lY[i] - y_c) * dist_l\n",
    "        zy2 = (rY[i] - y_c) * dist_r\n",
    "        arr[2*i + 1] = [0, 0, lX[i], lY[i], 0, 1, -zy1, zy2]\n",
    "\n",
    "else:\n",
    "    for i in xrange(N): # fill the A matrix\n",
    "        arr[2*i] = [lX[i], lY[i], 0, 0, 1, 0]\n",
    "\n",
    "        arr[2*i + 1] = [0, 0, lX[i], lY[i], 0, 1]"
   ]
  },
  {
   "cell_type": "code",
   "execution_count": null,
   "metadata": {},
   "outputs": [],
   "source": [
    "np.set_printoptions(precision=2, suppress=True)\n",
    "print 'A:\\n', arr, '\\n'\n",
    "print 'xi:\\n', xi\n",
    "np.set_printoptions(precision=12, suppress=True)"
   ]
  },
  {
   "cell_type": "code",
   "execution_count": null,
   "metadata": {},
   "outputs": [],
   "source": [
    "p_arr = pinv(arr)\n",
    "z = np.dot(p_arr, xi)\n",
    "print 'Affine coefficients: \\n', z"
   ]
  },
  {
   "cell_type": "code",
   "execution_count": null,
   "metadata": {
    "scrolled": true
   },
   "outputs": [],
   "source": [
    "sigma = 2 # 2 pix error\n",
    "I = np.eye(2*N)\n",
    "\n",
    "print 'cond(A): ', np.linalg.cond(arr)\n",
    "proba = (2*N - num_coeffs) / norm( np.dot(I - np.dot(arr, p_arr), xi) )**2\n",
    "sig_theory = (1 / proba)**0.5\n",
    "\n",
    "print 'Probability:', proba\n",
    "print 'Sigma theory:', sig_theory\n",
    "print 'Sigma practice', sigma"
   ]
  },
  {
   "cell_type": "code",
   "execution_count": null,
   "metadata": {},
   "outputs": [],
   "source": [
    "a = float(z[0])\n",
    "b = float(z[1])\n",
    "c = float(z[2])\n",
    "d = float(z[3])\n",
    "e = float(z[4])\n",
    "f = float(z[5])\n",
    "if consider_distort:\n",
    "    eps1 = float(z[6])\n",
    "    eps2 = float(z[7])"
   ]
  },
  {
   "cell_type": "code",
   "execution_count": null,
   "metadata": {},
   "outputs": [],
   "source": [
    "if consider_distort:\n",
    "    # Get rid of distortions on nlImg\n",
    "    for i in xrange(N): \n",
    "        dist_l = (lX[i] - x_c)**2 + (lY[i] - y_c)**2\n",
    "\n",
    "        zx1 = (lX[i] - x_c) * dist_l\n",
    "        zy1 = (lY[i] - y_c) * dist_l\n",
    "\n",
    "#         lX[round(i - eps1*zx1), round(j - eps2*zy1)] = l_pix[i, j]\n",
    "        lX[i] = lX[i] - eps1 * zx1\n",
    "        lY[i] = lY[i] - eps1 * zy1\n",
    "    \n",
    "    \n",
    "    # Get rid of distortions on nrImg\n",
    "\n",
    "    for i in xrange(N): \n",
    "        dist_r = (rX[i] - x_c)**2 + (rY[i] - y_c)**2\n",
    "\n",
    "        zx2 = (rX[i] - x_c) * dist_r\n",
    "        zy2 = (rY[i] - y_c) * dist_r\n",
    "\n",
    "#             nr_pix[round(i - eps1*zx2), round(j - eps2*zy2)] = r_pix[i, j]\n",
    "        rX[i] = rX[i] - eps2 * zx2\n",
    "        rY[i] = rY[i] - eps2 * zy2\n"
   ]
  },
  {
   "cell_type": "code",
   "execution_count": null,
   "metadata": {},
   "outputs": [],
   "source": [
    "def affine_transform_point(x, y):\n",
    "    return [b * y + x * a + e , d * y + x * c + f]"
   ]
  },
  {
   "cell_type": "code",
   "execution_count": null,
   "metadata": {},
   "outputs": [],
   "source": [
    "# Calc new (affine transformed) points\n",
    "for i in xrange(N): \n",
    "    lX[i], lY[i] = affine_transform_point(lX[i], lY[i])"
   ]
  },
  {
   "cell_type": "code",
   "execution_count": null,
   "metadata": {},
   "outputs": [],
   "source": [
    "mse_dist = 0 # MSE of distance\n",
    "mse_x = 0 # MSE of x\n",
    "max_d = 0 # Max of distance error\n",
    "\n",
    "# alignment errors (px) = sqrt( (lX[i] - rX[i])**2 + (lY[i] - rY[i])**2 )\n",
    "align_errs = np.zeros(N) \n",
    "dists = np.zeros(N) # distance from (x_c, y_c) to lX[i], lY[i]\n",
    "\n",
    "for i in xrange(N):\n",
    "    mse_dist += (lX[i] - rX[i])**2 + (lY[i] - rY[i])**2\n",
    "    mse_x += (lX[i] - rX[i])**2\n",
    "    \n",
    "    align_errs[i] = np.sqrt((lX[i] - rX[i])**2 + (lY[i] - rY[i])**2)\n",
    "    dists[i] = np.sqrt((lX[i] - x_c)**2 + (lY[i] - y_c)**2)\n",
    "    \n",
    "    if (lX[i] - rX[i])**2 + (lY[i] - rY[i])**2 > max_d:\n",
    "        max_d = (lX[i] - rX[i])**2 + (lY[i] - rY[i])**2\n",
    "\n",
    "mse_dist = (1.0 * mse_dist / N)**0.5\n",
    "mse_x = (1.0 * mse_x / N)**0.5\n",
    "max_d = max_d**0.5\n",
    "\n",
    "print 'mse_dist:', mse_dist\n",
    "print 'mse_x:', mse_x\n",
    "print 'max_d:', max_d"
   ]
  },
  {
   "cell_type": "code",
   "execution_count": null,
   "metadata": {},
   "outputs": [],
   "source": [
    "res_fname = results_folder\n",
    "\n",
    "if center_only:\n",
    "    res_fname += 'center_only_CenRad' + str(CENTER_RAD) +\"_\"\n",
    "\n",
    "if consider_distort:\n",
    "    res_fname += 'affdis_coeffs_shots'\n",
    "else:\n",
    "    res_fname += 'affine_coeffs_shots'\n",
    "\n",
    "\n",
    "res_fname += str(len(fnames)) + '_' + fnames[0]"
   ]
  },
  {
   "cell_type": "code",
   "execution_count": null,
   "metadata": {},
   "outputs": [],
   "source": [
    "np.savetxt(res_fname, z, fmt=\"%.12f\")\n",
    "print 'Coeffs are saved to:', res_fname"
   ]
  },
  {
   "cell_type": "code",
   "execution_count": null,
   "metadata": {},
   "outputs": [],
   "source": [
    "if center_only:\n",
    "    plt.figure(figsize=(8,6))\n",
    "    plt.plot(dists, align_errs, 'o')\n",
    "    plt.xlabel('Distance from center point to (lX[i], lY[i]), px')\n",
    "    plt.ylabel('Alignment error distance, px')\n",
    "    plt.savefig(res_fname[:-4] + '_plot_AlignErr_from_Distance')"
   ]
  },
  {
   "cell_type": "code",
   "execution_count": null,
   "metadata": {},
   "outputs": [],
   "source": []
  }
 ],
 "metadata": {
  "kernelspec": {
   "display_name": "Python 3",
   "language": "python",
   "name": "python3"
  },
  "language_info": {
   "codemirror_mode": {
    "name": "ipython",
    "version": 3
   },
   "file_extension": ".py",
   "mimetype": "text/x-python",
   "name": "python",
   "nbconvert_exporter": "python",
   "pygments_lexer": "ipython3",
   "version": "3.6.4"
  }
 },
 "nbformat": 4,
 "nbformat_minor": 1
}
