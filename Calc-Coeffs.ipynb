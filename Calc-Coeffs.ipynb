{
 "cells": [
  {
   "cell_type": "code",
   "execution_count": 80,
   "metadata": {
    "collapsed": true
   },
   "outputs": [],
   "source": [
    "import os\n",
    "from PIL import Image\n",
    "import numpy as np\n",
    "from numpy.linalg import norm, pinv\n",
    "np.set_printoptions(precision=12, suppress=True)"
   ]
  },
  {
   "cell_type": "code",
   "execution_count": 81,
   "metadata": {
    "collapsed": true
   },
   "outputs": [],
   "source": [
    "consider_distort = False # flag whether to consider distortion\n",
    "zoomed_coords = True # whether to divide coordinates by 5 or not (zoomed coords or not)"
   ]
  },
  {
   "cell_type": "code",
   "execution_count": 82,
   "metadata": {
    "collapsed": true
   },
   "outputs": [],
   "source": [
    "folder_name = 'data/star_coords/spring2016_txt/' # folder with coords files"
   ]
  },
  {
   "cell_type": "code",
   "execution_count": 83,
   "metadata": {
    "collapsed": true
   },
   "outputs": [],
   "source": [
    "# 20160218\n",
    "# fnames = [\n",
    "#     '20160218-201934-437.txt',\n",
    "#     '20160218-211934-484.txt'\n",
    "# ]\n",
    "\n",
    "# 20160219\n",
    "# fnames = [\n",
    "#     '20160219-001934-484.txt',\n",
    "#     '20160219-021934-593.txt',\n",
    "#     '20160219-041934-593.txt'\n",
    "# ]\n",
    "\n",
    "# 20160311\n",
    "fnames = [\n",
    "#     '20160311-020811-125.txt',\n",
    "    '20160311-030811-125.txt'\n",
    "]"
   ]
  },
  {
   "cell_type": "code",
   "execution_count": 84,
   "metadata": {
    "collapsed": false
   },
   "outputs": [],
   "source": [
    "if consider_distort:\n",
    "    print \"consider_distort is True!\""
   ]
  },
  {
   "cell_type": "code",
   "execution_count": 85,
   "metadata": {
    "collapsed": false
   },
   "outputs": [
    {
     "name": "stdout",
     "output_type": "stream",
     "text": [
      "Zoomed In Star coordinates pairs:\n",
      "[[ 4695.  2972.  5879.  3136.]\n",
      " [ 3291.  3114.  4459.  3289.]\n",
      " [ 2503.  2618.  3682.  2809.]\n",
      " [ 1453.  2075.  2651.  2286.]\n",
      " [ 1275.  1099.  2473.  1331.]] \n",
      "\n",
      "Normal Star coordinates pairs:\n",
      "[[  939.   594.  1176.   627.]\n",
      " [  658.   623.   892.   658.]\n",
      " [  501.   524.   736.   562.]]\n"
     ]
    }
   ],
   "source": [
    "coords_list = []\n",
    "for fname in fnames:\n",
    "    piece = np.loadtxt(folder_name + os.sep + fname)\n",
    "    coords_list.append(piece)\n",
    "\n",
    "coords = np.vstack(coords_list)\n",
    "print 'Zoomed In Star coordinates pairs:\\n', coords, '\\n'\n",
    "\n",
    "if zoomed_coords:\n",
    "    coords /= 5.0\n",
    "    coords = coords.round()\n",
    "    print 'Normal Star coordinates pairs:\\n', coords"
   ]
  },
  {
   "cell_type": "code",
   "execution_count": 86,
   "metadata": {
    "collapsed": false
   },
   "outputs": [
    {
     "name": "stdout",
     "output_type": "stream",
     "text": [
      "Number of Star coordinates pairs: 3\n"
     ]
    }
   ],
   "source": [
    "lX = coords[:, 0] # leftX coordinates\n",
    "lY = coords[:, 1] # leftY coordinates\n",
    "rX = coords[:, 2] # rightX coordinates\n",
    "rY = coords[:, 3] # rightY coordinates\n",
    "\n",
    "N = coords.shape[0] # number of pairs of points\n",
    "M = coords.shape[1] # lX, lY, rX, rY == 4\n",
    "print 'Number of Star coordinates pairs:', N"
   ]
  },
  {
   "cell_type": "code",
   "execution_count": 87,
   "metadata": {
    "collapsed": false
   },
   "outputs": [
    {
     "name": "stdout",
     "output_type": "stream",
     "text": [
      "Number of coefficients: 6\n"
     ]
    }
   ],
   "source": [
    "xi = np.zeros(2*N)\n",
    "\n",
    "num_coeffs = 6\n",
    "if consider_distort:\n",
    "    num_coeffs = 8\n",
    "\n",
    "z = np.zeros(num_coeffs)\n",
    "arr = np.zeros((2*N, num_coeffs)) # matrix A\n",
    "print 'Number of coefficients:', num_coeffs"
   ]
  },
  {
   "cell_type": "code",
   "execution_count": 88,
   "metadata": {
    "collapsed": true
   },
   "outputs": [],
   "source": [
    "for i in xrange(N): # fill the xi vector\n",
    "    xi[2*i] = rX[i]\n",
    "    xi[2*i + 1] = rY[i]"
   ]
  },
  {
   "cell_type": "code",
   "execution_count": 89,
   "metadata": {
    "collapsed": false
   },
   "outputs": [],
   "source": [
    "if consider_distort:\n",
    "    im = Image.open('data/stars/2016spring/mod_'+ fnames[0][:-4] +'-1.png')\n",
    "    x_c = im.width / 2.0\n",
    "    y_c = im.height / 2.0\n",
    "    for i in xrange(N): # fill the A matrix\n",
    "        dist_l = (lX[i]-x_c)**2 + (lY[i]-y_c)**2\n",
    "        dist_r = (rX[i]-x_c)**2 + (rY[i]-y_c)**2\n",
    "\n",
    "        zx1 = (lX[i] - x_c) * dist_l\n",
    "        zx2 = (rX[i] - x_c) * dist_r\n",
    "        arr[2*i] = [lX[i], lY[i], 0, 0, 1, 0, -zx1, zx2]\n",
    "\n",
    "        zy1 = (lY[i] - y_c) * dist_l\n",
    "        zy2 = (rY[i] - y_c) * dist_r\n",
    "        arr[2*i + 1] = [0, 0, lX[i], lY[i], 0, 1, -zy1, zy2]\n",
    "\n",
    "else:\n",
    "    for i in xrange(N): # fill the A matrix\n",
    "        arr[2*i] = [lX[i], lY[i], 0, 0, 1, 0]\n",
    "\n",
    "        arr[2*i + 1] = [0, 0, lX[i], lY[i], 0, 1]"
   ]
  },
  {
   "cell_type": "code",
   "execution_count": 90,
   "metadata": {
    "collapsed": false
   },
   "outputs": [
    {
     "name": "stdout",
     "output_type": "stream",
     "text": [
      "A:\n",
      "[[ 939.  594.    0.    0.    1.    0.]\n",
      " [   0.    0.  939.  594.    0.    1.]\n",
      " [ 658.  623.    0.    0.    1.    0.]\n",
      " [   0.    0.  658.  623.    0.    1.]\n",
      " [ 501.  524.    0.    0.    1.    0.]\n",
      " [   0.    0.  501.  524.    0.    1.]] \n",
      "\n",
      "xi:\n",
      "[ 1176.   627.   892.   658.   736.   562.]\n"
     ]
    }
   ],
   "source": [
    "np.set_printoptions(precision=2, suppress=True)\n",
    "print 'A:\\n', arr, '\\n'\n",
    "print 'xi:\\n', xi\n",
    "np.set_printoptions(precision=12, suppress=True)"
   ]
  },
  {
   "cell_type": "code",
   "execution_count": 91,
   "metadata": {
    "collapsed": false
   },
   "outputs": [
    {
     "name": "stdout",
     "output_type": "stream",
     "text": [
      "Affine coefficients: \n",
      "[   1.008278759422   -0.02322995181    -0.008803904609    0.98365871741\n",
      "  243.024836278301   50.973588286168]\n"
     ]
    }
   ],
   "source": [
    "p_arr = pinv(arr)\n",
    "z = np.dot(p_arr, xi)\n",
    "print 'Affine coefficients: \\n', z"
   ]
  },
  {
   "cell_type": "code",
   "execution_count": 92,
   "metadata": {
    "collapsed": false,
    "scrolled": true
   },
   "outputs": [
    {
     "name": "stdout",
     "output_type": "stream",
     "text": [
      "cond(A):  13652.9502215\n",
      "Probability: 0.0\n",
      "Sigma theory: inf\n",
      "Sigma practice 2\n"
     ]
    },
    {
     "name": "stderr",
     "output_type": "stream",
     "text": [
      "/home/stan/anaconda2/lib/python2.7/site-packages/ipykernel/__main__.py:6: RuntimeWarning: divide by zero encountered in double_scalars\n"
     ]
    }
   ],
   "source": [
    "sigma = 2 # 2 pix error\n",
    "I = np.eye(2*N)\n",
    "\n",
    "print 'cond(A): ', np.linalg.cond(arr)\n",
    "proba = (2*N - num_coeffs) / norm( np.dot(I - np.dot(arr, p_arr), xi) )**2\n",
    "sig_theory = (1 / proba)**0.5\n",
    "\n",
    "print 'Probability:', proba\n",
    "print 'Sigma theory:', sig_theory\n",
    "print 'Sigma practice', sigma"
   ]
  },
  {
   "cell_type": "code",
   "execution_count": 93,
   "metadata": {
    "collapsed": true
   },
   "outputs": [],
   "source": [
    "res_fname = 'results/spring2016/'\n",
    "\n",
    "if consider_distort:\n",
    "    res_fname += 'affdis_coeffs_shots'\n",
    "else:\n",
    "    res_fname += 'affine_coeffs_shots'\n",
    "\n",
    "res_fname += str(len(fnames)) + '_' + fnames[0]"
   ]
  },
  {
   "cell_type": "code",
   "execution_count": 94,
   "metadata": {
    "collapsed": false
   },
   "outputs": [
    {
     "name": "stdout",
     "output_type": "stream",
     "text": [
      "Coeffs are saved to: results/spring2016/affine_coeffs_shots1_20160311-030811-125.txt\n"
     ]
    }
   ],
   "source": [
    "np.savetxt(res_fname, z, fmt=\"%.10f\")\n",
    "print 'Coeffs are saved to:', res_fname"
   ]
  }
 ],
 "metadata": {
  "kernelspec": {
   "display_name": "Python 2",
   "language": "python",
   "name": "python2"
  },
  "language_info": {
   "codemirror_mode": {
    "name": "ipython",
    "version": 2
   },
   "file_extension": ".py",
   "mimetype": "text/x-python",
   "name": "python",
   "nbconvert_exporter": "python",
   "pygments_lexer": "ipython2",
   "version": "2.7.11"
  }
 },
 "nbformat": 4,
 "nbformat_minor": 0
}
