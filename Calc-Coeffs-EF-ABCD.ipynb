{
 "cells": [
  {
   "cell_type": "code",
   "execution_count": 1,
   "metadata": {
    "collapsed": true
   },
   "outputs": [],
   "source": [
    "import os\n",
    "from PIL import Image\n",
    "import numpy as np\n",
    "from numpy.linalg import norm, pinv\n",
    "np.set_printoptions(precision=12, suppress=True)"
   ]
  },
  {
   "cell_type": "code",
   "execution_count": 2,
   "metadata": {
    "collapsed": true
   },
   "outputs": [],
   "source": [
    "consider_distort = False # flag whether to consider distortion\n",
    "zoomed_coords = True # whether to divide coordinates by 5 or not (zoomed coords or not)\n",
    "SCALE_FAC = 4.0 # Scale factor of coordinates"
   ]
  },
  {
   "cell_type": "code",
   "execution_count": 3,
   "metadata": {
    "collapsed": true
   },
   "outputs": [],
   "source": [
    "folder_name = 'data/star_coords/2016nov-11_txt//' # folder with coords files"
   ]
  },
  {
   "cell_type": "code",
   "execution_count": 4,
   "metadata": {
    "collapsed": true
   },
   "outputs": [],
   "source": [
    "# 20160218\n",
    "# fnames = [\n",
    "#     '20160218-201934-437.txt',\n",
    "#     '20160218-211934-484.txt'\n",
    "# ]\n",
    "\n",
    "# 20160219\n",
    "# fnames = [\n",
    "#     '20160219-001934-484.txt',\n",
    "#     '20160219-021934-593.txt',\n",
    "#     '20160219-041934-593.txt'\n",
    "# ]\n",
    "\n",
    "# 20160311\n",
    "# fnames = [\n",
    "#     '20160311-020811-125.txt',\n",
    "#     '20160311-030811-125.txt'\n",
    "# ]\n",
    "\n",
    "# 20161122 Nov-11\n",
    "fnames = [\n",
    "#     '20161122-221517-375.txt',\n",
    "    \"20161122-191517-359.txt\"\n",
    "]\n",
    "\n",
    "# 20161121\n",
    "# fnames = [\n",
    "# #     '20161121-220921-250.txt',\n",
    "    \n",
    "# ]"
   ]
  },
  {
   "cell_type": "code",
   "execution_count": 5,
   "metadata": {
    "collapsed": false
   },
   "outputs": [],
   "source": [
    "if consider_distort:\n",
    "    print \"consider_distort is True!\""
   ]
  },
  {
   "cell_type": "code",
   "execution_count": 6,
   "metadata": {
    "collapsed": false
   },
   "outputs": [
    {
     "name": "stdout",
     "output_type": "stream",
     "text": [
      "Zoomed In Star coordinates pairs:\n",
      "[[  5734.   6266.   6711.   6411.]\n",
      " [  6490.   6723.   7468.   6866.]\n",
      " [  5934.   7360.   6910.   7507.]\n",
      " [  6209.   7975.   7190.   8129.]\n",
      " [  9774.   8478.  10880.   8711.]\n",
      " [ 10446.   6163.  11559.   6314.]\n",
      " [ 10446.   3421.  11514.   3477.]\n",
      " [  8961.   1184.   9917.   1233.]\n",
      " [  2774.    834.   3744.   1098.]\n",
      " [  2590.   4247.   3603.   4430.]\n",
      " [  3413.   3882.   4398.   4059.]] \n",
      "\n",
      "Normal Star coordinates pairs:\n",
      "[[ 1434.  1566.  1678.  1603.]\n",
      " [ 1622.  1681.  1867.  1716.]\n",
      " [ 1484.  1840.  1728.  1877.]\n",
      " [ 1552.  1994.  1798.  2032.]\n",
      " [ 2444.  2120.  2720.  2178.]\n",
      " [ 2612.  1541.  2890.  1578.]\n",
      " [ 2612.   855.  2878.   869.]\n",
      " [ 2240.   296.  2479.   308.]\n",
      " [  694.   208.   936.   274.]\n",
      " [  648.  1062.   901.  1108.]\n",
      " [  853.   970.  1100.  1015.]]\n"
     ]
    }
   ],
   "source": [
    "coords_list = []\n",
    "for fname in fnames:\n",
    "    piece = np.loadtxt(folder_name + os.sep + fname)\n",
    "    coords_list.append(piece)\n",
    "\n",
    "coords = np.vstack(coords_list)\n",
    "print 'Zoomed In Star coordinates pairs:\\n', coords, '\\n'\n",
    "\n",
    "if zoomed_coords:\n",
    "    coords /= float(SCALE_FAC)\n",
    "    coords = coords.round()\n",
    "    print 'Normal Star coordinates pairs:\\n', coords"
   ]
  },
  {
   "cell_type": "code",
   "execution_count": 7,
   "metadata": {
    "collapsed": false
   },
   "outputs": [
    {
     "name": "stdout",
     "output_type": "stream",
     "text": [
      "Number of Star coordinates pairs: 11\n"
     ]
    }
   ],
   "source": [
    "lX = coords[:, 0] # leftX coordinates\n",
    "lY = coords[:, 1] # leftY coordinates\n",
    "rX = coords[:, 2] # rightX coordinates\n",
    "rY = coords[:, 3] # rightY coordinates\n",
    "\n",
    "N = coords.shape[0] # number of pairs of points\n",
    "M = coords.shape[1] # lX, lY, rX, rY == 4\n",
    "print 'Number of Star coordinates pairs:', N"
   ]
  },
  {
   "cell_type": "code",
   "execution_count": 8,
   "metadata": {
    "collapsed": false
   },
   "outputs": [
    {
     "name": "stdout",
     "output_type": "stream",
     "text": [
      "Number of coefficients: 2\n"
     ]
    }
   ],
   "source": [
    "xi = np.zeros(2*N)\n",
    "\n",
    "# First, calculate E,F\n",
    "num_coeffs = 2\n",
    "if consider_distort:\n",
    "    num_coeffs = 8\n",
    "\n",
    "z = np.zeros(num_coeffs)\n",
    "arr = np.zeros((2*N, num_coeffs)) # matrix A\n",
    "print 'Number of coefficients:', num_coeffs"
   ]
  },
  {
   "cell_type": "code",
   "execution_count": 9,
   "metadata": {
    "collapsed": true
   },
   "outputs": [],
   "source": [
    "for i in xrange(N): # fill the xi vector\n",
    "    xi[2*i] = rX[i] - lX[i]\n",
    "    xi[2*i + 1] = rY[i] - lY[i]"
   ]
  },
  {
   "cell_type": "code",
   "execution_count": 10,
   "metadata": {
    "collapsed": false
   },
   "outputs": [],
   "source": [
    "if consider_distort:\n",
    "    im = Image.open(folder_name + 'mod_'+ fnames[0][:-4] +'-1.png')\n",
    "    x_c = im.width / 2.0\n",
    "    y_c = im.height / 2.0\n",
    "    for i in xrange(N): # fill the A matrix\n",
    "        dist_l = (lX[i]-x_c)**2 + (lY[i]-y_c)**2\n",
    "        dist_r = (rX[i]-x_c)**2 + (rY[i]-y_c)**2\n",
    "\n",
    "        zx1 = (lX[i] - x_c) * dist_l\n",
    "        zx2 = (rX[i] - x_c) * dist_r\n",
    "        arr[2*i] = [lX[i], lY[i], 0, 0, 1, 0, -zx1, zx2]\n",
    "\n",
    "        zy1 = (lY[i] - y_c) * dist_l\n",
    "        zy2 = (rY[i] - y_c) * dist_r\n",
    "        arr[2*i + 1] = [0, 0, lX[i], lY[i], 0, 1, -zy1, zy2]\n",
    "\n",
    "else:\n",
    "    for i in xrange(N): # fill the A matrix\n",
    "        arr[2*i] = [1, 0]\n",
    "\n",
    "        arr[2*i + 1] = [0, 1]"
   ]
  },
  {
   "cell_type": "code",
   "execution_count": 11,
   "metadata": {
    "collapsed": false
   },
   "outputs": [
    {
     "name": "stdout",
     "output_type": "stream",
     "text": [
      "A:\n",
      "[[ 1.  0.]\n",
      " [ 0.  1.]\n",
      " [ 1.  0.]\n",
      " [ 0.  1.]\n",
      " [ 1.  0.]\n",
      " [ 0.  1.]\n",
      " [ 1.  0.]\n",
      " [ 0.  1.]\n",
      " [ 1.  0.]\n",
      " [ 0.  1.]\n",
      " [ 1.  0.]\n",
      " [ 0.  1.]\n",
      " [ 1.  0.]\n",
      " [ 0.  1.]\n",
      " [ 1.  0.]\n",
      " [ 0.  1.]\n",
      " [ 1.  0.]\n",
      " [ 0.  1.]\n",
      " [ 1.  0.]\n",
      " [ 0.  1.]\n",
      " [ 1.  0.]\n",
      " [ 0.  1.]] \n",
      "\n",
      "xi:\n",
      "[ 244.   37.  245.   35.  244.   37.  246.   38.  276.   58.  278.   37.\n",
      "  266.   14.  239.   12.  242.   66.  253.   46.  247.   45.]\n"
     ]
    }
   ],
   "source": [
    "np.set_printoptions(precision=2, suppress=True)\n",
    "print 'A:\\n', arr, '\\n'\n",
    "print 'xi:\\n', xi\n",
    "np.set_printoptions(precision=12, suppress=True)"
   ]
  },
  {
   "cell_type": "code",
   "execution_count": 12,
   "metadata": {
    "collapsed": false
   },
   "outputs": [
    {
     "name": "stdout",
     "output_type": "stream",
     "text": [
      "Affine coefficients EF: \n",
      "[ 252.727272727273   38.636363636364]\n"
     ]
    }
   ],
   "source": [
    "p_arr = pinv(arr)\n",
    "z = np.dot(p_arr, xi)\n",
    "ef = z\n",
    "e = z[0]\n",
    "f = z[1]\n",
    "print 'Affine coefficients EF: \\n', z"
   ]
  },
  {
   "cell_type": "code",
   "execution_count": 13,
   "metadata": {
    "collapsed": false
   },
   "outputs": [
    {
     "name": "stdout",
     "output_type": "stream",
     "text": [
      "Number of coefficients: 4\n"
     ]
    }
   ],
   "source": [
    "# Second, calculate ABCD\n",
    "num_coeffs = 4\n",
    "\n",
    "z = np.zeros(num_coeffs)\n",
    "arr = np.zeros((2*N, num_coeffs)) # matrix A\n",
    "print 'Number of coefficients:', num_coeffs"
   ]
  },
  {
   "cell_type": "code",
   "execution_count": 14,
   "metadata": {
    "collapsed": true
   },
   "outputs": [],
   "source": [
    "for i in xrange(N): # fill the xi vector\n",
    "    xi[2*i] = rX[i] - e\n",
    "    xi[2*i + 1] = rY[i] - f"
   ]
  },
  {
   "cell_type": "code",
   "execution_count": 15,
   "metadata": {
    "collapsed": true
   },
   "outputs": [],
   "source": [
    "if consider_distort:\n",
    "    im = Image.open(folder_name + 'mod_'+ fnames[0][:-4] +'-1.png')\n",
    "    x_c = im.width / 2.0\n",
    "    y_c = im.height / 2.0\n",
    "    for i in xrange(N): # fill the A matrix\n",
    "        dist_l = (lX[i]-x_c)**2 + (lY[i]-y_c)**2\n",
    "        dist_r = (rX[i]-x_c)**2 + (rY[i]-y_c)**2\n",
    "\n",
    "        zx1 = (lX[i] - x_c) * dist_l\n",
    "        zx2 = (rX[i] - x_c) * dist_r\n",
    "        arr[2*i] = [lX[i], lY[i], 0, 0, 1, 0, -zx1, zx2]\n",
    "\n",
    "        zy1 = (lY[i] - y_c) * dist_l\n",
    "        zy2 = (rY[i] - y_c) * dist_r\n",
    "        arr[2*i + 1] = [0, 0, lX[i], lY[i], 0, 1, -zy1, zy2]\n",
    "\n",
    "else:\n",
    "    for i in xrange(N): # fill the A matrix\n",
    "        arr[2*i] = [lX[i], lY[i], 0, 0]\n",
    "\n",
    "        arr[2*i + 1] = [0, 0, lX[i], lY[i]]"
   ]
  },
  {
   "cell_type": "code",
   "execution_count": 16,
   "metadata": {
    "collapsed": false
   },
   "outputs": [
    {
     "name": "stdout",
     "output_type": "stream",
     "text": [
      "A:\n",
      "[[ 1434.  1566.     0.     0.]\n",
      " [    0.     0.  1434.  1566.]\n",
      " [ 1622.  1681.     0.     0.]\n",
      " [    0.     0.  1622.  1681.]\n",
      " [ 1484.  1840.     0.     0.]\n",
      " [    0.     0.  1484.  1840.]\n",
      " [ 1552.  1994.     0.     0.]\n",
      " [    0.     0.  1552.  1994.]\n",
      " [ 2444.  2120.     0.     0.]\n",
      " [    0.     0.  2444.  2120.]\n",
      " [ 2612.  1541.     0.     0.]\n",
      " [    0.     0.  2612.  1541.]\n",
      " [ 2612.   855.     0.     0.]\n",
      " [    0.     0.  2612.   855.]\n",
      " [ 2240.   296.     0.     0.]\n",
      " [    0.     0.  2240.   296.]\n",
      " [  694.   208.     0.     0.]\n",
      " [    0.     0.   694.   208.]\n",
      " [  648.  1062.     0.     0.]\n",
      " [    0.     0.   648.  1062.]\n",
      " [  853.   970.     0.     0.]\n",
      " [    0.     0.   853.   970.]] \n",
      "\n",
      "xi:\n",
      "[ 1425.27  1564.36  1614.27  1677.36  1475.27  1838.36  1545.27  1993.36\n",
      "  2467.27  2139.36  2637.27  1539.36  2625.27   830.36  2226.27   269.36\n",
      "   683.27   235.36   648.27  1069.36   847.27   976.36]\n"
     ]
    }
   ],
   "source": [
    "np.set_printoptions(precision=2, suppress=True)\n",
    "print 'A:\\n', arr, '\\n'\n",
    "print 'xi:\\n', xi\n",
    "np.set_printoptions(precision=12, suppress=True)"
   ]
  },
  {
   "cell_type": "code",
   "execution_count": 17,
   "metadata": {
    "collapsed": false
   },
   "outputs": [
    {
     "name": "stdout",
     "output_type": "stream",
     "text": [
      "Affine coefficients ABCD: \n",
      "[ 1.003599959942 -0.002516674026 -0.009362645534  1.010974300678]\n"
     ]
    }
   ],
   "source": [
    "p_arr = pinv(arr)\n",
    "z = np.dot(p_arr, xi)\n",
    "abcd = z\n",
    "print 'Affine coefficients ABCD: \\n', z"
   ]
  },
  {
   "cell_type": "code",
   "execution_count": 18,
   "metadata": {
    "collapsed": false
   },
   "outputs": [
    {
     "name": "stdout",
     "output_type": "stream",
     "text": [
      "Affine coefficients: \n",
      "[   1.003599959942   -0.002516674026   -0.009362645534    1.010974300678\n",
      "  252.727272727273   38.636363636364]\n"
     ]
    }
   ],
   "source": [
    "z = np.hstack([abcd, ef])\n",
    "print 'Affine coefficients: \\n', z"
   ]
  },
  {
   "cell_type": "code",
   "execution_count": 19,
   "metadata": {
    "collapsed": false,
    "scrolled": true
   },
   "outputs": [
    {
     "name": "stdout",
     "output_type": "stream",
     "text": [
      "cond(A):  3.89908880211\n",
      "Probability: 0.00503380919554\n",
      "Sigma theory: 14.0945633226\n",
      "Sigma practice 2\n"
     ]
    }
   ],
   "source": [
    "sigma = 2 # 2 pix error\n",
    "I = np.eye(2*N)\n",
    "\n",
    "print 'cond(A): ', np.linalg.cond(arr)\n",
    "proba = (2*N - num_coeffs) / norm( np.dot(I - np.dot(arr, p_arr), xi) )**2\n",
    "sig_theory = (1 / proba)**0.5\n",
    "\n",
    "print 'Probability:', proba\n",
    "print 'Sigma theory:', sig_theory\n",
    "print 'Sigma practice', sigma"
   ]
  },
  {
   "cell_type": "code",
   "execution_count": 20,
   "metadata": {
    "collapsed": true
   },
   "outputs": [],
   "source": [
    "res_fname = 'results/2016nov-11//'\n",
    "\n",
    "if consider_distort:\n",
    "    res_fname += 'affdis_coeffs_shots'\n",
    "else:\n",
    "    res_fname += 'affine_coeffs_shots'\n",
    "\n",
    "res_fname += str(len(fnames)) + '_' + fnames[0]"
   ]
  },
  {
   "cell_type": "code",
   "execution_count": 21,
   "metadata": {
    "collapsed": false
   },
   "outputs": [
    {
     "name": "stdout",
     "output_type": "stream",
     "text": [
      "Coeffs are saved to: results/2016nov-11//affine_coeffs_shots1_20161122-191517-359.txt\n"
     ]
    }
   ],
   "source": [
    "np.savetxt(res_fname, z, fmt=\"%.10f\")\n",
    "print 'Coeffs are saved to:', res_fname"
   ]
  },
  {
   "cell_type": "code",
   "execution_count": null,
   "metadata": {
    "collapsed": true
   },
   "outputs": [],
   "source": []
  }
 ],
 "metadata": {
  "kernelspec": {
   "display_name": "Python 2",
   "language": "python",
   "name": "python2"
  },
  "language_info": {
   "codemirror_mode": {
    "name": "ipython",
    "version": 2
   },
   "file_extension": ".py",
   "mimetype": "text/x-python",
   "name": "python",
   "nbconvert_exporter": "python",
   "pygments_lexer": "ipython2",
   "version": "2.7.11"
  }
 },
 "nbformat": 4,
 "nbformat_minor": 0
}
