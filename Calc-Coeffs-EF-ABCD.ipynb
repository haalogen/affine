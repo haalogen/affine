{
 "cells": [
  {
   "cell_type": "code",
   "execution_count": 1,
   "metadata": {
    "collapsed": true
   },
   "outputs": [],
   "source": [
    "import os\n",
    "from PIL import Image\n",
    "import numpy as np\n",
    "from numpy.linalg import norm, pinv\n",
    "np.set_printoptions(precision=12, suppress=True)"
   ]
  },
  {
   "cell_type": "code",
   "execution_count": 2,
   "metadata": {
    "collapsed": true
   },
   "outputs": [],
   "source": [
    "consider_distort = False # flag whether to consider distortion\n",
    "zoomed_coords = True # whether to divide coordinates by 5 or not (zoomed coords or not)"
   ]
  },
  {
   "cell_type": "code",
   "execution_count": 3,
   "metadata": {
    "collapsed": true
   },
   "outputs": [],
   "source": [
    "folder_name = 'data/star_coords/2016nov_txt/' # folder with coords files"
   ]
  },
  {
   "cell_type": "code",
   "execution_count": 4,
   "metadata": {
    "collapsed": true
   },
   "outputs": [],
   "source": [
    "# 20160218\n",
    "# fnames = [\n",
    "#     '20160218-201934-437.txt',\n",
    "#     '20160218-211934-484.txt'\n",
    "# ]\n",
    "\n",
    "# 20160219\n",
    "# fnames = [\n",
    "#     '20160219-001934-484.txt',\n",
    "#     '20160219-021934-593.txt',\n",
    "#     '20160219-041934-593.txt'\n",
    "# ]\n",
    "\n",
    "# 20160311\n",
    "# fnames = [\n",
    "#     '20160311-020811-125.txt',\n",
    "#     '20160311-030811-125.txt'\n",
    "# ]\n",
    "\n",
    "# 20161122 Nov-11\n",
    "# fnames = [\n",
    "#     '20161122-221517-375.txt'\n",
    "# ]\n",
    "\n",
    "# 20161121\n",
    "fnames = [\n",
    "    '20161121-220921-250.txt'\n",
    "]"
   ]
  },
  {
   "cell_type": "code",
   "execution_count": 5,
   "metadata": {
    "collapsed": false
   },
   "outputs": [],
   "source": [
    "if consider_distort:\n",
    "    print \"consider_distort is True!\""
   ]
  },
  {
   "cell_type": "code",
   "execution_count": 6,
   "metadata": {
    "collapsed": false
   },
   "outputs": [
    {
     "name": "stdout",
     "output_type": "stream",
     "text": [
      "Zoomed In Star coordinates pairs:\n",
      "[[  907.  1674.  2124.  1893.]\n",
      " [  795.  2723.  2033.  2932.]\n",
      " [ 1511.  3124.  2734.  3321.]\n",
      " [ 5242.  1219.  6425.  1369.]\n",
      " [ 5587.  4718.  6823.  4900.]\n",
      " [ 4552.  4498.  5766.  4678.]] \n",
      "\n",
      "Normal Star coordinates pairs:\n",
      "[[  181.   335.   425.   379.]\n",
      " [  159.   545.   407.   586.]\n",
      " [  302.   625.   547.   664.]\n",
      " [ 1048.   244.  1285.   274.]\n",
      " [ 1117.   944.  1365.   980.]\n",
      " [  910.   900.  1153.   936.]]\n"
     ]
    }
   ],
   "source": [
    "coords_list = []\n",
    "for fname in fnames:\n",
    "    piece = np.loadtxt(folder_name + os.sep + fname)\n",
    "    coords_list.append(piece)\n",
    "\n",
    "coords = np.vstack(coords_list)\n",
    "print 'Zoomed In Star coordinates pairs:\\n', coords, '\\n'\n",
    "\n",
    "if zoomed_coords:\n",
    "    coords /= 5.0\n",
    "    coords = coords.round()\n",
    "    print 'Normal Star coordinates pairs:\\n', coords"
   ]
  },
  {
   "cell_type": "code",
   "execution_count": 7,
   "metadata": {
    "collapsed": false
   },
   "outputs": [
    {
     "name": "stdout",
     "output_type": "stream",
     "text": [
      "Number of Star coordinates pairs: 6\n"
     ]
    }
   ],
   "source": [
    "lX = coords[:, 0] # leftX coordinates\n",
    "lY = coords[:, 1] # leftY coordinates\n",
    "rX = coords[:, 2] # rightX coordinates\n",
    "rY = coords[:, 3] # rightY coordinates\n",
    "\n",
    "N = coords.shape[0] # number of pairs of points\n",
    "M = coords.shape[1] # lX, lY, rX, rY == 4\n",
    "print 'Number of Star coordinates pairs:', N"
   ]
  },
  {
   "cell_type": "code",
   "execution_count": 8,
   "metadata": {
    "collapsed": false
   },
   "outputs": [
    {
     "name": "stdout",
     "output_type": "stream",
     "text": [
      "Number of coefficients: 2\n"
     ]
    }
   ],
   "source": [
    "xi = np.zeros(2*N)\n",
    "\n",
    "# First, calculate E,F\n",
    "num_coeffs = 2\n",
    "if consider_distort:\n",
    "    num_coeffs = 8\n",
    "\n",
    "z = np.zeros(num_coeffs)\n",
    "arr = np.zeros((2*N, num_coeffs)) # matrix A\n",
    "print 'Number of coefficients:', num_coeffs"
   ]
  },
  {
   "cell_type": "code",
   "execution_count": 9,
   "metadata": {
    "collapsed": true
   },
   "outputs": [],
   "source": [
    "for i in xrange(N): # fill the xi vector\n",
    "    xi[2*i] = rX[i] - lX[i]\n",
    "    xi[2*i + 1] = rY[i] - lY[i]"
   ]
  },
  {
   "cell_type": "code",
   "execution_count": 10,
   "metadata": {
    "collapsed": false
   },
   "outputs": [],
   "source": [
    "if consider_distort:\n",
    "    im = Image.open(folder_name + 'mod_'+ fnames[0][:-4] +'-1.png')\n",
    "    x_c = im.width / 2.0\n",
    "    y_c = im.height / 2.0\n",
    "    for i in xrange(N): # fill the A matrix\n",
    "        dist_l = (lX[i]-x_c)**2 + (lY[i]-y_c)**2\n",
    "        dist_r = (rX[i]-x_c)**2 + (rY[i]-y_c)**2\n",
    "\n",
    "        zx1 = (lX[i] - x_c) * dist_l\n",
    "        zx2 = (rX[i] - x_c) * dist_r\n",
    "        arr[2*i] = [lX[i], lY[i], 0, 0, 1, 0, -zx1, zx2]\n",
    "\n",
    "        zy1 = (lY[i] - y_c) * dist_l\n",
    "        zy2 = (rY[i] - y_c) * dist_r\n",
    "        arr[2*i + 1] = [0, 0, lX[i], lY[i], 0, 1, -zy1, zy2]\n",
    "\n",
    "else:\n",
    "    for i in xrange(N): # fill the A matrix\n",
    "        arr[2*i] = [1, 0]\n",
    "\n",
    "        arr[2*i + 1] = [0, 1]"
   ]
  },
  {
   "cell_type": "code",
   "execution_count": 11,
   "metadata": {
    "collapsed": false
   },
   "outputs": [
    {
     "name": "stdout",
     "output_type": "stream",
     "text": [
      "A:\n",
      "[[ 1.  0.]\n",
      " [ 0.  1.]\n",
      " [ 1.  0.]\n",
      " [ 0.  1.]\n",
      " [ 1.  0.]\n",
      " [ 0.  1.]\n",
      " [ 1.  0.]\n",
      " [ 0.  1.]\n",
      " [ 1.  0.]\n",
      " [ 0.  1.]\n",
      " [ 1.  0.]\n",
      " [ 0.  1.]] \n",
      "\n",
      "xi:\n",
      "[ 244.   44.  248.   41.  245.   39.  237.   30.  248.   36.  243.   36.]\n"
     ]
    }
   ],
   "source": [
    "np.set_printoptions(precision=2, suppress=True)\n",
    "print 'A:\\n', arr, '\\n'\n",
    "print 'xi:\\n', xi\n",
    "np.set_printoptions(precision=12, suppress=True)"
   ]
  },
  {
   "cell_type": "code",
   "execution_count": 12,
   "metadata": {
    "collapsed": false
   },
   "outputs": [
    {
     "name": "stdout",
     "output_type": "stream",
     "text": [
      "Affine coefficients EF: \n",
      "[ 244.166666666667   37.666666666667]\n"
     ]
    }
   ],
   "source": [
    "p_arr = pinv(arr)\n",
    "z = np.dot(p_arr, xi)\n",
    "ef = z\n",
    "e = z[0]\n",
    "f = z[1]\n",
    "print 'Affine coefficients EF: \\n', z"
   ]
  },
  {
   "cell_type": "code",
   "execution_count": 13,
   "metadata": {
    "collapsed": false
   },
   "outputs": [
    {
     "name": "stdout",
     "output_type": "stream",
     "text": [
      "Number of coefficients: 4\n"
     ]
    }
   ],
   "source": [
    "# Second, calculate ABCD\n",
    "num_coeffs = 4\n",
    "\n",
    "z = np.zeros(num_coeffs)\n",
    "arr = np.zeros((2*N, num_coeffs)) # matrix A\n",
    "print 'Number of coefficients:', num_coeffs"
   ]
  },
  {
   "cell_type": "code",
   "execution_count": 14,
   "metadata": {
    "collapsed": true
   },
   "outputs": [],
   "source": [
    "for i in xrange(N): # fill the xi vector\n",
    "    xi[2*i] = rX[i] - e\n",
    "    xi[2*i + 1] = rY[i] - f"
   ]
  },
  {
   "cell_type": "code",
   "execution_count": 15,
   "metadata": {
    "collapsed": true
   },
   "outputs": [],
   "source": [
    "if consider_distort:\n",
    "    im = Image.open(folder_name + 'mod_'+ fnames[0][:-4] +'-1.png')\n",
    "    x_c = im.width / 2.0\n",
    "    y_c = im.height / 2.0\n",
    "    for i in xrange(N): # fill the A matrix\n",
    "        dist_l = (lX[i]-x_c)**2 + (lY[i]-y_c)**2\n",
    "        dist_r = (rX[i]-x_c)**2 + (rY[i]-y_c)**2\n",
    "\n",
    "        zx1 = (lX[i] - x_c) * dist_l\n",
    "        zx2 = (rX[i] - x_c) * dist_r\n",
    "        arr[2*i] = [lX[i], lY[i], 0, 0, 1, 0, -zx1, zx2]\n",
    "\n",
    "        zy1 = (lY[i] - y_c) * dist_l\n",
    "        zy2 = (rY[i] - y_c) * dist_r\n",
    "        arr[2*i + 1] = [0, 0, lX[i], lY[i], 0, 1, -zy1, zy2]\n",
    "\n",
    "else:\n",
    "    for i in xrange(N): # fill the A matrix\n",
    "        arr[2*i] = [lX[i], lY[i], 0, 0]\n",
    "\n",
    "        arr[2*i + 1] = [0, 0, lX[i], lY[i]]"
   ]
  },
  {
   "cell_type": "code",
   "execution_count": 16,
   "metadata": {
    "collapsed": false
   },
   "outputs": [
    {
     "name": "stdout",
     "output_type": "stream",
     "text": [
      "A:\n",
      "[[  181.   335.     0.     0.]\n",
      " [    0.     0.   181.   335.]\n",
      " [  159.   545.     0.     0.]\n",
      " [    0.     0.   159.   545.]\n",
      " [  302.   625.     0.     0.]\n",
      " [    0.     0.   302.   625.]\n",
      " [ 1048.   244.     0.     0.]\n",
      " [    0.     0.  1048.   244.]\n",
      " [ 1117.   944.     0.     0.]\n",
      " [    0.     0.  1117.   944.]\n",
      " [  910.   900.     0.     0.]\n",
      " [    0.     0.   910.   900.]] \n",
      "\n",
      "xi:\n",
      "[  180.83   341.33   162.83   548.33   302.83   626.33  1040.83   236.33\n",
      "  1120.83   942.33   908.83   898.33]\n"
     ]
    }
   ],
   "source": [
    "np.set_printoptions(precision=2, suppress=True)\n",
    "print 'A:\\n', arr, '\\n'\n",
    "print 'xi:\\n', xi\n",
    "np.set_printoptions(precision=12, suppress=True)"
   ]
  },
  {
   "cell_type": "code",
   "execution_count": 17,
   "metadata": {
    "collapsed": false
   },
   "outputs": [
    {
     "name": "stdout",
     "output_type": "stream",
     "text": [
      "Affine coefficients ABCD: \n",
      "[ 0.992938444278  0.008116357104 -0.009651269154  1.009224581851]\n"
     ]
    }
   ],
   "source": [
    "p_arr = pinv(arr)\n",
    "z = np.dot(p_arr, xi)\n",
    "abcd = z\n",
    "print 'Affine coefficients ABCD: \\n', z"
   ]
  },
  {
   "cell_type": "code",
   "execution_count": 18,
   "metadata": {
    "collapsed": false
   },
   "outputs": [
    {
     "name": "stdout",
     "output_type": "stream",
     "text": [
      "Affine coefficients: \n",
      "[   0.992938444278    0.008116357104   -0.009651269154    1.009224581851\n",
      "  244.166666666667   37.666666666667]\n"
     ]
    }
   ],
   "source": [
    "z = np.hstack([abcd, ef])\n",
    "print 'Affine coefficients: \\n', z"
   ]
  },
  {
   "cell_type": "code",
   "execution_count": 19,
   "metadata": {
    "collapsed": false,
    "scrolled": true
   },
   "outputs": [
    {
     "name": "stdout",
     "output_type": "stream",
     "text": [
      "cond(A):  3.48580982428\n",
      "Probability: 0.133654036855\n",
      "Sigma theory: 2.73532515671\n",
      "Sigma practice 2\n"
     ]
    }
   ],
   "source": [
    "sigma = 2 # 2 pix error\n",
    "I = np.eye(2*N)\n",
    "\n",
    "print 'cond(A): ', np.linalg.cond(arr)\n",
    "proba = (2*N - num_coeffs) / norm( np.dot(I - np.dot(arr, p_arr), xi) )**2\n",
    "sig_theory = (1 / proba)**0.5\n",
    "\n",
    "print 'Probability:', proba\n",
    "print 'Sigma theory:', sig_theory\n",
    "print 'Sigma practice', sigma"
   ]
  },
  {
   "cell_type": "code",
   "execution_count": 20,
   "metadata": {
    "collapsed": true
   },
   "outputs": [],
   "source": [
    "res_fname = 'results/2016nov/'\n",
    "\n",
    "if consider_distort:\n",
    "    res_fname += 'affdis_coeffs_shots'\n",
    "else:\n",
    "    res_fname += 'affine_coeffs_shots'\n",
    "\n",
    "res_fname += str(len(fnames)) + '_' + fnames[0]"
   ]
  },
  {
   "cell_type": "code",
   "execution_count": 21,
   "metadata": {
    "collapsed": false
   },
   "outputs": [
    {
     "name": "stdout",
     "output_type": "stream",
     "text": [
      "Coeffs are saved to: results/2016nov/affine_coeffs_shots1_20161121-220921-250.txt\n"
     ]
    }
   ],
   "source": [
    "np.savetxt(res_fname, z, fmt=\"%.10f\")\n",
    "print 'Coeffs are saved to:', res_fname"
   ]
  },
  {
   "cell_type": "code",
   "execution_count": null,
   "metadata": {
    "collapsed": true
   },
   "outputs": [],
   "source": []
  }
 ],
 "metadata": {
  "kernelspec": {
   "display_name": "Python 2",
   "language": "python",
   "name": "python2"
  },
  "language_info": {
   "codemirror_mode": {
    "name": "ipython",
    "version": 2
   },
   "file_extension": ".py",
   "mimetype": "text/x-python",
   "name": "python",
   "nbconvert_exporter": "python",
   "pygments_lexer": "ipython2",
   "version": "2.7.11"
  }
 },
 "nbformat": 4,
 "nbformat_minor": 0
}
