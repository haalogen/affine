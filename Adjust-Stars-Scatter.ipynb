{
 "cells": [
  {
   "cell_type": "code",
   "execution_count": 103,
   "metadata": {
    "collapsed": true
   },
   "outputs": [],
   "source": [
    "import os\n",
    "from time import time\n",
    "import numpy as np\n",
    "from PIL import Image, ImageDraw\n",
    "import matplotlib.pyplot as plt\n",
    "np.set_printoptions(suppress=True)"
   ]
  },
  {
   "cell_type": "code",
   "execution_count": 104,
   "metadata": {
    "collapsed": true
   },
   "outputs": [],
   "source": [
    "start_time = time()"
   ]
  },
  {
   "cell_type": "code",
   "execution_count": 105,
   "metadata": {
    "collapsed": true
   },
   "outputs": [],
   "source": [
    "consider_distort = False\n",
    "zoomed_coords = True\n",
    "num_shots = 1"
   ]
  },
  {
   "cell_type": "code",
   "execution_count": 106,
   "metadata": {
    "collapsed": true
   },
   "outputs": [],
   "source": [
    "folder = \"data/stars/2016spring/\" # images folder\n",
    "res_folder = 'results/2016spring/' # results folder\n",
    "coords_folder = 'data/star_coords/2016spring_txt/' # folder with coords files\n",
    "date = \"20160219-001934-484\""
   ]
  },
  {
   "cell_type": "code",
   "execution_count": 107,
   "metadata": {
    "collapsed": true
   },
   "outputs": [],
   "source": [
    "# for ipynb\n",
    "fname_left = folder + os.sep + \"mod_\" + date + '-1.png'\n",
    "fname_right = folder + os.sep + \"mod_\" + date + '-2.png'\n",
    "\n",
    "# for cmd line run\n",
    "# fname_left = os.path.abspath(sys.argv[0])\n",
    "# fname_right = os.path.abspath(sys.argv[1])"
   ]
  },
  {
   "cell_type": "code",
   "execution_count": 108,
   "metadata": {
    "collapsed": false,
    "scrolled": true
   },
   "outputs": [
    {
     "name": "stdout",
     "output_type": "stream",
     "text": [
      "Images loaded as RGB:\n",
      "data/stars/2016spring//mod_20160219-001934-484-1.png\n",
      "data/stars/2016spring//mod_20160219-001934-484-2.png\n"
     ]
    }
   ],
   "source": [
    "img_left = Image.open(fname_left).convert(mode='RGB')\n",
    "img_right = Image.open(fname_right).convert(mode='RGB')\n",
    "print \"\"\"Images loaded as RGB:\n",
    "%s\n",
    "%s\"\"\" % (fname_left, fname_right)"
   ]
  },
  {
   "cell_type": "code",
   "execution_count": 109,
   "metadata": {
    "collapsed": false
   },
   "outputs": [
    {
     "name": "stdout",
     "output_type": "stream",
     "text": [
      "Original width, height: 3137 2347\n"
     ]
    }
   ],
   "source": [
    "assert (img_left.size == img_right.size)\n",
    "w, h = width, height = img_left.size\n",
    "print 'Original width, height:', w, h"
   ]
  },
  {
   "cell_type": "code",
   "execution_count": 110,
   "metadata": {
    "collapsed": false
   },
   "outputs": [
    {
     "name": "stdout",
     "output_type": "stream",
     "text": [
      "x_c, y_c: 1568.5 1173.5\n"
     ]
    }
   ],
   "source": [
    "x_c = img_left.width / 2.0\n",
    "y_c = img_left.height / 2.0\n",
    "print 'x_c, y_c:', x_c, y_c"
   ]
  },
  {
   "cell_type": "code",
   "execution_count": 111,
   "metadata": {
    "collapsed": false
   },
   "outputs": [],
   "source": [
    "scatter_img = Image.new('RGB', (width / 2, height / 2), 'white')\n",
    "s_pix = scatter_img.load()"
   ]
  },
  {
   "cell_type": "code",
   "execution_count": 112,
   "metadata": {
    "collapsed": false
   },
   "outputs": [],
   "source": [
    "ELL_RAD = 3\n",
    "\n",
    "scx_c = scatter_img.width / 2\n",
    "scy_c = scatter_img.height / 2\n",
    "draw = ImageDraw.Draw(scatter_img)\n",
    "draw.ellipse((scx_c-ELL_RAD, scy_c-ELL_RAD, scx_c+ELL_RAD, scy_c+ELL_RAD), fill='black')"
   ]
  },
  {
   "cell_type": "code",
   "execution_count": 113,
   "metadata": {
    "collapsed": false
   },
   "outputs": [
    {
     "name": "stdout",
     "output_type": "stream",
     "text": [
      "Align coeeficients:\n",
      "[   1.0008989468    0.0037404294   -0.0124173394    1.0032312128\n",
      "  235.0740805981   47.453581164 ]\n"
     ]
    }
   ],
   "source": [
    "align_coeffs = np.loadtxt(res_folder + 'affine_coeffs_shots'+ \\\n",
    "                          str(num_shots) + '_' + date + '.txt')\n",
    "\n",
    "# HACK! TMP!\n",
    "# align_coeffs = np.array([1,0,0,1, 240, 39], dtype='float')\n",
    "# align_coeffs[-2] += 8\n",
    "# align_coeffs[-1] += 18\n",
    "np.set_printoptions(precision=12)\n",
    "print 'Align coeeficients:\\n', align_coeffs"
   ]
  },
  {
   "cell_type": "code",
   "execution_count": 114,
   "metadata": {
    "collapsed": true
   },
   "outputs": [],
   "source": [
    "a = align_coeffs[0];\n",
    "b = align_coeffs[1];\n",
    "c = align_coeffs[2];\n",
    "d = align_coeffs[3];\n",
    "e = align_coeffs[4];\n",
    "f = align_coeffs[5];\n",
    "\n",
    "det = a * d - b * c;\n",
    "inv_a = d / det;\n",
    "inv_b = -b / det;\n",
    "inv_c = -c / det;\n",
    "inv_d = a / det;"
   ]
  },
  {
   "cell_type": "code",
   "execution_count": 115,
   "metadata": {
    "collapsed": true
   },
   "outputs": [],
   "source": [
    "def affine_transform_point(x, y):\n",
    "    return [b * y + x * a + e , d * y + x * c + f]"
   ]
  },
  {
   "cell_type": "code",
   "execution_count": 116,
   "metadata": {
    "collapsed": false
   },
   "outputs": [],
   "source": [
    "z = align_coeffs\n",
    "\n",
    "a = float(z[0])\n",
    "b = float(z[1])\n",
    "c = float(z[2])\n",
    "d = float(z[3])\n",
    "e = float(z[4])\n",
    "f = float(z[5])\n",
    "if consider_distort:\n",
    "    eps1 = float(z[6])\n",
    "    eps2 = float(z[7])\n",
    "data = (a, b, e, c, d, f) # affine coefficients"
   ]
  },
  {
   "cell_type": "code",
   "execution_count": 117,
   "metadata": {
    "collapsed": true
   },
   "outputs": [],
   "source": [
    "if consider_distort:\n",
    "    # Get rid of distortions on nlImg\n",
    "    \n",
    "    for i in xrange(width): # xi\n",
    "        for j in xrange(height): # eta\n",
    "            dist_l = (i-x_c)**2 + (j-y_c)**2\n",
    "\n",
    "            zx1 = (i - x_c) * dist_l\n",
    "            zy1 = (j - y_c) * dist_l\n",
    "\n",
    "            nl_pix[round(i - eps1*zx1), round(j - eps2*zy1)] = l_pix[i, j]\n",
    "    \n",
    "    # Get rid of distortions on nrImg\n",
    "\n",
    "    for i in xrange(width): # xi\n",
    "        for j in xrange(height): # eta\n",
    "            dist_r = (i-x_c)**2 + (j-y_c)**2\n",
    "\n",
    "            zx2 = (i - x_c) * dist_r\n",
    "            zy2 = (j - y_c) * dist_r\n",
    "\n",
    "            nr_pix[round(i - eps1*zx2), round(j - eps2*zy2)] = r_pix[i, j]\n"
   ]
  },
  {
   "cell_type": "code",
   "execution_count": 118,
   "metadata": {
    "collapsed": true
   },
   "outputs": [],
   "source": [
    "#Load points\n",
    "\n",
    "# 20161121\n",
    "fnames = [\n",
    "    date + '.txt'\n",
    "]"
   ]
  },
  {
   "cell_type": "code",
   "execution_count": 119,
   "metadata": {
    "collapsed": false
   },
   "outputs": [
    {
     "name": "stdout",
     "output_type": "stream",
     "text": [
      "Zoomed In Star coordinates pairs:\n",
      "[[ 6449.   748.  7662.   888.]\n",
      " [ 5107.   906.  6279.  1084.]\n",
      " [ 4334.  1784.  5504.  1981.]\n",
      " [ 4082.  1798.  5257.  2000.]\n",
      " [ 4239.  3179.  5426.  3381.]\n",
      " [ 4216.  3276.  5405.  3481.]\n",
      " [ 3522.  3067.  4703.  3278.]\n",
      " [ 3273.  4528.  4471.  4738.]\n",
      " [ 2273.  4615.  3476.  4823.]\n",
      " [ 1569.  3144.  2777.  3364.]] \n",
      "\n",
      "Normal Star coordinates pairs:\n",
      "[[ 1290.   150.  1532.   178.]\n",
      " [ 1021.   181.  1256.   217.]\n",
      " [  867.   357.  1101.   396.]\n",
      " [  816.   360.  1051.   400.]\n",
      " [  848.   636.  1085.   676.]\n",
      " [  843.   655.  1081.   696.]\n",
      " [  704.   613.   941.   656.]\n",
      " [  655.   906.   894.   948.]\n",
      " [  455.   923.   695.   965.]\n",
      " [  314.   629.   555.   673.]]\n"
     ]
    }
   ],
   "source": [
    "coords_list = []\n",
    "for fname in fnames:\n",
    "    piece = np.loadtxt(coords_folder + os.sep + fname)\n",
    "    coords_list.append(piece)\n",
    "\n",
    "coords = np.vstack(coords_list)\n",
    "print 'Zoomed In Star coordinates pairs:\\n', coords, '\\n'\n",
    "\n",
    "if zoomed_coords:\n",
    "    coords /= 5.0\n",
    "    coords = coords.round()\n",
    "    print 'Normal Star coordinates pairs:\\n', coords"
   ]
  },
  {
   "cell_type": "code",
   "execution_count": 120,
   "metadata": {
    "collapsed": false
   },
   "outputs": [
    {
     "name": "stdout",
     "output_type": "stream",
     "text": [
      "Number of Star coordinates pairs: 10\n"
     ]
    }
   ],
   "source": [
    "lX = coords[:, 0] # leftX coordinates\n",
    "lY = coords[:, 1] # leftY coordinates\n",
    "rX = coords[:, 2] # rightX coordinates\n",
    "rY = coords[:, 3] # rightY coordinates\n",
    "\n",
    "N = coords.shape[0] # number of pairs of points\n",
    "M = coords.shape[1] # lX, lY, rX, rY == 4\n",
    "print 'Number of Star coordinates pairs:', N"
   ]
  },
  {
   "cell_type": "code",
   "execution_count": 121,
   "metadata": {
    "collapsed": true
   },
   "outputs": [],
   "source": [
    "# Calc new (affine transformed) points\n",
    "for i in xrange(N): \n",
    "    lX[i], lY[i] = affine_transform_point(lX[i], lY[i])"
   ]
  },
  {
   "cell_type": "code",
   "execution_count": 122,
   "metadata": {
    "collapsed": true
   },
   "outputs": [],
   "source": [
    "for i in xrange(N): # draw star points\n",
    "    draw.ellipse((lX[i]-ELL_RAD, lY[i]-ELL_RAD, lX[i]+ELL_RAD, lY[i]+ELL_RAD), fill='red')\n",
    "    draw.ellipse((rX[i]-ELL_RAD, rY[i]-ELL_RAD, rX[i]+ELL_RAD, rY[i]+ELL_RAD), fill='blue')"
   ]
  },
  {
   "cell_type": "code",
   "execution_count": 123,
   "metadata": {
    "collapsed": false
   },
   "outputs": [
    {
     "data": {
      "image/png": "[encoded data removed]",
      "text/plain": [
       "<PIL.Image.Image image mode=RGB size=1568x1173 at 0x7FF4D9AFBA50>"
      ]
     },
     "execution_count": 123,
     "metadata": {},
     "output_type": "execute_result"
    }
   ],
   "source": [
    "scatter_img"
   ]
  },
  {
   "cell_type": "code",
   "execution_count": 124,
   "metadata": {
    "collapsed": false
   },
   "outputs": [
    {
     "name": "stdout",
     "output_type": "stream",
     "text": [
      "Script running time: 3.06151509285\n"
     ]
    }
   ],
   "source": [
    "print \"Script running time:\", time() - start_time"
   ]
  },
  {
   "cell_type": "code",
   "execution_count": 125,
   "metadata": {
    "collapsed": true
   },
   "outputs": [],
   "source": [
    "scatter_img.save(res_folder + date[:-4] + '_scat_aff' + \".jpg\")"
   ]
  },
  {
   "cell_type": "code",
   "execution_count": null,
   "metadata": {
    "collapsed": true
   },
   "outputs": [],
   "source": []
  }
 ],
 "metadata": {
  "kernelspec": {
   "display_name": "Python 2",
   "language": "python",
   "name": "python2"
  },
  "language_info": {
   "codemirror_mode": {
    "name": "ipython",
    "version": 2
   },
   "file_extension": ".py",
   "mimetype": "text/x-python",
   "name": "python",
   "nbconvert_exporter": "python",
   "pygments_lexer": "ipython2",
   "version": "2.7.11"
  }
 },
 "nbformat": 4,
 "nbformat_minor": 0
}
