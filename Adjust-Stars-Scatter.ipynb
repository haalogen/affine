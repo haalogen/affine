{
 "cells": [
  {
   "cell_type": "code",
   "execution_count": 1,
   "metadata": {},
   "outputs": [],
   "source": [
    "import os\n",
    "from time import time\n",
    "import numpy as np\n",
    "from PIL import Image, ImageDraw\n",
    "import matplotlib.pyplot as plt\n",
    "np.set_printoptions(suppress=True)"
   ]
  },
  {
   "cell_type": "code",
   "execution_count": 2,
   "metadata": {},
   "outputs": [],
   "source": [
    "start_time = time()"
   ]
  },
  {
   "cell_type": "code",
   "execution_count": 3,
   "metadata": {},
   "outputs": [],
   "source": [
    "consider_distort = True\n",
    "zoomed_coords = True\n",
    "center_only = True\n",
    "SCALE_FAC = 4.0 # Scale factor of coordinates"
   ]
  },
  {
   "cell_type": "code",
   "execution_count": 4,
   "metadata": {},
   "outputs": [],
   "source": [
    "img_folder = \"data/stars/2016nov-11//\" # images folder\n",
    "res_folder = 'results/2016nov-11//' # results folder\n",
    "coords_folder = 'data/star_coords/2016nov-11_txt/' # folder with coords files"
   ]
  },
  {
   "cell_type": "code",
   "execution_count": 5,
   "metadata": {},
   "outputs": [],
   "source": [
    "fnames = [\n",
    "    \"20161122-191517-359.txt\",\n",
    "    \"20161121-220921-250.txt\",\n",
    "]\n",
    "num_shots = len(fnames)"
   ]
  },
  {
   "cell_type": "code",
   "execution_count": 6,
   "metadata": {},
   "outputs": [],
   "source": [
    "date = fnames[0][:-4]"
   ]
  },
  {
   "cell_type": "code",
   "execution_count": 7,
   "metadata": {},
   "outputs": [],
   "source": [
    "# for ipynb\n",
    "fname_left = img_folder + os.sep + \"mod_\" + date + '-1.jpg'\n",
    "fname_right = img_folder + os.sep + \"mod_\" + date + '-2.jpg'\n",
    "\n",
    "# for cmd line run\n",
    "# fname_left = os.path.abspath(sys.argv[0])\n",
    "# fname_right = os.path.abspath(sys.argv[1])"
   ]
  },
  {
   "cell_type": "code",
   "execution_count": 8,
   "metadata": {
    "scrolled": true
   },
   "outputs": [
    {
     "name": "stdout",
     "output_type": "stream",
     "text": [
      "Images loaded as RGB:\n",
      "data/stars/2016nov-11///mod_20161122-191517-359-1.jpg\n",
      "data/stars/2016nov-11///mod_20161122-191517-359-2.jpg\n"
     ]
    }
   ],
   "source": [
    "img_left = Image.open(fname_left).convert(mode='RGB')\n",
    "img_right = Image.open(fname_right).convert(mode='RGB')\n",
    "print(\"\"\"Images loaded as RGB:\n",
    "%s\n",
    "%s\"\"\" % (fname_left, fname_right))"
   ]
  },
  {
   "cell_type": "code",
   "execution_count": 9,
   "metadata": {},
   "outputs": [
    {
     "name": "stdout",
     "output_type": "stream",
     "text": [
      "Original width, height: 3072 2304\n"
     ]
    }
   ],
   "source": [
    "assert (img_left.size == img_right.size)\n",
    "w, h = width, height = img_left.size\n",
    "print('Original width, height:', w, h)"
   ]
  },
  {
   "cell_type": "code",
   "execution_count": 10,
   "metadata": {},
   "outputs": [
    {
     "name": "stdout",
     "output_type": "stream",
     "text": [
      "x_c, y_c: 1536.0 1152.0\n",
      "CENTER_RAD: 476.0\n"
     ]
    }
   ],
   "source": [
    "CENTER_RAD = h/4 - 100 # radius(px) of central part\n",
    "x_c = img_left.width / 2.0\n",
    "y_c = img_left.height / 2.0\n",
    "print('x_c, y_c:', x_c, y_c)\n",
    "print('CENTER_RAD:', CENTER_RAD)"
   ]
  },
  {
   "cell_type": "code",
   "execution_count": 11,
   "metadata": {},
   "outputs": [],
   "source": [
    "scatter_img = Image.new('RGB', (width, height), 'lightgray')\n",
    "s_pix = scatter_img.load()"
   ]
  },
  {
   "cell_type": "code",
   "execution_count": 12,
   "metadata": {},
   "outputs": [],
   "source": [
    "ELL_RAD = 3\n",
    "\n",
    "scx_c = scatter_img.width / 2\n",
    "scy_c = scatter_img.height / 2\n",
    "draw = ImageDraw.Draw(scatter_img)\n",
    "draw.ellipse((scx_c-ELL_RAD, scy_c-ELL_RAD, scx_c+ELL_RAD, scy_c+ELL_RAD), fill='darkgreen')"
   ]
  },
  {
   "cell_type": "code",
   "execution_count": 13,
   "metadata": {},
   "outputs": [
    {
     "ename": "OSError",
     "evalue": "results/2016nov-11//center_only_CenRad476.0_affdis_coeffs_shots2_20161122-191517-359.txt not found.",
     "output_type": "error",
     "traceback": [
      "\u001b[0;31m---------------------------------------------------------------------------\u001b[0m",
      "\u001b[0;31mOSError\u001b[0m                                   Traceback (most recent call last)",
      "\u001b[0;32m<ipython-input-13-8d1c27647733>\u001b[0m in \u001b[0;36m<module>\u001b[0;34m()\u001b[0m\n\u001b[1;32m      6\u001b[0m \u001b[0;32mif\u001b[0m \u001b[0mconsider_distort\u001b[0m\u001b[0;34m:\u001b[0m\u001b[0;34m\u001b[0m\u001b[0m\n\u001b[1;32m      7\u001b[0m     \u001b[0mfname_coeffs\u001b[0m \u001b[0;34m+=\u001b[0m \u001b[0;34m'affdis_coeffs_shots'\u001b[0m\u001b[0;34m+\u001b[0m                           \u001b[0mstr\u001b[0m\u001b[0;34m(\u001b[0m\u001b[0mnum_shots\u001b[0m\u001b[0;34m)\u001b[0m \u001b[0;34m+\u001b[0m \u001b[0;34m'_'\u001b[0m \u001b[0;34m+\u001b[0m \u001b[0mdate\u001b[0m \u001b[0;34m+\u001b[0m \u001b[0;34m'.txt'\u001b[0m\u001b[0;34m\u001b[0m\u001b[0m\n\u001b[0;32m----> 8\u001b[0;31m     \u001b[0malign_coeffs\u001b[0m \u001b[0;34m=\u001b[0m \u001b[0mnp\u001b[0m\u001b[0;34m.\u001b[0m\u001b[0mloadtxt\u001b[0m\u001b[0;34m(\u001b[0m\u001b[0mfname_coeffs\u001b[0m\u001b[0;34m)\u001b[0m\u001b[0;34m\u001b[0m\u001b[0m\n\u001b[0m\u001b[1;32m      9\u001b[0m \u001b[0;32melse\u001b[0m\u001b[0;34m:\u001b[0m\u001b[0;34m\u001b[0m\u001b[0m\n\u001b[1;32m     10\u001b[0m     \u001b[0mfname_coeffs\u001b[0m \u001b[0;34m+=\u001b[0m \u001b[0;34m'affine_coeffs_shots'\u001b[0m\u001b[0;34m+\u001b[0m                           \u001b[0mstr\u001b[0m\u001b[0;34m(\u001b[0m\u001b[0mnum_shots\u001b[0m\u001b[0;34m)\u001b[0m \u001b[0;34m+\u001b[0m \u001b[0;34m'_'\u001b[0m \u001b[0;34m+\u001b[0m \u001b[0mdate\u001b[0m \u001b[0;34m+\u001b[0m \u001b[0;34m'.txt'\u001b[0m\u001b[0;34m\u001b[0m\u001b[0m\n",
      "\u001b[0;32m~/anaconda3/lib/python3.6/site-packages/numpy/lib/npyio.py\u001b[0m in \u001b[0;36mloadtxt\u001b[0;34m(fname, dtype, comments, delimiter, converters, skiprows, usecols, unpack, ndmin, encoding)\u001b[0m\n\u001b[1;32m    915\u001b[0m             \u001b[0mfname\u001b[0m \u001b[0;34m=\u001b[0m \u001b[0mstr\u001b[0m\u001b[0;34m(\u001b[0m\u001b[0mfname\u001b[0m\u001b[0;34m)\u001b[0m\u001b[0;34m\u001b[0m\u001b[0m\n\u001b[1;32m    916\u001b[0m         \u001b[0;32mif\u001b[0m \u001b[0m_is_string_like\u001b[0m\u001b[0;34m(\u001b[0m\u001b[0mfname\u001b[0m\u001b[0;34m)\u001b[0m\u001b[0;34m:\u001b[0m\u001b[0;34m\u001b[0m\u001b[0m\n\u001b[0;32m--> 917\u001b[0;31m             \u001b[0mfh\u001b[0m \u001b[0;34m=\u001b[0m \u001b[0mnp\u001b[0m\u001b[0;34m.\u001b[0m\u001b[0mlib\u001b[0m\u001b[0;34m.\u001b[0m\u001b[0m_datasource\u001b[0m\u001b[0;34m.\u001b[0m\u001b[0mopen\u001b[0m\u001b[0;34m(\u001b[0m\u001b[0mfname\u001b[0m\u001b[0;34m,\u001b[0m \u001b[0;34m'rt'\u001b[0m\u001b[0;34m,\u001b[0m \u001b[0mencoding\u001b[0m\u001b[0;34m=\u001b[0m\u001b[0mencoding\u001b[0m\u001b[0;34m)\u001b[0m\u001b[0;34m\u001b[0m\u001b[0m\n\u001b[0m\u001b[1;32m    918\u001b[0m             \u001b[0mfencoding\u001b[0m \u001b[0;34m=\u001b[0m \u001b[0mgetattr\u001b[0m\u001b[0;34m(\u001b[0m\u001b[0mfh\u001b[0m\u001b[0;34m,\u001b[0m \u001b[0;34m'encoding'\u001b[0m\u001b[0;34m,\u001b[0m \u001b[0;34m'latin1'\u001b[0m\u001b[0;34m)\u001b[0m\u001b[0;34m\u001b[0m\u001b[0m\n\u001b[1;32m    919\u001b[0m             \u001b[0mfh\u001b[0m \u001b[0;34m=\u001b[0m \u001b[0miter\u001b[0m\u001b[0;34m(\u001b[0m\u001b[0mfh\u001b[0m\u001b[0;34m)\u001b[0m\u001b[0;34m\u001b[0m\u001b[0m\n",
      "\u001b[0;32m~/anaconda3/lib/python3.6/site-packages/numpy/lib/_datasource.py\u001b[0m in \u001b[0;36mopen\u001b[0;34m(path, mode, destpath, encoding, newline)\u001b[0m\n\u001b[1;32m    258\u001b[0m \u001b[0;34m\u001b[0m\u001b[0m\n\u001b[1;32m    259\u001b[0m     \u001b[0mds\u001b[0m \u001b[0;34m=\u001b[0m \u001b[0mDataSource\u001b[0m\u001b[0;34m(\u001b[0m\u001b[0mdestpath\u001b[0m\u001b[0;34m)\u001b[0m\u001b[0;34m\u001b[0m\u001b[0m\n\u001b[0;32m--> 260\u001b[0;31m     \u001b[0;32mreturn\u001b[0m \u001b[0mds\u001b[0m\u001b[0;34m.\u001b[0m\u001b[0mopen\u001b[0m\u001b[0;34m(\u001b[0m\u001b[0mpath\u001b[0m\u001b[0;34m,\u001b[0m \u001b[0mmode\u001b[0m\u001b[0;34m,\u001b[0m \u001b[0mencoding\u001b[0m\u001b[0;34m=\u001b[0m\u001b[0mencoding\u001b[0m\u001b[0;34m,\u001b[0m \u001b[0mnewline\u001b[0m\u001b[0;34m=\u001b[0m\u001b[0mnewline\u001b[0m\u001b[0;34m)\u001b[0m\u001b[0;34m\u001b[0m\u001b[0m\n\u001b[0m\u001b[1;32m    261\u001b[0m \u001b[0;34m\u001b[0m\u001b[0m\n\u001b[1;32m    262\u001b[0m \u001b[0;34m\u001b[0m\u001b[0m\n",
      "\u001b[0;32m~/anaconda3/lib/python3.6/site-packages/numpy/lib/_datasource.py\u001b[0m in \u001b[0;36mopen\u001b[0;34m(self, path, mode, encoding, newline)\u001b[0m\n\u001b[1;32m    614\u001b[0m                                       encoding=encoding, newline=newline)\n\u001b[1;32m    615\u001b[0m         \u001b[0;32melse\u001b[0m\u001b[0;34m:\u001b[0m\u001b[0;34m\u001b[0m\u001b[0m\n\u001b[0;32m--> 616\u001b[0;31m             \u001b[0;32mraise\u001b[0m \u001b[0mIOError\u001b[0m\u001b[0;34m(\u001b[0m\u001b[0;34m\"%s not found.\"\u001b[0m \u001b[0;34m%\u001b[0m \u001b[0mpath\u001b[0m\u001b[0;34m)\u001b[0m\u001b[0;34m\u001b[0m\u001b[0m\n\u001b[0m\u001b[1;32m    617\u001b[0m \u001b[0;34m\u001b[0m\u001b[0m\n\u001b[1;32m    618\u001b[0m \u001b[0;34m\u001b[0m\u001b[0m\n",
      "\u001b[0;31mOSError\u001b[0m: results/2016nov-11//center_only_CenRad476.0_affdis_coeffs_shots2_20161122-191517-359.txt not found."
     ]
    }
   ],
   "source": [
    "fname_coeffs = res_folder\n",
    "\n",
    "if center_only:\n",
    "    fname_coeffs += 'center_only_CenRad' + str(CENTER_RAD) + '_'\n",
    "\n",
    "if consider_distort:\n",
    "    fname_coeffs += 'affdis_coeffs_shots'+ \\\n",
    "                          str(num_shots) + '_' + date + '.txt'\n",
    "    align_coeffs = np.loadtxt(fname_coeffs)\n",
    "else:\n",
    "    fname_coeffs += 'affine_coeffs_shots'+ \\\n",
    "                          str(num_shots) + '_' + date + '.txt'\n",
    "    align_coeffs = np.loadtxt(fname_coeffs)\n",
    "\n",
    "# HACK! TMP!\n",
    "# align_coeffs = np.array([1,0,0,1, 240, 39], dtype='float')\n",
    "# align_coeffs[-2] += 8\n",
    "# align_coeffs[-1] += 18\n",
    "np.set_printoptions(precision=12)\n",
    "print('Align coeeficients:\\n', align_coeffs)"
   ]
  },
  {
   "cell_type": "code",
   "execution_count": null,
   "metadata": {},
   "outputs": [],
   "source": [
    "a = align_coeffs[0];\n",
    "b = align_coeffs[1];\n",
    "c = align_coeffs[2];\n",
    "d = align_coeffs[3];\n",
    "e = align_coeffs[4];\n",
    "f = align_coeffs[5];\n",
    "\n",
    "det = a * d - b * c;\n",
    "inv_a = d / det;\n",
    "inv_b = -b / det;\n",
    "inv_c = -c / det;\n",
    "inv_d = a / det;"
   ]
  },
  {
   "cell_type": "code",
   "execution_count": null,
   "metadata": {},
   "outputs": [],
   "source": [
    "def affine_transform_point(x, y):\n",
    "    return [b * y + x * a + e , d * y + x * c + f]"
   ]
  },
  {
   "cell_type": "code",
   "execution_count": null,
   "metadata": {},
   "outputs": [],
   "source": [
    "z = align_coeffs\n",
    "\n",
    "a = float(z[0])\n",
    "b = float(z[1])\n",
    "c = float(z[2])\n",
    "d = float(z[3])\n",
    "e = float(z[4])\n",
    "f = float(z[5])\n",
    "if consider_distort:\n",
    "    eps1 = float(z[6])\n",
    "    eps2 = float(z[7])\n",
    "data = (a, b, e, c, d, f) # affine coefficients"
   ]
  },
  {
   "cell_type": "code",
   "execution_count": null,
   "metadata": {},
   "outputs": [],
   "source": [
    "coords_list = []\n",
    "for fname in fnames:\n",
    "    piece = np.loadtxt(coords_folder + os.sep + fname)\n",
    "    coords_list.append(piece)\n",
    "\n",
    "coords = np.vstack(coords_list)\n",
    "print('Zoomed In Star coordinates pairs:\\n', coords, '\\n')\n",
    "\n",
    "if zoomed_coords:\n",
    "    coords /= float(SCALE_FAC)\n",
    "    coords = coords.round()\n",
    "    print('Normal Star coordinates pairs:\\n', coords)\n"
   ]
  },
  {
   "cell_type": "code",
   "execution_count": null,
   "metadata": {},
   "outputs": [],
   "source": [
    "lX = coords[:, 0] # leftX coordinates\n",
    "lY = coords[:, 1] # leftY coordinates\n",
    "rX = coords[:, 2] # rightX coordinates\n",
    "rY = coords[:, 3] # rightY coordinates\n",
    "\n",
    "N = coords.shape[0] # number of pairs of points\n",
    "M = coords.shape[1] # lX, lY, rX, rY == 4\n",
    "print('Number of Star coordinates pairs:', N)"
   ]
  },
  {
   "cell_type": "code",
   "execution_count": null,
   "metadata": {},
   "outputs": [],
   "source": [
    "if consider_distort:\n",
    "    # Get rid of distortions on nlImg\n",
    "    for i in xrange(N): \n",
    "        dist_l = (lX[i] - x_c)**2 + (lY[i] - y_c)**2\n",
    "\n",
    "        zx1 = (lX[i] - x_c) * dist_l\n",
    "        zy1 = (lY[i] - y_c) * dist_l\n",
    "\n",
    "#         lX[round(i - eps1*zx1), round(j - eps2*zy1)] = l_pix[i, j]\n",
    "        lX[i] = lX[i] - eps1 * zx1\n",
    "        lY[i] = lY[i] - eps1 * zy1\n",
    "    \n",
    "    \n",
    "    # Get rid of distortions on nrImg\n",
    "\n",
    "    for i in xrange(N): \n",
    "        dist_r = (rX[i] - x_c)**2 + (rY[i] - y_c)**2\n",
    "\n",
    "        zx2 = (rX[i] - x_c) * dist_r\n",
    "        zy2 = (rY[i] - y_c) * dist_r\n",
    "\n",
    "#             nr_pix[round(i - eps1*zx2), round(j - eps2*zy2)] = r_pix[i, j]\n",
    "        rX[i] = rX[i] - eps2 * zx2\n",
    "        rY[i] = rY[i] - eps2 * zy2\n"
   ]
  },
  {
   "cell_type": "code",
   "execution_count": null,
   "metadata": {},
   "outputs": [],
   "source": [
    "# Calc new (affine transformed) points\n",
    "for i in xrange(N): \n",
    "    lX[i], lY[i] = affine_transform_point(lX[i], lY[i])"
   ]
  },
  {
   "cell_type": "code",
   "execution_count": null,
   "metadata": {},
   "outputs": [],
   "source": [
    "for i in xrange(N): # draw star points\n",
    "    draw.ellipse((lX[i]-ELL_RAD, lY[i]-ELL_RAD, lX[i]+ELL_RAD, lY[i]+ELL_RAD), fill='red')\n",
    "    draw.ellipse((rX[i]-ELL_RAD, rY[i]-ELL_RAD, rX[i]+ELL_RAD, rY[i]+ELL_RAD), fill='blue')"
   ]
  },
  {
   "cell_type": "code",
   "execution_count": null,
   "metadata": {},
   "outputs": [],
   "source": [
    "# Draw central part boundary\n",
    "draw.ellipse((scx_c-CENTER_RAD, scy_c-CENTER_RAD, scx_c+CENTER_RAD, scy_c+CENTER_RAD), outline='black')"
   ]
  },
  {
   "cell_type": "code",
   "execution_count": null,
   "metadata": {},
   "outputs": [],
   "source": [
    "scatter_img"
   ]
  },
  {
   "cell_type": "code",
   "execution_count": null,
   "metadata": {},
   "outputs": [],
   "source": [
    "print(\"Script running time:\", time() - start_time)"
   ]
  },
  {
   "cell_type": "code",
   "execution_count": null,
   "metadata": {},
   "outputs": [],
   "source": [
    "fname_scatter = res_folder\n",
    "\n",
    "if center_only:\n",
    "    fname_scatter += 'center_only_CenRad' + str(CENTER_RAD) + '_'\n",
    "\n",
    "if consider_distort:\n",
    "    scatter_img.save(fname_scatter + date[:-4] + '_shots' + str(num_shots) \\\n",
    "                     + '_scat_dis' + \".jpg\")\n",
    "else:\n",
    "    scatter_img.save(fname_scatter + date[:-4] + '_shots' +  str(num_shots) \\\n",
    "                     + '_scat_aff' + \".jpg\")"
   ]
  },
  {
   "cell_type": "code",
   "execution_count": null,
   "metadata": {},
   "outputs": [],
   "source": []
  }
 ],
 "metadata": {
  "kernelspec": {
   "display_name": "Python 3",
   "language": "python",
   "name": "python3"
  },
  "language_info": {
   "codemirror_mode": {
    "name": "ipython",
    "version": 3
   },
   "file_extension": ".py",
   "mimetype": "text/x-python",
   "name": "python",
   "nbconvert_exporter": "python",
   "pygments_lexer": "ipython3",
   "version": "3.6.4"
  }
 },
 "nbformat": 4,
 "nbformat_minor": 1
}
