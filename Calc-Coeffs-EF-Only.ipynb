{
 "cells": [
  {
   "cell_type": "code",
   "execution_count": 21,
   "metadata": {
    "collapsed": true
   },
   "outputs": [],
   "source": [
    "import os\n",
    "from PIL import Image\n",
    "import numpy as np\n",
    "from numpy.linalg import norm, pinv\n",
    "np.set_printoptions(precision=12, suppress=True)"
   ]
  },
  {
   "cell_type": "code",
   "execution_count": 22,
   "metadata": {
    "collapsed": true
   },
   "outputs": [],
   "source": [
    "consider_distort = False # flag whether to consider distortion\n",
    "zoomed_coords = True # whether to divide coordinates by 5 or not (zoomed coords or not)"
   ]
  },
  {
   "cell_type": "code",
   "execution_count": 23,
   "metadata": {
    "collapsed": true
   },
   "outputs": [],
   "source": [
    "folder_name = 'data/star_coords/spring2016_txt/' # folder with coords files"
   ]
  },
  {
   "cell_type": "code",
   "execution_count": 24,
   "metadata": {
    "collapsed": false
   },
   "outputs": [],
   "source": [
    "# 20160218\n",
    "# fnames = [\n",
    "#     '20160218-201934-437.txt',\n",
    "#     '20160218-211934-484.txt'\n",
    "# ]\n",
    "\n",
    "# 20160219\n",
    "fnames = [\n",
    "    '20160219-001934-484.txt',\n",
    "    '20160219-021934-593.txt',\n",
    "    '20160219-041934-593.txt'\n",
    "]\n",
    "\n",
    "# 20160311\n",
    "# fnames = [\n",
    "#     '20160311-020811-125.txt',\n",
    "#     '20160311-030811-125.txt'\n",
    "# ]"
   ]
  },
  {
   "cell_type": "code",
   "execution_count": 25,
   "metadata": {
    "collapsed": false
   },
   "outputs": [],
   "source": [
    "if consider_distort:\n",
    "    print \"consider_distort is True!\""
   ]
  },
  {
   "cell_type": "code",
   "execution_count": 26,
   "metadata": {
    "collapsed": false
   },
   "outputs": [
    {
     "name": "stdout",
     "output_type": "stream",
     "text": [
      "Zoomed In Star coordinates pairs:\n",
      "[[ 6449.   748.  7662.   888.]\n",
      " [ 5107.   906.  6279.  1084.]\n",
      " [ 4334.  1784.  5504.  1981.]\n",
      " [ 4082.  1798.  5257.  2000.]\n",
      " [ 4239.  3179.  5426.  3381.]\n",
      " [ 4216.  3276.  5405.  3481.]\n",
      " [ 3522.  3067.  4703.  3278.]\n",
      " [ 3273.  4528.  4471.  4738.]\n",
      " [ 2273.  4615.  3476.  4823.]\n",
      " [ 1569.  3144.  2777.  3364.]\n",
      " [ 4901.  1553.  6074.  1741.]\n",
      " [ 5173.  3044.  6374.  3239.]\n",
      " [ 4268.  3959.  5462.  4170.]\n",
      " [ 2848.  3062.  4037.  3275.]\n",
      " [ 3989.  4895.  5192.  5107.]\n",
      " [ 2038.  3885.  3241.  4099.]\n",
      " [ 1507.  1311.  2706.  1569.]\n",
      " [  889.  2208.  2118.  2458.]\n",
      " [ 4919.  3253.  6120.  3457.]\n",
      " [ 3505.  3345.  4689.  3554.]\n",
      " [ 3522.  3383.  4702.  3593.]\n",
      " [ 2743.  2821.  3927.  3038.]\n",
      " [ 1720.  2239.  2920.  2477.]\n",
      " [ 1583.  1260.  2777.  1518.]\n",
      " [ 5512.   199.  6690.   362.]] \n",
      "\n",
      "Normal Star coordinates pairs:\n",
      "[[ 1290.   150.  1532.   178.]\n",
      " [ 1021.   181.  1256.   217.]\n",
      " [  867.   357.  1101.   396.]\n",
      " [  816.   360.  1051.   400.]\n",
      " [  848.   636.  1085.   676.]\n",
      " [  843.   655.  1081.   696.]\n",
      " [  704.   613.   941.   656.]\n",
      " [  655.   906.   894.   948.]\n",
      " [  455.   923.   695.   965.]\n",
      " [  314.   629.   555.   673.]\n",
      " [  980.   311.  1215.   348.]\n",
      " [ 1035.   609.  1275.   648.]\n",
      " [  854.   792.  1092.   834.]\n",
      " [  570.   612.   807.   655.]\n",
      " [  798.   979.  1038.  1021.]\n",
      " [  408.   777.   648.   820.]\n",
      " [  301.   262.   541.   314.]\n",
      " [  178.   442.   424.   492.]\n",
      " [  984.   651.  1224.   691.]\n",
      " [  701.   669.   938.   711.]\n",
      " [  704.   677.   940.   719.]\n",
      " [  549.   564.   785.   608.]\n",
      " [  344.   448.   584.   495.]\n",
      " [  317.   252.   555.   304.]\n",
      " [ 1102.    40.  1338.    72.]]\n"
     ]
    }
   ],
   "source": [
    "coords_list = []\n",
    "for fname in fnames:\n",
    "    piece = np.loadtxt(folder_name + os.sep + fname)\n",
    "    coords_list.append(piece)\n",
    "\n",
    "coords = np.vstack(coords_list)\n",
    "print 'Zoomed In Star coordinates pairs:\\n', coords, '\\n'\n",
    "\n",
    "if zoomed_coords:\n",
    "    coords /= 5.0\n",
    "    coords = coords.round()\n",
    "    print 'Normal Star coordinates pairs:\\n', coords"
   ]
  },
  {
   "cell_type": "code",
   "execution_count": 27,
   "metadata": {
    "collapsed": false
   },
   "outputs": [
    {
     "name": "stdout",
     "output_type": "stream",
     "text": [
      "Number of Star coordinates pairs: 25\n"
     ]
    }
   ],
   "source": [
    "lX = coords[:, 0] # leftX coordinates\n",
    "lY = coords[:, 1] # leftY coordinates\n",
    "rX = coords[:, 2] # rightX coordinates\n",
    "rY = coords[:, 3] # rightY coordinates\n",
    "\n",
    "N = coords.shape[0] # number of pairs of points\n",
    "M = coords.shape[1] # lX, lY, rX, rY == 4\n",
    "print 'Number of Star coordinates pairs:', N"
   ]
  },
  {
   "cell_type": "code",
   "execution_count": 28,
   "metadata": {
    "collapsed": false
   },
   "outputs": [
    {
     "name": "stdout",
     "output_type": "stream",
     "text": [
      "Number of coefficients: 2\n"
     ]
    }
   ],
   "source": [
    "xi = np.zeros(2*N)\n",
    "\n",
    "num_coeffs = 2\n",
    "if consider_distort:\n",
    "    num_coeffs = 8\n",
    "\n",
    "z = np.zeros(num_coeffs)\n",
    "arr = np.zeros((2*N, num_coeffs)) # matrix A\n",
    "print 'Number of coefficients:', num_coeffs"
   ]
  },
  {
   "cell_type": "code",
   "execution_count": 29,
   "metadata": {
    "collapsed": true
   },
   "outputs": [],
   "source": [
    "for i in xrange(N): # fill the xi vector\n",
    "    xi[2*i] = rX[i] - lX[i]\n",
    "    xi[2*i + 1] = rY[i] - lY[i]"
   ]
  },
  {
   "cell_type": "code",
   "execution_count": 30,
   "metadata": {
    "collapsed": false
   },
   "outputs": [],
   "source": [
    "if consider_distort:\n",
    "    im = Image.open('data/stars/2016spring/mod_'+ fnames[0][:-4] +'-1.png')\n",
    "    x_c = im.width / 2.0\n",
    "    y_c = im.height / 2.0\n",
    "    for i in xrange(N): # fill the A matrix\n",
    "        dist_l = (lX[i]-x_c)**2 + (lY[i]-y_c)**2\n",
    "        dist_r = (rX[i]-x_c)**2 + (rY[i]-y_c)**2\n",
    "\n",
    "        zx1 = (lX[i] - x_c) * dist_l\n",
    "        zx2 = (rX[i] - x_c) * dist_r\n",
    "        arr[2*i] = [lX[i], lY[i], 0, 0, 1, 0, -zx1, zx2]\n",
    "\n",
    "        zy1 = (lY[i] - y_c) * dist_l\n",
    "        zy2 = (rY[i] - y_c) * dist_r\n",
    "        arr[2*i + 1] = [0, 0, lX[i], lY[i], 0, 1, -zy1, zy2]\n",
    "\n",
    "else:\n",
    "    for i in xrange(N): # fill the A matrix\n",
    "        arr[2*i] = [1, 0]\n",
    "\n",
    "        arr[2*i + 1] = [0, 1]"
   ]
  },
  {
   "cell_type": "code",
   "execution_count": 31,
   "metadata": {
    "collapsed": false,
    "scrolled": true
   },
   "outputs": [
    {
     "name": "stdout",
     "output_type": "stream",
     "text": [
      "A:\n",
      "[[ 1.  0.]\n",
      " [ 0.  1.]\n",
      " [ 1.  0.]\n",
      " [ 0.  1.]\n",
      " [ 1.  0.]\n",
      " [ 0.  1.]\n",
      " [ 1.  0.]\n",
      " [ 0.  1.]\n",
      " [ 1.  0.]\n",
      " [ 0.  1.]\n",
      " [ 1.  0.]\n",
      " [ 0.  1.]\n",
      " [ 1.  0.]\n",
      " [ 0.  1.]\n",
      " [ 1.  0.]\n",
      " [ 0.  1.]\n",
      " [ 1.  0.]\n",
      " [ 0.  1.]\n",
      " [ 1.  0.]\n",
      " [ 0.  1.]\n",
      " [ 1.  0.]\n",
      " [ 0.  1.]\n",
      " [ 1.  0.]\n",
      " [ 0.  1.]\n",
      " [ 1.  0.]\n",
      " [ 0.  1.]\n",
      " [ 1.  0.]\n",
      " [ 0.  1.]\n",
      " [ 1.  0.]\n",
      " [ 0.  1.]\n",
      " [ 1.  0.]\n",
      " [ 0.  1.]\n",
      " [ 1.  0.]\n",
      " [ 0.  1.]\n",
      " [ 1.  0.]\n",
      " [ 0.  1.]\n",
      " [ 1.  0.]\n",
      " [ 0.  1.]\n",
      " [ 1.  0.]\n",
      " [ 0.  1.]\n",
      " [ 1.  0.]\n",
      " [ 0.  1.]\n",
      " [ 1.  0.]\n",
      " [ 0.  1.]\n",
      " [ 1.  0.]\n",
      " [ 0.  1.]\n",
      " [ 1.  0.]\n",
      " [ 0.  1.]\n",
      " [ 1.  0.]\n",
      " [ 0.  1.]] \n",
      "\n",
      "xi:\n",
      "[ 242.   28.  235.   36.  234.   39.  235.   40.  237.   40.  238.   41.\n",
      "  237.   43.  239.   42.  240.   42.  241.   44.  235.   37.  240.   39.\n",
      "  238.   42.  237.   43.  240.   42.  240.   43.  240.   52.  246.   50.\n",
      "  240.   40.  237.   42.  236.   42.  236.   44.  240.   47.  238.   52.\n",
      "  236.   32.]\n"
     ]
    }
   ],
   "source": [
    "np.set_printoptions(precision=2, suppress=True)\n",
    "print 'A:\\n', arr, '\\n'\n",
    "print 'xi:\\n', xi\n",
    "np.set_printoptions(precision=12, suppress=True)"
   ]
  },
  {
   "cell_type": "code",
   "execution_count": 32,
   "metadata": {
    "collapsed": false
   },
   "outputs": [
    {
     "name": "stdout",
     "output_type": "stream",
     "text": [
      "Affine coefficients: \n",
      "[   1.      0.      0.      1.    238.28   41.68]\n"
     ]
    }
   ],
   "source": [
    "p_arr = pinv(arr)\n",
    "z = np.dot(p_arr, xi)\n",
    "z = np.hstack([1,0,0,1, z])\n",
    "print 'Affine coefficients: \\n', z"
   ]
  },
  {
   "cell_type": "code",
   "execution_count": 33,
   "metadata": {
    "collapsed": false
   },
   "outputs": [
    {
     "name": "stdout",
     "output_type": "stream",
     "text": [
      "cond(A):  1.0\n",
      "Probability: 0.0557828188918\n",
      "Sigma theory: 4.23398945047\n",
      "Sigma practice 2\n"
     ]
    }
   ],
   "source": [
    "sigma = 2 # 2 pix error\n",
    "I = np.eye(2*N)\n",
    "\n",
    "print 'cond(A): ', np.linalg.cond(arr)\n",
    "proba = (2*N - num_coeffs) / norm( np.dot(I - np.dot(arr, p_arr), xi) )**2\n",
    "sig_theory = (1 / proba)**0.5\n",
    "\n",
    "print 'Probability:', proba\n",
    "print 'Sigma theory:', sig_theory\n",
    "print 'Sigma practice', sigma"
   ]
  },
  {
   "cell_type": "code",
   "execution_count": 34,
   "metadata": {
    "collapsed": true
   },
   "outputs": [],
   "source": [
    "res_fname = 'results/spring2016/'\n",
    "\n",
    "if consider_distort:\n",
    "    res_fname += 'affdis_coeffs_shots'\n",
    "else:\n",
    "    res_fname += 'affine_coeffs_shots'\n",
    "\n",
    "res_fname += str(len(fnames)) + '_' + fnames[0]"
   ]
  },
  {
   "cell_type": "code",
   "execution_count": 35,
   "metadata": {
    "collapsed": false
   },
   "outputs": [
    {
     "name": "stdout",
     "output_type": "stream",
     "text": [
      "Coeffs are saved to: results/spring2016/affine_coeffs_shots3_20160219-001934-484.txt\n"
     ]
    }
   ],
   "source": [
    "np.savetxt(res_fname, z, fmt=\"%.10f\")\n",
    "print 'Coeffs are saved to:', res_fname"
   ]
  }
 ],
 "metadata": {
  "kernelspec": {
   "display_name": "Python 2",
   "language": "python",
   "name": "python2"
  },
  "language_info": {
   "codemirror_mode": {
    "name": "ipython",
    "version": 2
   },
   "file_extension": ".py",
   "mimetype": "text/x-python",
   "name": "python",
   "nbconvert_exporter": "python",
   "pygments_lexer": "ipython2",
   "version": "2.7.11"
  }
 },
 "nbformat": 4,
 "nbformat_minor": 0
}
